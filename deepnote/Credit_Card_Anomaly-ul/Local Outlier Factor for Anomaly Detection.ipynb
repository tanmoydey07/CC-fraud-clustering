{
  "cells": [
    {
      "cell_type": "markdown",
      "source": "# What is LOF?\n\nLOF is an unsupervised ML algorithm that identifies outliers with respect to the local neighborhoods as opposed to using the entire data distribution.\n\nThe advantage of using an LOF is identifying points that are outliers relative to a local cluster of points.\n\n",
      "metadata": {
        "deepnote_app_coordinates": {
          "h": 5,
          "w": 12,
          "x": 0,
          "y": 0
        },
        "cell_id": "cd78337cbec64bfa8f21ff64c0f9ea5e",
        "deepnote_cell_type": "markdown"
      },
      "block_group": "a58da105ead04bd59e4d6b68c5b49199"
    },
    {
      "cell_type": "markdown",
      "source": "# Basic idea of LOF: \n\n\nThe local outlier factor is based on a concept of a local density, where locality is given by k nearest neighbors, whose distance is used to estimate the density. By comparing the local density of an object to the local densities of its neighbors, one can identify regions of similar density, and points that have a substantially lower density than their neighbors. These are considered to be outliers.\n    \n    \n    \nComparing the local density of a point with the densities of its neighbors. A has a much lower density than its neighbors.\n",
      "metadata": {
        "deepnote_app_coordinates": {
          "h": 5,
          "w": 12,
          "x": 0,
          "y": 0
        },
        "cell_id": "f6941fd18a504bc28b96c4aacc5d3e1f",
        "deepnote_cell_type": "markdown"
      },
      "block_group": "d64c9d79220949c2b353b0e87cae303e"
    },
    {
      "cell_type": "markdown",
      "source": "The local density is estimated by the typical distance at which a point can be \"reached\" from its neighbors and for that the \"reachability distance\" is used by LOF .\n\nIt is defined as the maximum of the distance between two points and the k-distance of that point. where k-distance(A) will be the distance of the object A to  its k-th nearest neighbor. ",
      "metadata": {
        "deepnote_app_coordinates": {
          "h": 5,
          "w": 12,
          "x": 0,
          "y": 0
        },
        "cell_id": "7d4b57618b2744a98e3c1809b584dcb0",
        "deepnote_cell_type": "markdown"
      },
      "block_group": "3ef76f7e0ad34ae19b1af9cff69f1395"
    },
    {
      "cell_type": "markdown",
      "source": "Hence for points inside the circle the k-distance is considered and for points outside the cluster, the distance between points is considered.\n\nHere reachability distances to all of the k-nearest neighbors of a point are calculated to determine the Local Reachability Density (LRD) of that point. \n\nThe local reachability density is a measure of the density of k-nearest points around a point which is calculated by taking the inverse of the sum of all of the reachability distances of all the k-nearest neighboring points. \n\nHence the closer the points are, the distance is lesser, and the density is more, hence here inverse is taken in the equation.\n\n",
      "metadata": {
        "deepnote_app_coordinates": {
          "h": 5,
          "w": 12,
          "x": 0,
          "y": 0
        },
        "cell_id": "d32494e884eb4947a0e7fa6bf235ee77",
        "deepnote_cell_type": "markdown"
      },
      "block_group": "6bc785fabb8b416b824d811cfecd9b9c"
    },
    {
      "cell_type": "markdown",
      "source": "\n\nThe calculation of Local outlier factor (LOF) is done by taking the ratio of the average of the lrds of k number of neighbors of a point and the lrd of that point. Here is the equation for LOR:",
      "metadata": {
        "deepnote_app_coordinates": {
          "h": 5,
          "w": 12,
          "x": 0,
          "y": 0
        },
        "cell_id": "fe53805b6aa64cb79f5acfafb22aef53",
        "deepnote_cell_type": "markdown"
      },
      "block_group": "e2c3a97a775d4dc5afebbe7d4345c3d9"
    },
    {
      "cell_type": "markdown",
      "source": "Hence if the density of the neighbors and the point are almost equal we can say they are quite similar or \nif the density of the neighbors is lesser than the density of the point we can say the point is inside the cluster\nand if the density of the neighbors is more than the density of the point we can say that the point is an outlier.\n\nLOF == 1,  Similar data point\n\nLOF < 1  , Inlier ( similar data point which is inside the density cluster)\n\nLOF > 1  ,  Outlier",
      "metadata": {
        "deepnote_app_coordinates": {
          "h": 5,
          "w": 12,
          "x": 0,
          "y": 0
        },
        "cell_id": "0a1f4f2312884238ba54c70da9177a3b",
        "deepnote_cell_type": "markdown"
      },
      "block_group": "2ba7bec0e09540f1b7baff8cbf74c849"
    },
    {
      "cell_type": "code",
      "source": "import pandas as pd\nimport matplotlib.pyplot as plt\nimport seaborn as sns\nimport numpy as np\nfrom sklearn.neighbors import LocalOutlierFactor\nfrom numpy import quantile, where, random",
      "metadata": {
        "source_hash": null,
        "execution_start": 1692697370370,
        "execution_millis": 3141,
        "deepnote_app_coordinates": {
          "h": 5,
          "w": 12,
          "x": 0,
          "y": 0
        },
        "deepnote_to_be_reexecuted": false,
        "cell_id": "ec08eff92f7b4f2a9bb22c834fbb30bb",
        "deepnote_cell_type": "code"
      },
      "outputs": [],
      "execution_count": null,
      "block_group": "2654ff5ba2364b14ba0f1370e6912465"
    },
    {
      "cell_type": "code",
      "source": "transaction_data = pd.read_csv(\"/datasets/my-projects/ds_ml/cc-fraud-ul/credit_card_transactional_data.csv\")\ntransaction_data.tail(10)",
      "metadata": {
        "source_hash": null,
        "execution_start": 1692697409254,
        "execution_millis": 1249,
        "deepnote_app_coordinates": {
          "h": 5,
          "w": 12,
          "x": 0,
          "y": 0
        },
        "deepnote_to_be_reexecuted": false,
        "cell_id": "7e680d56f0c0410aab31cd0d4e25a17a",
        "deepnote_cell_type": "code"
      },
      "outputs": [
        {
          "output_type": "execute_result",
          "execution_count": 3,
          "data": {
            "application/vnd.deepnote.dataframe.v3+json": {
              "column_count": 15,
              "row_count": 10,
              "columns": [
                {
                  "name": "Timestamp",
                  "dtype": "float64",
                  "stats": {
                    "unique_count": 10,
                    "nan_count": 0,
                    "min": "16072.22222",
                    "max": "183231.1111",
                    "histogram": [
                      {
                        "bin_start": 16072.22222,
                        "bin_end": 32788.111108,
                        "count": 1
                      },
                      {
                        "bin_start": 32788.111108,
                        "bin_end": 49503.999996,
                        "count": 2
                      },
                      {
                        "bin_start": 49503.999996,
                        "bin_end": 66219.888884,
                        "count": 3
                      },
                      {
                        "bin_start": 66219.888884,
                        "bin_end": 82935.777772,
                        "count": 1
                      },
                      {
                        "bin_start": 82935.777772,
                        "bin_end": 99651.66666,
                        "count": 0
                      },
                      {
                        "bin_start": 99651.66666,
                        "bin_end": 116367.555548,
                        "count": 0
                      },
                      {
                        "bin_start": 116367.555548,
                        "bin_end": 133083.44443600002,
                        "count": 1
                      },
                      {
                        "bin_start": 133083.44443600002,
                        "bin_end": 149799.333324,
                        "count": 0
                      },
                      {
                        "bin_start": 149799.333324,
                        "bin_end": 166515.222212,
                        "count": 0
                      },
                      {
                        "bin_start": 166515.222212,
                        "bin_end": 183231.1111,
                        "count": 2
                      }
                    ]
                  }
                },
                {
                  "name": "Value",
                  "dtype": "float64",
                  "stats": {
                    "unique_count": 10,
                    "nan_count": 0,
                    "min": "3.072",
                    "max": "122.12",
                    "histogram": [
                      {
                        "bin_start": 3.072,
                        "bin_end": 14.9768,
                        "count": 3
                      },
                      {
                        "bin_start": 14.9768,
                        "bin_end": 26.8816,
                        "count": 0
                      },
                      {
                        "bin_start": 26.8816,
                        "bin_end": 38.7864,
                        "count": 2
                      },
                      {
                        "bin_start": 38.7864,
                        "bin_end": 50.6912,
                        "count": 0
                      },
                      {
                        "bin_start": 50.6912,
                        "bin_end": 62.596000000000004,
                        "count": 2
                      },
                      {
                        "bin_start": 62.596000000000004,
                        "bin_end": 74.5008,
                        "count": 0
                      },
                      {
                        "bin_start": 74.5008,
                        "bin_end": 86.4056,
                        "count": 0
                      },
                      {
                        "bin_start": 86.4056,
                        "bin_end": 98.3104,
                        "count": 0
                      },
                      {
                        "bin_start": 98.3104,
                        "bin_end": 110.2152,
                        "count": 2
                      },
                      {
                        "bin_start": 110.2152,
                        "bin_end": 122.12,
                        "count": 1
                      }
                    ]
                  }
                },
                {
                  "name": "C1",
                  "dtype": "float64",
                  "stats": {
                    "unique_count": 8,
                    "nan_count": 2,
                    "min": "-16.08042704",
                    "max": "26.0",
                    "histogram": [
                      {
                        "bin_start": -16.08042704,
                        "bin_end": -11.872384336,
                        "count": 1
                      },
                      {
                        "bin_start": -11.872384336,
                        "bin_end": -7.664341631999999,
                        "count": 0
                      },
                      {
                        "bin_start": -7.664341631999999,
                        "bin_end": -3.456298927999999,
                        "count": 3
                      },
                      {
                        "bin_start": -3.456298927999999,
                        "bin_end": 0.7517437760000014,
                        "count": 2
                      },
                      {
                        "bin_start": 0.7517437760000014,
                        "bin_end": 4.959786480000002,
                        "count": 0
                      },
                      {
                        "bin_start": 4.959786480000002,
                        "bin_end": 9.167829184000002,
                        "count": 1
                      },
                      {
                        "bin_start": 9.167829184000002,
                        "bin_end": 13.375871888000002,
                        "count": 0
                      },
                      {
                        "bin_start": 13.375871888000002,
                        "bin_end": 17.583914592000003,
                        "count": 0
                      },
                      {
                        "bin_start": 17.583914592000003,
                        "bin_end": 21.791957296000003,
                        "count": 0
                      },
                      {
                        "bin_start": 21.791957296000003,
                        "bin_end": 26,
                        "count": 1
                      }
                    ]
                  }
                },
                {
                  "name": "C2",
                  "dtype": "float64",
                  "stats": {
                    "unique_count": 9,
                    "nan_count": 1,
                    "min": "-464.0",
                    "max": "0.482709836",
                    "histogram": [
                      {
                        "bin_start": -464,
                        "bin_end": -417.5517290164,
                        "count": 1
                      },
                      {
                        "bin_start": -417.5517290164,
                        "bin_end": -371.1034580328,
                        "count": 0
                      },
                      {
                        "bin_start": -371.1034580328,
                        "bin_end": -324.6551870492,
                        "count": 0
                      },
                      {
                        "bin_start": -324.6551870492,
                        "bin_end": -278.2069160656,
                        "count": 0
                      },
                      {
                        "bin_start": -278.2069160656,
                        "bin_end": -231.758645082,
                        "count": 0
                      },
                      {
                        "bin_start": -231.758645082,
                        "bin_end": -185.31037409839996,
                        "count": 0
                      },
                      {
                        "bin_start": -185.31037409839996,
                        "bin_end": -138.8621031148,
                        "count": 0
                      },
                      {
                        "bin_start": -138.8621031148,
                        "bin_end": -92.41383213119997,
                        "count": 0
                      },
                      {
                        "bin_start": -92.41383213119997,
                        "bin_end": -45.96556114759994,
                        "count": 0
                      },
                      {
                        "bin_start": -45.96556114759994,
                        "bin_end": 0.482709836,
                        "count": 8
                      }
                    ]
                  }
                },
                {
                  "name": "C3",
                  "dtype": "float64",
                  "stats": {
                    "unique_count": 9,
                    "nan_count": 1,
                    "min": "-476.0",
                    "max": "8.303945634",
                    "histogram": [
                      {
                        "bin_start": -476,
                        "bin_end": -427.5696054366,
                        "count": 1
                      },
                      {
                        "bin_start": -427.5696054366,
                        "bin_end": -379.1392108732,
                        "count": 0
                      },
                      {
                        "bin_start": -379.1392108732,
                        "bin_end": -330.7088163098,
                        "count": 0
                      },
                      {
                        "bin_start": -330.7088163098,
                        "bin_end": -282.2784217464,
                        "count": 0
                      },
                      {
                        "bin_start": -282.2784217464,
                        "bin_end": -233.848027183,
                        "count": 1
                      },
                      {
                        "bin_start": -233.848027183,
                        "bin_end": -185.4176326196,
                        "count": 0
                      },
                      {
                        "bin_start": -185.4176326196,
                        "bin_end": -136.9872380562,
                        "count": 0
                      },
                      {
                        "bin_start": -136.9872380562,
                        "bin_end": -88.5568434928,
                        "count": 0
                      },
                      {
                        "bin_start": -88.5568434928,
                        "bin_end": -40.1264489294,
                        "count": 0
                      },
                      {
                        "bin_start": -40.1264489294,
                        "bin_end": 8.303945634,
                        "count": 7
                      }
                    ]
                  }
                },
                {
                  "name": "C4",
                  "dtype": "float64",
                  "stats": {
                    "unique_count": 10,
                    "nan_count": 0,
                    "min": "-0.030915598",
                    "max": "0.028714231",
                    "histogram": [
                      {
                        "bin_start": -0.030915598,
                        "bin_end": -0.0249526151,
                        "count": 2
                      },
                      {
                        "bin_start": -0.0249526151,
                        "bin_end": -0.018989632200000002,
                        "count": 0
                      },
                      {
                        "bin_start": -0.018989632200000002,
                        "bin_end": -0.013026649300000002,
                        "count": 0
                      },
                      {
                        "bin_start": -0.013026649300000002,
                        "bin_end": -0.0070636664000000016,
                        "count": 0
                      },
                      {
                        "bin_start": -0.0070636664000000016,
                        "bin_end": -0.0011006835000000013,
                        "count": 1
                      },
                      {
                        "bin_start": -0.0011006835000000013,
                        "bin_end": 0.004862299399999995,
                        "count": 2
                      },
                      {
                        "bin_start": 0.004862299399999995,
                        "bin_end": 0.010825282299999999,
                        "count": 0
                      },
                      {
                        "bin_start": 0.010825282299999999,
                        "bin_end": 0.016788265199999996,
                        "count": 2
                      },
                      {
                        "bin_start": 0.016788265199999996,
                        "bin_end": 0.022751248099999993,
                        "count": 2
                      },
                      {
                        "bin_start": 0.022751248099999993,
                        "bin_end": 0.028714231,
                        "count": 1
                      }
                    ]
                  }
                },
                {
                  "name": "C5",
                  "dtype": "float64",
                  "stats": {
                    "unique_count": 10,
                    "nan_count": 0,
                    "min": "-0.276555574",
                    "max": "0.296391437",
                    "histogram": [
                      {
                        "bin_start": -0.276555574,
                        "bin_end": -0.21926087290000001,
                        "count": 1
                      },
                      {
                        "bin_start": -0.21926087290000001,
                        "bin_end": -0.16196617180000003,
                        "count": 2
                      },
                      {
                        "bin_start": -0.16196617180000003,
                        "bin_end": -0.10467147070000005,
                        "count": 0
                      },
                      {
                        "bin_start": -0.10467147070000005,
                        "bin_end": -0.047376769600000035,
                        "count": 1
                      },
                      {
                        "bin_start": -0.047376769600000035,
                        "bin_end": 0.009917931499999977,
                        "count": 1
                      },
                      {
                        "bin_start": 0.009917931499999977,
                        "bin_end": 0.06721263259999993,
                        "count": 0
                      },
                      {
                        "bin_start": 0.06721263259999993,
                        "bin_end": 0.12450733369999994,
                        "count": 1
                      },
                      {
                        "bin_start": 0.12450733369999994,
                        "bin_end": 0.18180203479999996,
                        "count": 2
                      },
                      {
                        "bin_start": 0.18180203479999996,
                        "bin_end": 0.23909673589999997,
                        "count": 1
                      },
                      {
                        "bin_start": 0.23909673589999997,
                        "bin_end": 0.296391437,
                        "count": 1
                      }
                    ]
                  }
                },
                {
                  "name": "C6",
                  "dtype": "float64",
                  "stats": {
                    "unique_count": 8,
                    "nan_count": 2,
                    "min": "-250.0",
                    "max": "2.443863919",
                    "histogram": [
                      {
                        "bin_start": -250,
                        "bin_end": -224.7556136081,
                        "count": 1
                      },
                      {
                        "bin_start": -224.7556136081,
                        "bin_end": -199.51122721619998,
                        "count": 0
                      },
                      {
                        "bin_start": -199.51122721619998,
                        "bin_end": -174.2668408243,
                        "count": 0
                      },
                      {
                        "bin_start": -174.2668408243,
                        "bin_end": -149.0224544324,
                        "count": 0
                      },
                      {
                        "bin_start": -149.0224544324,
                        "bin_end": -123.77806804049999,
                        "count": 0
                      },
                      {
                        "bin_start": -123.77806804049999,
                        "bin_end": -98.53368164860001,
                        "count": 0
                      },
                      {
                        "bin_start": -98.53368164860001,
                        "bin_end": -73.2892952567,
                        "count": 0
                      },
                      {
                        "bin_start": -73.2892952567,
                        "bin_end": -48.04490886479999,
                        "count": 0
                      },
                      {
                        "bin_start": -48.04490886479999,
                        "bin_end": -22.800522472899985,
                        "count": 0
                      },
                      {
                        "bin_start": -22.800522472899985,
                        "bin_end": 2.443863919,
                        "count": 7
                      }
                    ]
                  }
                },
                {
                  "name": "C7",
                  "dtype": "float64",
                  "stats": {
                    "unique_count": 10,
                    "nan_count": 0,
                    "min": "-400.0",
                    "max": "0.304170965",
                    "histogram": [
                      {
                        "bin_start": -400,
                        "bin_end": -359.9695829035,
                        "count": 1
                      },
                      {
                        "bin_start": -359.9695829035,
                        "bin_end": -319.939165807,
                        "count": 0
                      },
                      {
                        "bin_start": -319.939165807,
                        "bin_end": -279.9087487105,
                        "count": 0
                      },
                      {
                        "bin_start": -279.9087487105,
                        "bin_end": -239.878331614,
                        "count": 0
                      },
                      {
                        "bin_start": -239.878331614,
                        "bin_end": -199.8479145175,
                        "count": 0
                      },
                      {
                        "bin_start": -199.8479145175,
                        "bin_end": -159.81749742099998,
                        "count": 0
                      },
                      {
                        "bin_start": -159.81749742099998,
                        "bin_end": -119.78708032449998,
                        "count": 0
                      },
                      {
                        "bin_start": -119.78708032449998,
                        "bin_end": -79.75666322799998,
                        "count": 0
                      },
                      {
                        "bin_start": -79.75666322799998,
                        "bin_end": -39.72624613149998,
                        "count": 0
                      },
                      {
                        "bin_start": -39.72624613149998,
                        "bin_end": 0.304170965,
                        "count": 9
                      }
                    ]
                  }
                },
                {
                  "name": "C8",
                  "dtype": "float64",
                  "stats": {
                    "unique_count": 7,
                    "nan_count": 3,
                    "min": "-0.107400398",
                    "max": "0.159158953",
                    "histogram": [
                      {
                        "bin_start": -0.107400398,
                        "bin_end": -0.0807444629,
                        "count": 1
                      },
                      {
                        "bin_start": -0.0807444629,
                        "bin_end": -0.054088527799999994,
                        "count": 0
                      },
                      {
                        "bin_start": -0.054088527799999994,
                        "bin_end": -0.027432592699999994,
                        "count": 0
                      },
                      {
                        "bin_start": -0.027432592699999994,
                        "bin_end": -0.0007766575999999942,
                        "count": 1
                      },
                      {
                        "bin_start": -0.0007766575999999942,
                        "bin_end": 0.025879277500000006,
                        "count": 3
                      },
                      {
                        "bin_start": 0.025879277500000006,
                        "bin_end": 0.052535212600000006,
                        "count": 1
                      },
                      {
                        "bin_start": 0.052535212600000006,
                        "bin_end": 0.0791911477,
                        "count": 0
                      },
                      {
                        "bin_start": 0.0791911477,
                        "bin_end": 0.1058470828,
                        "count": 0
                      },
                      {
                        "bin_start": 0.1058470828,
                        "bin_end": 0.13250301790000002,
                        "count": 0
                      },
                      {
                        "bin_start": 0.13250301790000002,
                        "bin_end": 0.159158953,
                        "count": 1
                      }
                    ]
                  }
                },
                {
                  "name": "C9",
                  "dtype": "float64",
                  "stats": {
                    "unique_count": 10,
                    "nan_count": 0,
                    "min": "-0.228823067",
                    "max": "0.297503334",
                    "histogram": [
                      {
                        "bin_start": -0.228823067,
                        "bin_end": -0.1761904269,
                        "count": 3
                      },
                      {
                        "bin_start": -0.1761904269,
                        "bin_end": -0.1235577868,
                        "count": 0
                      },
                      {
                        "bin_start": -0.1235577868,
                        "bin_end": -0.0709251467,
                        "count": 2
                      },
                      {
                        "bin_start": -0.0709251467,
                        "bin_end": -0.018292506600000008,
                        "count": 1
                      },
                      {
                        "bin_start": -0.018292506600000008,
                        "bin_end": 0.03434013349999998,
                        "count": 1
                      },
                      {
                        "bin_start": 0.03434013349999998,
                        "bin_end": 0.0869727736,
                        "count": 1
                      },
                      {
                        "bin_start": 0.0869727736,
                        "bin_end": 0.13960541369999996,
                        "count": 0
                      },
                      {
                        "bin_start": 0.13960541369999996,
                        "bin_end": 0.19223805379999998,
                        "count": 1
                      },
                      {
                        "bin_start": 0.19223805379999998,
                        "bin_end": 0.2448706939,
                        "count": 0
                      },
                      {
                        "bin_start": 0.2448706939,
                        "bin_end": 0.297503334,
                        "count": 1
                      }
                    ]
                  }
                },
                {
                  "name": "C10",
                  "dtype": "float64",
                  "stats": {
                    "unique_count": 9,
                    "nan_count": 1,
                    "min": "-231.0",
                    "max": "0.43864447",
                    "histogram": [
                      {
                        "bin_start": -231,
                        "bin_end": -207.856135553,
                        "count": 2
                      },
                      {
                        "bin_start": -207.856135553,
                        "bin_end": -184.712271106,
                        "count": 0
                      },
                      {
                        "bin_start": -184.712271106,
                        "bin_end": -161.568406659,
                        "count": 0
                      },
                      {
                        "bin_start": -161.568406659,
                        "bin_end": -138.424542212,
                        "count": 0
                      },
                      {
                        "bin_start": -138.424542212,
                        "bin_end": -115.280677765,
                        "count": 0
                      },
                      {
                        "bin_start": -115.280677765,
                        "bin_end": -92.13681331799998,
                        "count": 0
                      },
                      {
                        "bin_start": -92.13681331799998,
                        "bin_end": -68.99294887099998,
                        "count": 0
                      },
                      {
                        "bin_start": -68.99294887099998,
                        "bin_end": -45.84908442399998,
                        "count": 0
                      },
                      {
                        "bin_start": -45.84908442399998,
                        "bin_end": -22.705219976999985,
                        "count": 0
                      },
                      {
                        "bin_start": -22.705219976999985,
                        "bin_end": 0.43864447,
                        "count": 7
                      }
                    ]
                  }
                },
                {
                  "name": "C11",
                  "dtype": "float64",
                  "stats": {
                    "unique_count": 10,
                    "nan_count": 0,
                    "min": "-159.0",
                    "max": "0.318505661",
                    "histogram": [
                      {
                        "bin_start": -159,
                        "bin_end": -143.0681494339,
                        "count": 1
                      },
                      {
                        "bin_start": -143.0681494339,
                        "bin_end": -127.13629886780001,
                        "count": 1
                      },
                      {
                        "bin_start": -127.13629886780001,
                        "bin_end": -111.2044483017,
                        "count": 0
                      },
                      {
                        "bin_start": -111.2044483017,
                        "bin_end": -95.2725977356,
                        "count": 0
                      },
                      {
                        "bin_start": -95.2725977356,
                        "bin_end": -79.3407471695,
                        "count": 0
                      },
                      {
                        "bin_start": -79.3407471695,
                        "bin_end": -63.408896603399995,
                        "count": 0
                      },
                      {
                        "bin_start": -63.408896603399995,
                        "bin_end": -47.4770460373,
                        "count": 0
                      },
                      {
                        "bin_start": -47.4770460373,
                        "bin_end": -31.545195471200003,
                        "count": 0
                      },
                      {
                        "bin_start": -31.545195471200003,
                        "bin_end": -15.613344905100007,
                        "count": 0
                      },
                      {
                        "bin_start": -15.613344905100007,
                        "bin_end": 0.318505661,
                        "count": 8
                      }
                    ]
                  }
                },
                {
                  "name": "C12",
                  "dtype": "float64",
                  "stats": {
                    "unique_count": 9,
                    "nan_count": 1,
                    "min": "-119.0",
                    "max": "1.875532695",
                    "histogram": [
                      {
                        "bin_start": -119,
                        "bin_end": -106.9124467305,
                        "count": 1
                      },
                      {
                        "bin_start": -106.9124467305,
                        "bin_end": -94.824893461,
                        "count": 0
                      },
                      {
                        "bin_start": -94.824893461,
                        "bin_end": -82.7373401915,
                        "count": 0
                      },
                      {
                        "bin_start": -82.7373401915,
                        "bin_end": -70.649786922,
                        "count": 0
                      },
                      {
                        "bin_start": -70.649786922,
                        "bin_end": -58.5622336525,
                        "count": 0
                      },
                      {
                        "bin_start": -58.5622336525,
                        "bin_end": -46.47468038299999,
                        "count": 0
                      },
                      {
                        "bin_start": -46.47468038299999,
                        "bin_end": -34.3871271135,
                        "count": 0
                      },
                      {
                        "bin_start": -34.3871271135,
                        "bin_end": -22.299573843999994,
                        "count": 0
                      },
                      {
                        "bin_start": -22.299573843999994,
                        "bin_end": -10.212020574499988,
                        "count": 0
                      },
                      {
                        "bin_start": -10.212020574499988,
                        "bin_end": 1.875532695,
                        "count": 8
                      }
                    ]
                  }
                },
                {
                  "name": "Class",
                  "dtype": "int64",
                  "stats": {
                    "unique_count": 1,
                    "nan_count": 0,
                    "min": "0",
                    "max": "0",
                    "histogram": [
                      {
                        "bin_start": -0.5,
                        "bin_end": -0.4,
                        "count": 0
                      },
                      {
                        "bin_start": -0.4,
                        "bin_end": -0.3,
                        "count": 0
                      },
                      {
                        "bin_start": -0.3,
                        "bin_end": -0.19999999999999996,
                        "count": 0
                      },
                      {
                        "bin_start": -0.19999999999999996,
                        "bin_end": -0.09999999999999998,
                        "count": 0
                      },
                      {
                        "bin_start": -0.09999999999999998,
                        "bin_end": 0,
                        "count": 0
                      },
                      {
                        "bin_start": 0,
                        "bin_end": 0.10000000000000009,
                        "count": 10
                      },
                      {
                        "bin_start": 0.10000000000000009,
                        "bin_end": 0.20000000000000007,
                        "count": 0
                      },
                      {
                        "bin_start": 0.20000000000000007,
                        "bin_end": 0.30000000000000004,
                        "count": 0
                      },
                      {
                        "bin_start": 0.30000000000000004,
                        "bin_end": 0.4,
                        "count": 0
                      },
                      {
                        "bin_start": 0.4,
                        "bin_end": 0.5,
                        "count": 0
                      }
                    ]
                  }
                },
                {
                  "name": "_deepnote_index_column",
                  "dtype": "int64"
                }
              ],
              "rows": [
                {
                  "Timestamp": 65950,
                  "Value": 122.12,
                  "C1": "nan",
                  "C2": 0.482709836,
                  "C3": 5.333861849,
                  "C4": 0.028714231,
                  "C5": -0.181286159,
                  "C6": 0.10938593,
                  "C7": 0.304170965,
                  "C8": 0.023616816,
                  "C9": 0.08124973,
                  "C10": -228,
                  "C11": -159,
                  "C12": 0.55048367,
                  "Class": 0,
                  "_deepnote_index_column": 139990
                },
                {
                  "Timestamp": 129582.2222,
                  "Value": 52.472,
                  "C1": -5.61462151,
                  "C2": -0.156726664,
                  "C3": 8.082914251,
                  "C4": 0.002258435,
                  "C5": 0.163800026,
                  "C6": "nan",
                  "C7": 0.089020695,
                  "C8": 0.040126828,
                  "C9": -0.035838281,
                  "C10": 0.084564033,
                  "C11": -0.407104192,
                  "C12": 1.875532695,
                  "Class": 0,
                  "_deepnote_index_column": 139991
                },
                {
                  "Timestamp": 81861.11111,
                  "Value": 33.64,
                  "C1": "nan",
                  "C2": -0.23161491,
                  "C3": 7.160120311,
                  "C4": -0.030915598,
                  "C5": 0.211954019,
                  "C6": -0.124178273,
                  "C7": -0.028960436,
                  "C8": -0.013935684,
                  "C9": -0.226739516,
                  "C10": -231,
                  "C11": 0.28682265,
                  "C12": -119,
                  "Class": 0,
                  "_deepnote_index_column": 139992
                },
                {
                  "Timestamp": 16072.22222,
                  "Value": 31.2,
                  "C1": -3.154285444,
                  "C2": "nan",
                  "C3": -476,
                  "C4": 0.013394584,
                  "C5": -0.072425692,
                  "C6": -0.163762068,
                  "C7": -400,
                  "C8": -0.107400398,
                  "C9": -0.091013243,
                  "C10": "nan",
                  "C11": -136,
                  "C12": -1.639421523,
                  "Class": 0,
                  "_deepnote_index_column": 139993
                },
                {
                  "Timestamp": 52066.66667,
                  "Value": 100,
                  "C1": -2.055514067,
                  "C2": -464,
                  "C3": "nan",
                  "C4": -0.029407976,
                  "C5": -0.276555574,
                  "C6": -250,
                  "C7": -0.109465243,
                  "C8": 0.004416873,
                  "C9": 0.151706153,
                  "C10": -0.241706459,
                  "C11": 0.077041837,
                  "C12": "nan",
                  "Class": 0,
                  "_deepnote_index_column": 139994
                },
                {
                  "Timestamp": 183231.1111,
                  "Value": 102.68,
                  "C1": 26,
                  "C2": -0.230034875,
                  "C3": -7.050311783,
                  "C4": 0.017125631,
                  "C5": 0.101611333,
                  "C6": 2.443863919,
                  "C7": -0.068998046,
                  "C8": 0.159158953,
                  "C9": -0.106062034,
                  "C10": 0.342778988,
                  "C11": -0.011073116,
                  "C12": 0.809046958,
                  "Class": 0,
                  "_deepnote_index_column": 139995
                },
                {
                  "Timestamp": 169976.6667,
                  "Value": 9.848,
                  "C1": 5.329286754,
                  "C2": -0.151293183,
                  "C3": 8.303945634,
                  "C4": -0.004503679,
                  "C5": -0.040836603,
                  "C6": 1.323421138,
                  "C7": 0.083422208,
                  "C8": 0.007135325,
                  "C9": -0.179372686,
                  "C10": -0.157173381,
                  "C11": 0.318505661,
                  "C12": -1.10663017,
                  "Class": 0,
                  "_deepnote_index_column": 139996
                },
                {
                  "Timestamp": 40377.77778,
                  "Value": 3.072,
                  "C1": -4.025570103,
                  "C2": -0.468904476,
                  "C3": -275,
                  "C4": 0.014958765,
                  "C5": 0.296391437,
                  "C6": 0.609541632,
                  "C7": 0.070729485,
                  "C8": "nan",
                  "C9": 0.029990244,
                  "C10": 0.43864447,
                  "C11": -0.026816374,
                  "C12": -0.107358214,
                  "Class": 0,
                  "_deepnote_index_column": 139997
                },
                {
                  "Timestamp": 58136.66667,
                  "Value": 12.8,
                  "C1": -7.357231765,
                  "C2": 0.319783872,
                  "C3": -6.087797202,
                  "C4": 0.018415862,
                  "C5": 0.167421044,
                  "C6": "nan",
                  "C7": -0.018846759,
                  "C8": "nan",
                  "C9": -0.228823067,
                  "C10": 0.215016413,
                  "C11": -0.027303637,
                  "C12": -1.354673612,
                  "Class": 0,
                  "_deepnote_index_column": 139998
                },
                {
                  "Timestamp": 38507.77778,
                  "Value": 55.2,
                  "C1": -16.08042704,
                  "C2": 0.076155834,
                  "C3": 3.255179521,
                  "C4": -0.0000961,
                  "C5": -0.203998911,
                  "C6": -0.221742146,
                  "C7": -0.182108847,
                  "C8": "nan",
                  "C9": 0.297503334,
                  "C10": -0.449069827,
                  "C11": 0.222637972,
                  "C12": -1.800532713,
                  "Class": 0,
                  "_deepnote_index_column": 139999
                }
              ]
            },
            "text/plain": "           Timestamp    Value         C1          C2          C3        C4  \\\n139990   65950.00000  122.120        NaN    0.482710    5.333862  0.028714   \n139991  129582.22220   52.472  -5.614622   -0.156727    8.082914  0.002258   \n139992   81861.11111   33.640        NaN   -0.231615    7.160120 -0.030916   \n139993   16072.22222   31.200  -3.154285         NaN -476.000000  0.013395   \n139994   52066.66667  100.000  -2.055514 -464.000000         NaN -0.029408   \n139995  183231.11110  102.680  26.000000   -0.230035   -7.050312  0.017126   \n139996  169976.66670    9.848   5.329287   -0.151293    8.303946 -0.004504   \n139997   40377.77778    3.072  -4.025570   -0.468904 -275.000000  0.014959   \n139998   58136.66667   12.800  -7.357232    0.319784   -6.087797  0.018416   \n139999   38507.77778   55.200 -16.080427    0.076156    3.255180 -0.000096   \n\n              C5          C6          C7        C8        C9         C10  \\\n139990 -0.181286    0.109386    0.304171  0.023617  0.081250 -228.000000   \n139991  0.163800         NaN    0.089021  0.040127 -0.035838    0.084564   \n139992  0.211954   -0.124178   -0.028960 -0.013936 -0.226740 -231.000000   \n139993 -0.072426   -0.163762 -400.000000 -0.107400 -0.091013         NaN   \n139994 -0.276556 -250.000000   -0.109465  0.004417  0.151706   -0.241706   \n139995  0.101611    2.443864   -0.068998  0.159159 -0.106062    0.342779   \n139996 -0.040837    1.323421    0.083422  0.007135 -0.179373   -0.157173   \n139997  0.296391    0.609542    0.070729       NaN  0.029990    0.438644   \n139998  0.167421         NaN   -0.018847       NaN -0.228823    0.215016   \n139999 -0.203999   -0.221742   -0.182109       NaN  0.297503   -0.449070   \n\n               C11         C12  Class  \n139990 -159.000000    0.550484      0  \n139991   -0.407104    1.875533      0  \n139992    0.286823 -119.000000      0  \n139993 -136.000000   -1.639422      0  \n139994    0.077042         NaN      0  \n139995   -0.011073    0.809047      0  \n139996    0.318506   -1.106630      0  \n139997   -0.026816   -0.107358      0  \n139998   -0.027304   -1.354674      0  \n139999    0.222638   -1.800533      0  ",
            "text/html": "<div>\n<style scoped>\n    .dataframe tbody tr th:only-of-type {\n        vertical-align: middle;\n    }\n\n    .dataframe tbody tr th {\n        vertical-align: top;\n    }\n\n    .dataframe thead th {\n        text-align: right;\n    }\n</style>\n<table border=\"1\" class=\"dataframe\">\n  <thead>\n    <tr style=\"text-align: right;\">\n      <th></th>\n      <th>Timestamp</th>\n      <th>Value</th>\n      <th>C1</th>\n      <th>C2</th>\n      <th>C3</th>\n      <th>C4</th>\n      <th>C5</th>\n      <th>C6</th>\n      <th>C7</th>\n      <th>C8</th>\n      <th>C9</th>\n      <th>C10</th>\n      <th>C11</th>\n      <th>C12</th>\n      <th>Class</th>\n    </tr>\n  </thead>\n  <tbody>\n    <tr>\n      <th>139990</th>\n      <td>65950.00000</td>\n      <td>122.120</td>\n      <td>NaN</td>\n      <td>0.482710</td>\n      <td>5.333862</td>\n      <td>0.028714</td>\n      <td>-0.181286</td>\n      <td>0.109386</td>\n      <td>0.304171</td>\n      <td>0.023617</td>\n      <td>0.081250</td>\n      <td>-228.000000</td>\n      <td>-159.000000</td>\n      <td>0.550484</td>\n      <td>0</td>\n    </tr>\n    <tr>\n      <th>139991</th>\n      <td>129582.22220</td>\n      <td>52.472</td>\n      <td>-5.614622</td>\n      <td>-0.156727</td>\n      <td>8.082914</td>\n      <td>0.002258</td>\n      <td>0.163800</td>\n      <td>NaN</td>\n      <td>0.089021</td>\n      <td>0.040127</td>\n      <td>-0.035838</td>\n      <td>0.084564</td>\n      <td>-0.407104</td>\n      <td>1.875533</td>\n      <td>0</td>\n    </tr>\n    <tr>\n      <th>139992</th>\n      <td>81861.11111</td>\n      <td>33.640</td>\n      <td>NaN</td>\n      <td>-0.231615</td>\n      <td>7.160120</td>\n      <td>-0.030916</td>\n      <td>0.211954</td>\n      <td>-0.124178</td>\n      <td>-0.028960</td>\n      <td>-0.013936</td>\n      <td>-0.226740</td>\n      <td>-231.000000</td>\n      <td>0.286823</td>\n      <td>-119.000000</td>\n      <td>0</td>\n    </tr>\n    <tr>\n      <th>139993</th>\n      <td>16072.22222</td>\n      <td>31.200</td>\n      <td>-3.154285</td>\n      <td>NaN</td>\n      <td>-476.000000</td>\n      <td>0.013395</td>\n      <td>-0.072426</td>\n      <td>-0.163762</td>\n      <td>-400.000000</td>\n      <td>-0.107400</td>\n      <td>-0.091013</td>\n      <td>NaN</td>\n      <td>-136.000000</td>\n      <td>-1.639422</td>\n      <td>0</td>\n    </tr>\n    <tr>\n      <th>139994</th>\n      <td>52066.66667</td>\n      <td>100.000</td>\n      <td>-2.055514</td>\n      <td>-464.000000</td>\n      <td>NaN</td>\n      <td>-0.029408</td>\n      <td>-0.276556</td>\n      <td>-250.000000</td>\n      <td>-0.109465</td>\n      <td>0.004417</td>\n      <td>0.151706</td>\n      <td>-0.241706</td>\n      <td>0.077042</td>\n      <td>NaN</td>\n      <td>0</td>\n    </tr>\n    <tr>\n      <th>139995</th>\n      <td>183231.11110</td>\n      <td>102.680</td>\n      <td>26.000000</td>\n      <td>-0.230035</td>\n      <td>-7.050312</td>\n      <td>0.017126</td>\n      <td>0.101611</td>\n      <td>2.443864</td>\n      <td>-0.068998</td>\n      <td>0.159159</td>\n      <td>-0.106062</td>\n      <td>0.342779</td>\n      <td>-0.011073</td>\n      <td>0.809047</td>\n      <td>0</td>\n    </tr>\n    <tr>\n      <th>139996</th>\n      <td>169976.66670</td>\n      <td>9.848</td>\n      <td>5.329287</td>\n      <td>-0.151293</td>\n      <td>8.303946</td>\n      <td>-0.004504</td>\n      <td>-0.040837</td>\n      <td>1.323421</td>\n      <td>0.083422</td>\n      <td>0.007135</td>\n      <td>-0.179373</td>\n      <td>-0.157173</td>\n      <td>0.318506</td>\n      <td>-1.106630</td>\n      <td>0</td>\n    </tr>\n    <tr>\n      <th>139997</th>\n      <td>40377.77778</td>\n      <td>3.072</td>\n      <td>-4.025570</td>\n      <td>-0.468904</td>\n      <td>-275.000000</td>\n      <td>0.014959</td>\n      <td>0.296391</td>\n      <td>0.609542</td>\n      <td>0.070729</td>\n      <td>NaN</td>\n      <td>0.029990</td>\n      <td>0.438644</td>\n      <td>-0.026816</td>\n      <td>-0.107358</td>\n      <td>0</td>\n    </tr>\n    <tr>\n      <th>139998</th>\n      <td>58136.66667</td>\n      <td>12.800</td>\n      <td>-7.357232</td>\n      <td>0.319784</td>\n      <td>-6.087797</td>\n      <td>0.018416</td>\n      <td>0.167421</td>\n      <td>NaN</td>\n      <td>-0.018847</td>\n      <td>NaN</td>\n      <td>-0.228823</td>\n      <td>0.215016</td>\n      <td>-0.027304</td>\n      <td>-1.354674</td>\n      <td>0</td>\n    </tr>\n    <tr>\n      <th>139999</th>\n      <td>38507.77778</td>\n      <td>55.200</td>\n      <td>-16.080427</td>\n      <td>0.076156</td>\n      <td>3.255180</td>\n      <td>-0.000096</td>\n      <td>-0.203999</td>\n      <td>-0.221742</td>\n      <td>-0.182109</td>\n      <td>NaN</td>\n      <td>0.297503</td>\n      <td>-0.449070</td>\n      <td>0.222638</td>\n      <td>-1.800533</td>\n      <td>0</td>\n    </tr>\n  </tbody>\n</table>\n</div>"
          },
          "metadata": {}
        }
      ],
      "execution_count": null,
      "block_group": "1965ed09935849f387b8f47611f5ab4b"
    },
    {
      "cell_type": "code",
      "source": "transaction_data.info()",
      "metadata": {
        "source_hash": null,
        "execution_start": 1692697410302,
        "execution_millis": 28,
        "deepnote_app_coordinates": {
          "h": 5,
          "w": 12,
          "x": 0,
          "y": 0
        },
        "deepnote_to_be_reexecuted": false,
        "cell_id": "f5931a2a647740729065c143d2df5973",
        "deepnote_cell_type": "code"
      },
      "outputs": [
        {
          "name": "stdout",
          "text": "<class 'pandas.core.frame.DataFrame'>\nRangeIndex: 140000 entries, 0 to 139999\nData columns (total 15 columns):\n #   Column     Non-Null Count   Dtype  \n---  ------     --------------   -----  \n 0   Timestamp  140000 non-null  float64\n 1   Value      140000 non-null  float64\n 2   C1         116232 non-null  float64\n 3   C2         129731 non-null  float64\n 4   C3         129693 non-null  float64\n 5   C4         140000 non-null  float64\n 6   C5         129678 non-null  float64\n 7   C6         116529 non-null  float64\n 8   C7         125595 non-null  float64\n 9   C8         129645 non-null  float64\n 10  C9         140000 non-null  float64\n 11  C10        129891 non-null  float64\n 12  C11        125695 non-null  float64\n 13  C12        125833 non-null  float64\n 14  Class      140000 non-null  int64  \ndtypes: float64(14), int64(1)\nmemory usage: 16.0 MB\n",
          "output_type": "stream"
        }
      ],
      "execution_count": null,
      "block_group": "14412897853048da9a6036d88d7e4eb0"
    },
    {
      "cell_type": "code",
      "source": "transaction_data['Class'].value_counts()",
      "metadata": {
        "source_hash": null,
        "execution_start": 1692697410317,
        "execution_millis": 11,
        "deepnote_app_coordinates": {
          "h": 5,
          "w": 12,
          "x": 0,
          "y": 0
        },
        "deepnote_to_be_reexecuted": false,
        "cell_id": "b4e68d61eefb489f9225acc14a05623b",
        "deepnote_cell_type": "code"
      },
      "outputs": [
        {
          "output_type": "execute_result",
          "execution_count": 5,
          "data": {
            "text/plain": "0    139747\n1       253\nName: Class, dtype: int64"
          },
          "metadata": {}
        }
      ],
      "execution_count": null,
      "block_group": "4dbfdc50ef6a4aeda7b19187e220daaa"
    },
    {
      "cell_type": "code",
      "source": "sns.countplot(x='Class',data=transaction_data)",
      "metadata": {
        "source_hash": null,
        "execution_start": 1692697410331,
        "execution_millis": 110,
        "deepnote_app_coordinates": {
          "h": 5,
          "w": 12,
          "x": 0,
          "y": 0
        },
        "deepnote_to_be_reexecuted": false,
        "cell_id": "4b17c40e4139418fb3ca46a2fae3824e",
        "deepnote_cell_type": "code"
      },
      "outputs": [
        {
          "output_type": "execute_result",
          "execution_count": 6,
          "data": {
            "text/plain": "<AxesSubplot: xlabel='Class', ylabel='count'>"
          },
          "metadata": {}
        },
        {
          "data": {
            "text/plain": "<Figure size 640x480 with 1 Axes>",
            "image/png": "[encoded data removed]"
          },
          "metadata": {
            "image/png": {
              "width": 597,
              "height": 432
            }
          },
          "output_type": "display_data"
        }
      ],
      "execution_count": null,
      "block_group": "946e678584f74ee09aa118338ebdd5bb"
    },
    {
      "cell_type": "code",
      "source": "transaction_data.describe()",
      "metadata": {
        "source_hash": null,
        "execution_start": 1692697410820,
        "execution_millis": 515,
        "deepnote_app_coordinates": {
          "h": 5,
          "w": 12,
          "x": 0,
          "y": 0
        },
        "deepnote_to_be_reexecuted": false,
        "cell_id": "f5e488f645ea42f88ddf415bd8fe4a0a",
        "deepnote_cell_type": "code"
      },
      "outputs": [
        {
          "output_type": "execute_result",
          "execution_count": 7,
          "data": {
            "application/vnd.deepnote.dataframe.v3+json": {
              "column_count": 15,
              "row_count": 8,
              "columns": [
                {
                  "name": "Timestamp",
                  "dtype": "float64",
                  "stats": {
                    "unique_count": 8,
                    "nan_count": 0,
                    "min": "0.0",
                    "max": "191985.5556",
                    "histogram": [
                      {
                        "bin_start": 0,
                        "bin_end": 19198.55556,
                        "count": 1
                      },
                      {
                        "bin_start": 19198.55556,
                        "bin_end": 38397.11112,
                        "count": 0
                      },
                      {
                        "bin_start": 38397.11112,
                        "bin_end": 57595.66668,
                        "count": 1
                      },
                      {
                        "bin_start": 57595.66668,
                        "bin_end": 76794.22224,
                        "count": 1
                      },
                      {
                        "bin_start": 76794.22224,
                        "bin_end": 95992.77780000001,
                        "count": 1
                      },
                      {
                        "bin_start": 95992.77780000001,
                        "bin_end": 115191.33336,
                        "count": 1
                      },
                      {
                        "bin_start": 115191.33336,
                        "bin_end": 134389.88892,
                        "count": 0
                      },
                      {
                        "bin_start": 134389.88892,
                        "bin_end": 153588.44448,
                        "count": 1
                      },
                      {
                        "bin_start": 153588.44448,
                        "bin_end": 172787.00004,
                        "count": 1
                      },
                      {
                        "bin_start": 172787.00004,
                        "bin_end": 191985.5556,
                        "count": 1
                      }
                    ]
                  }
                },
                {
                  "name": "Value",
                  "dtype": "float64",
                  "stats": {
                    "unique_count": 8,
                    "nan_count": 0,
                    "min": "0.0",
                    "max": "140000.0",
                    "histogram": [
                      {
                        "bin_start": 0,
                        "bin_end": 14000,
                        "count": 6
                      },
                      {
                        "bin_start": 14000,
                        "bin_end": 28000,
                        "count": 1
                      },
                      {
                        "bin_start": 28000,
                        "bin_end": 42000,
                        "count": 0
                      },
                      {
                        "bin_start": 42000,
                        "bin_end": 56000,
                        "count": 0
                      },
                      {
                        "bin_start": 56000,
                        "bin_end": 70000,
                        "count": 0
                      },
                      {
                        "bin_start": 70000,
                        "bin_end": 84000,
                        "count": 0
                      },
                      {
                        "bin_start": 84000,
                        "bin_end": 98000,
                        "count": 0
                      },
                      {
                        "bin_start": 98000,
                        "bin_end": 112000,
                        "count": 0
                      },
                      {
                        "bin_start": 112000,
                        "bin_end": 126000,
                        "count": 0
                      },
                      {
                        "bin_start": 126000,
                        "bin_end": 140000,
                        "count": 1
                      }
                    ]
                  }
                },
                {
                  "name": "C1",
                  "dtype": "float64",
                  "stats": {
                    "unique_count": 8,
                    "nan_count": 0,
                    "min": "-2000.0",
                    "max": "116232.0",
                    "histogram": [
                      {
                        "bin_start": -2000,
                        "bin_end": 9823.2,
                        "count": 7
                      },
                      {
                        "bin_start": 9823.2,
                        "bin_end": 21646.4,
                        "count": 0
                      },
                      {
                        "bin_start": 21646.4,
                        "bin_end": 33469.600000000006,
                        "count": 0
                      },
                      {
                        "bin_start": 33469.600000000006,
                        "bin_end": 45292.8,
                        "count": 0
                      },
                      {
                        "bin_start": 45292.8,
                        "bin_end": 57116,
                        "count": 0
                      },
                      {
                        "bin_start": 57116,
                        "bin_end": 68939.20000000001,
                        "count": 0
                      },
                      {
                        "bin_start": 68939.20000000001,
                        "bin_end": 80762.40000000001,
                        "count": 0
                      },
                      {
                        "bin_start": 80762.40000000001,
                        "bin_end": 92585.6,
                        "count": 0
                      },
                      {
                        "bin_start": 92585.6,
                        "bin_end": 104408.8,
                        "count": 0
                      },
                      {
                        "bin_start": 104408.8,
                        "bin_end": 116232,
                        "count": 1
                      }
                    ]
                  }
                },
                {
                  "name": "C2",
                  "dtype": "float64",
                  "stats": {
                    "unique_count": 8,
                    "nan_count": 0,
                    "min": "-500.0",
                    "max": "129731.0",
                    "histogram": [
                      {
                        "bin_start": -500,
                        "bin_end": 12523.1,
                        "count": 7
                      },
                      {
                        "bin_start": 12523.1,
                        "bin_end": 25546.2,
                        "count": 0
                      },
                      {
                        "bin_start": 25546.2,
                        "bin_end": 38569.3,
                        "count": 0
                      },
                      {
                        "bin_start": 38569.3,
                        "bin_end": 51592.4,
                        "count": 0
                      },
                      {
                        "bin_start": 51592.4,
                        "bin_end": 64615.5,
                        "count": 0
                      },
                      {
                        "bin_start": 64615.5,
                        "bin_end": 77638.6,
                        "count": 0
                      },
                      {
                        "bin_start": 77638.6,
                        "bin_end": 90661.7,
                        "count": 0
                      },
                      {
                        "bin_start": 90661.7,
                        "bin_end": 103684.8,
                        "count": 0
                      },
                      {
                        "bin_start": 103684.8,
                        "bin_end": 116707.90000000001,
                        "count": 0
                      },
                      {
                        "bin_start": 116707.90000000001,
                        "bin_end": 129731,
                        "count": 1
                      }
                    ]
                  }
                },
                {
                  "name": "C3",
                  "dtype": "float64",
                  "stats": {
                    "unique_count": 8,
                    "nan_count": 0,
                    "min": "-500.0",
                    "max": "129693.0",
                    "histogram": [
                      {
                        "bin_start": -500,
                        "bin_end": 12519.3,
                        "count": 7
                      },
                      {
                        "bin_start": 12519.3,
                        "bin_end": 25538.6,
                        "count": 0
                      },
                      {
                        "bin_start": 25538.6,
                        "bin_end": 38557.899999999994,
                        "count": 0
                      },
                      {
                        "bin_start": 38557.899999999994,
                        "bin_end": 51577.2,
                        "count": 0
                      },
                      {
                        "bin_start": 51577.2,
                        "bin_end": 64596.5,
                        "count": 0
                      },
                      {
                        "bin_start": 64596.5,
                        "bin_end": 77615.79999999999,
                        "count": 0
                      },
                      {
                        "bin_start": 77615.79999999999,
                        "bin_end": 90635.09999999999,
                        "count": 0
                      },
                      {
                        "bin_start": 90635.09999999999,
                        "bin_end": 103654.4,
                        "count": 0
                      },
                      {
                        "bin_start": 103654.4,
                        "bin_end": 116673.7,
                        "count": 0
                      },
                      {
                        "bin_start": 116673.7,
                        "bin_end": 129693,
                        "count": 1
                      }
                    ]
                  }
                },
                {
                  "name": "C4",
                  "dtype": "float64",
                  "stats": {
                    "unique_count": 8,
                    "nan_count": 0,
                    "min": "-0.212539898",
                    "max": "140000.0",
                    "histogram": [
                      {
                        "bin_start": -0.212539898,
                        "bin_end": 13999.8087140918,
                        "count": 7
                      },
                      {
                        "bin_start": 13999.8087140918,
                        "bin_end": 27999.8299680816,
                        "count": 0
                      },
                      {
                        "bin_start": 27999.8299680816,
                        "bin_end": 41999.851222071404,
                        "count": 0
                      },
                      {
                        "bin_start": 41999.851222071404,
                        "bin_end": 55999.8724760612,
                        "count": 0
                      },
                      {
                        "bin_start": 55999.8724760612,
                        "bin_end": 69999.893730051,
                        "count": 0
                      },
                      {
                        "bin_start": 69999.893730051,
                        "bin_end": 83999.9149840408,
                        "count": 0
                      },
                      {
                        "bin_start": 83999.9149840408,
                        "bin_end": 97999.9362380306,
                        "count": 0
                      },
                      {
                        "bin_start": 97999.9362380306,
                        "bin_end": 111999.9574920204,
                        "count": 0
                      },
                      {
                        "bin_start": 111999.9574920204,
                        "bin_end": 125999.97874601021,
                        "count": 0
                      },
                      {
                        "bin_start": 125999.97874601021,
                        "bin_end": 140000,
                        "count": 1
                      }
                    ]
                  }
                },
                {
                  "name": "C5",
                  "dtype": "float64",
                  "stats": {
                    "unique_count": 8,
                    "nan_count": 0,
                    "min": "-500.0",
                    "max": "129678.0",
                    "histogram": [
                      {
                        "bin_start": -500,
                        "bin_end": 12517.8,
                        "count": 7
                      },
                      {
                        "bin_start": 12517.8,
                        "bin_end": 25535.6,
                        "count": 0
                      },
                      {
                        "bin_start": 25535.6,
                        "bin_end": 38553.399999999994,
                        "count": 0
                      },
                      {
                        "bin_start": 38553.399999999994,
                        "bin_end": 51571.2,
                        "count": 0
                      },
                      {
                        "bin_start": 51571.2,
                        "bin_end": 64589,
                        "count": 0
                      },
                      {
                        "bin_start": 64589,
                        "bin_end": 77606.79999999999,
                        "count": 0
                      },
                      {
                        "bin_start": 77606.79999999999,
                        "bin_end": 90624.59999999999,
                        "count": 0
                      },
                      {
                        "bin_start": 90624.59999999999,
                        "bin_end": 103642.4,
                        "count": 0
                      },
                      {
                        "bin_start": 103642.4,
                        "bin_end": 116660.2,
                        "count": 0
                      },
                      {
                        "bin_start": 116660.2,
                        "bin_end": 129678,
                        "count": 1
                      }
                    ]
                  }
                },
                {
                  "name": "C6",
                  "dtype": "float64",
                  "stats": {
                    "unique_count": 8,
                    "nan_count": 0,
                    "min": "-2000.0",
                    "max": "116529.0",
                    "histogram": [
                      {
                        "bin_start": -2000,
                        "bin_end": 9852.9,
                        "count": 7
                      },
                      {
                        "bin_start": 9852.9,
                        "bin_end": 21705.8,
                        "count": 0
                      },
                      {
                        "bin_start": 21705.8,
                        "bin_end": 33558.7,
                        "count": 0
                      },
                      {
                        "bin_start": 33558.7,
                        "bin_end": 45411.6,
                        "count": 0
                      },
                      {
                        "bin_start": 45411.6,
                        "bin_end": 57264.5,
                        "count": 0
                      },
                      {
                        "bin_start": 57264.5,
                        "bin_end": 69117.4,
                        "count": 0
                      },
                      {
                        "bin_start": 69117.4,
                        "bin_end": 80970.3,
                        "count": 0
                      },
                      {
                        "bin_start": 80970.3,
                        "bin_end": 92823.2,
                        "count": 0
                      },
                      {
                        "bin_start": 92823.2,
                        "bin_end": 104676.09999999999,
                        "count": 0
                      },
                      {
                        "bin_start": 104676.09999999999,
                        "bin_end": 116529,
                        "count": 1
                      }
                    ]
                  }
                },
                {
                  "name": "C7",
                  "dtype": "float64",
                  "stats": {
                    "unique_count": 8,
                    "nan_count": 0,
                    "min": "-1999.0",
                    "max": "125595.0",
                    "histogram": [
                      {
                        "bin_start": -1999,
                        "bin_end": 10760.4,
                        "count": 7
                      },
                      {
                        "bin_start": 10760.4,
                        "bin_end": 23519.8,
                        "count": 0
                      },
                      {
                        "bin_start": 23519.8,
                        "bin_end": 36279.2,
                        "count": 0
                      },
                      {
                        "bin_start": 36279.2,
                        "bin_end": 49038.6,
                        "count": 0
                      },
                      {
                        "bin_start": 49038.6,
                        "bin_end": 61798,
                        "count": 0
                      },
                      {
                        "bin_start": 61798,
                        "bin_end": 74557.4,
                        "count": 0
                      },
                      {
                        "bin_start": 74557.4,
                        "bin_end": 87316.8,
                        "count": 0
                      },
                      {
                        "bin_start": 87316.8,
                        "bin_end": 100076.2,
                        "count": 0
                      },
                      {
                        "bin_start": 100076.2,
                        "bin_end": 112835.59999999999,
                        "count": 0
                      },
                      {
                        "bin_start": 112835.59999999999,
                        "bin_end": 125595,
                        "count": 1
                      }
                    ]
                  }
                },
                {
                  "name": "C8",
                  "dtype": "float64",
                  "stats": {
                    "unique_count": 8,
                    "nan_count": 0,
                    "min": "-500.0",
                    "max": "129645.0",
                    "histogram": [
                      {
                        "bin_start": -500,
                        "bin_end": 12514.5,
                        "count": 7
                      },
                      {
                        "bin_start": 12514.5,
                        "bin_end": 25529,
                        "count": 0
                      },
                      {
                        "bin_start": 25529,
                        "bin_end": 38543.5,
                        "count": 0
                      },
                      {
                        "bin_start": 38543.5,
                        "bin_end": 51558,
                        "count": 0
                      },
                      {
                        "bin_start": 51558,
                        "bin_end": 64572.5,
                        "count": 0
                      },
                      {
                        "bin_start": 64572.5,
                        "bin_end": 77587,
                        "count": 0
                      },
                      {
                        "bin_start": 77587,
                        "bin_end": 90601.5,
                        "count": 0
                      },
                      {
                        "bin_start": 90601.5,
                        "bin_end": 103616,
                        "count": 0
                      },
                      {
                        "bin_start": 103616,
                        "bin_end": 116630.5,
                        "count": 0
                      },
                      {
                        "bin_start": 116630.5,
                        "bin_end": 129645,
                        "count": 1
                      }
                    ]
                  }
                },
                {
                  "name": "C9",
                  "dtype": "float64",
                  "stats": {
                    "unique_count": 8,
                    "nan_count": 0,
                    "min": "-1.544514714",
                    "max": "140000.0",
                    "histogram": [
                      {
                        "bin_start": -1.544514714,
                        "bin_end": 13998.6099367574,
                        "count": 7
                      },
                      {
                        "bin_start": 13998.6099367574,
                        "bin_end": 27998.7643882288,
                        "count": 0
                      },
                      {
                        "bin_start": 27998.7643882288,
                        "bin_end": 41998.9188397002,
                        "count": 0
                      },
                      {
                        "bin_start": 41998.9188397002,
                        "bin_end": 55999.073291171604,
                        "count": 0
                      },
                      {
                        "bin_start": 55999.073291171604,
                        "bin_end": 69999.22774264301,
                        "count": 0
                      },
                      {
                        "bin_start": 69999.22774264301,
                        "bin_end": 83999.3821941144,
                        "count": 0
                      },
                      {
                        "bin_start": 83999.3821941144,
                        "bin_end": 97999.5366455858,
                        "count": 0
                      },
                      {
                        "bin_start": 97999.5366455858,
                        "bin_end": 111999.6910970572,
                        "count": 0
                      },
                      {
                        "bin_start": 111999.6910970572,
                        "bin_end": 125999.84554852861,
                        "count": 0
                      },
                      {
                        "bin_start": 125999.84554852861,
                        "bin_end": 140000,
                        "count": 1
                      }
                    ]
                  }
                },
                {
                  "name": "C10",
                  "dtype": "float64",
                  "stats": {
                    "unique_count": 8,
                    "nan_count": 0,
                    "min": "-500.0",
                    "max": "129891.0",
                    "histogram": [
                      {
                        "bin_start": -500,
                        "bin_end": 12539.1,
                        "count": 7
                      },
                      {
                        "bin_start": 12539.1,
                        "bin_end": 25578.2,
                        "count": 0
                      },
                      {
                        "bin_start": 25578.2,
                        "bin_end": 38617.3,
                        "count": 0
                      },
                      {
                        "bin_start": 38617.3,
                        "bin_end": 51656.4,
                        "count": 0
                      },
                      {
                        "bin_start": 51656.4,
                        "bin_end": 64695.5,
                        "count": 0
                      },
                      {
                        "bin_start": 64695.5,
                        "bin_end": 77734.6,
                        "count": 0
                      },
                      {
                        "bin_start": 77734.6,
                        "bin_end": 90773.7,
                        "count": 0
                      },
                      {
                        "bin_start": 90773.7,
                        "bin_end": 103812.8,
                        "count": 0
                      },
                      {
                        "bin_start": 103812.8,
                        "bin_end": 116851.90000000001,
                        "count": 0
                      },
                      {
                        "bin_start": 116851.90000000001,
                        "bin_end": 129891,
                        "count": 1
                      }
                    ]
                  }
                },
                {
                  "name": "C11",
                  "dtype": "float64",
                  "stats": {
                    "unique_count": 8,
                    "nan_count": 0,
                    "min": "-1998.0",
                    "max": "125695.0",
                    "histogram": [
                      {
                        "bin_start": -1998,
                        "bin_end": 10771.3,
                        "count": 7
                      },
                      {
                        "bin_start": 10771.3,
                        "bin_end": 23540.6,
                        "count": 0
                      },
                      {
                        "bin_start": 23540.6,
                        "bin_end": 36309.899999999994,
                        "count": 0
                      },
                      {
                        "bin_start": 36309.899999999994,
                        "bin_end": 49079.2,
                        "count": 0
                      },
                      {
                        "bin_start": 49079.2,
                        "bin_end": 61848.5,
                        "count": 0
                      },
                      {
                        "bin_start": 61848.5,
                        "bin_end": 74617.79999999999,
                        "count": 0
                      },
                      {
                        "bin_start": 74617.79999999999,
                        "bin_end": 87387.09999999999,
                        "count": 0
                      },
                      {
                        "bin_start": 87387.09999999999,
                        "bin_end": 100156.4,
                        "count": 0
                      },
                      {
                        "bin_start": 100156.4,
                        "bin_end": 112925.7,
                        "count": 0
                      },
                      {
                        "bin_start": 112925.7,
                        "bin_end": 125695,
                        "count": 1
                      }
                    ]
                  }
                },
                {
                  "name": "C12",
                  "dtype": "float64",
                  "stats": {
                    "unique_count": 8,
                    "nan_count": 0,
                    "min": "-2000.0",
                    "max": "125833.0",
                    "histogram": [
                      {
                        "bin_start": -2000,
                        "bin_end": 10783.3,
                        "count": 7
                      },
                      {
                        "bin_start": 10783.3,
                        "bin_end": 23566.6,
                        "count": 0
                      },
                      {
                        "bin_start": 23566.6,
                        "bin_end": 36349.899999999994,
                        "count": 0
                      },
                      {
                        "bin_start": 36349.899999999994,
                        "bin_end": 49133.2,
                        "count": 0
                      },
                      {
                        "bin_start": 49133.2,
                        "bin_end": 61916.5,
                        "count": 0
                      },
                      {
                        "bin_start": 61916.5,
                        "bin_end": 74699.79999999999,
                        "count": 0
                      },
                      {
                        "bin_start": 74699.79999999999,
                        "bin_end": 87483.09999999999,
                        "count": 0
                      },
                      {
                        "bin_start": 87483.09999999999,
                        "bin_end": 100266.4,
                        "count": 0
                      },
                      {
                        "bin_start": 100266.4,
                        "bin_end": 113049.7,
                        "count": 0
                      },
                      {
                        "bin_start": 113049.7,
                        "bin_end": 125833,
                        "count": 1
                      }
                    ]
                  }
                },
                {
                  "name": "Class",
                  "dtype": "float64",
                  "stats": {
                    "unique_count": 5,
                    "nan_count": 0,
                    "min": "0.0",
                    "max": "140000.0",
                    "histogram": [
                      {
                        "bin_start": 0,
                        "bin_end": 14000,
                        "count": 7
                      },
                      {
                        "bin_start": 14000,
                        "bin_end": 28000,
                        "count": 0
                      },
                      {
                        "bin_start": 28000,
                        "bin_end": 42000,
                        "count": 0
                      },
                      {
                        "bin_start": 42000,
                        "bin_end": 56000,
                        "count": 0
                      },
                      {
                        "bin_start": 56000,
                        "bin_end": 70000,
                        "count": 0
                      },
                      {
                        "bin_start": 70000,
                        "bin_end": 84000,
                        "count": 0
                      },
                      {
                        "bin_start": 84000,
                        "bin_end": 98000,
                        "count": 0
                      },
                      {
                        "bin_start": 98000,
                        "bin_end": 112000,
                        "count": 0
                      },
                      {
                        "bin_start": 112000,
                        "bin_end": 126000,
                        "count": 0
                      },
                      {
                        "bin_start": 126000,
                        "bin_end": 140000,
                        "count": 1
                      }
                    ]
                  }
                },
                {
                  "name": "_deepnote_index_column",
                  "dtype": "object"
                }
              ],
              "rows": [
                {
                  "Timestamp": 140000,
                  "Value": 140000,
                  "C1": 116232,
                  "C2": 129731,
                  "C3": 129693,
                  "C4": 140000,
                  "C5": 129678,
                  "C6": 116529,
                  "C7": 125595,
                  "C8": 129645,
                  "C9": 140000,
                  "C10": 129891,
                  "C11": 125695,
                  "C12": 125833,
                  "Class": 140000,
                  "_deepnote_index_column": "count"
                },
                {
                  "Timestamp": 105334.59269840934,
                  "Value": 71.10288348571427,
                  "C1": -13.647953777785403,
                  "C2": -15.797094399800612,
                  "C3": -16.141105121068154,
                  "C4": 0.00003658405300714289,
                  "C5": -15.54017265241755,
                  "C6": -13.681958821886305,
                  "C7": -14.760373923060534,
                  "C8": -16.067148240637216,
                  "C9": 0.00011900401986428558,
                  "C10": -16.029764036512564,
                  "C11": -15.500080379985349,
                  "C12": -15.491672937302313,
                  "Class": 0.0018071428571428572,
                  "_deepnote_index_column": "mean"
                },
                {
                  "Timestamp": 52763.64169464873,
                  "Value": 212.3596995276458,
                  "C1": 224.59990269114613,
                  "C2": 72.63116496380624,
                  "C3": 74.5851106104758,
                  "C4": 0.031539796381238355,
                  "C5": 72.12051914368959,
                  "C6": 230.87112251202768,
                  "C7": 235.3136043013841,
                  "C8": 73.14824195073646,
                  "C9": 0.21563599929543179,
                  "C10": 73.37854242873227,
                  "C11": 237.28920978779638,
                  "C12": 236.48571275922086,
                  "Class": 0.04247222594549453,
                  "_deepnote_index_column": "std"
                },
                {
                  "Timestamp": 0,
                  "Value": 0,
                  "C1": -2000,
                  "C2": -500,
                  "C3": -500,
                  "C4": -0.212539898,
                  "C5": -500,
                  "C6": -2000,
                  "C7": -1999,
                  "C8": -500,
                  "C9": -1.544514714,
                  "C10": -500,
                  "C11": -1998,
                  "C12": -2000,
                  "Class": 0,
                  "_deepnote_index_column": "min"
                },
                {
                  "Timestamp": 60107.5000025,
                  "Value": 4.4,
                  "C1": -6.4197297385,
                  "C2": -0.2629505345,
                  "C3": -9.288367026,
                  "C4": -0.01773134325,
                  "C5": -0.20554196225,
                  "C6": -1.149444457,
                  "C7": -0.1081289895,
                  "C8": -0.033800476,
                  "C9": -0.1435511,
                  "C10": -0.5097813954999999,
                  "C11": -0.27764175150000003,
                  "C12": -0.596404419,
                  "Class": 0,
                  "_deepnote_index_column": "25%"
                },
                {
                  "Timestamp": 94276.11111,
                  "Value": 17.584,
                  "C1": -1.25001363,
                  "C2": -0.01951961,
                  "C3": -1.739613337,
                  "C4": -0.00013977450000000002,
                  "C5": 0.0009032965,
                  "C6": 0.279867662,
                  "C7": 0.023022632,
                  "C8": -0.005629384,
                  "C9": 0.0037311360000000003,
                  "C10": -0.062414435,
                  "C11": -0.019974636,
                  "C12": 0.007490528,
                  "Class": 0,
                  "_deepnote_index_column": "50%"
                },
                {
                  "Timestamp": 154845.833375,
                  "Value": 61.522000000000006,
                  "C1": 5.06380149,
                  "C2": 0.22073389999999998,
                  "C3": 6.436410658,
                  "C4": 0.01777646025,
                  "C5": 0.20620340125,
                  "C6": 1.092373084,
                  "C7": 0.109776645,
                  "C8": 0.022194214,
                  "C9": 0.14083452024999998,
                  "C10": 0.3272656815,
                  "C11": 0.2245476455,
                  "C12": 0.507399279,
                  "Class": 0,
                  "_deepnote_index_column": "75%"
                },
                {
                  "Timestamp": 191985.5556,
                  "Value": 20552.928,
                  "C1": 2000,
                  "C2": 100,
                  "C3": 196.4012907,
                  "C4": 0.278668271,
                  "C5": 100,
                  "C6": 1999,
                  "C7": 1998,
                  "C8": 100,
                  "C9": 0.858579107,
                  "C10": 100,
                  "C11": 2000,
                  "C12": 1999,
                  "Class": 1,
                  "_deepnote_index_column": "max"
                }
              ]
            },
            "text/plain": "           Timestamp          Value             C1             C2  \\\ncount  140000.000000  140000.000000  116232.000000  129731.000000   \nmean   105334.592698      71.102883     -13.647954     -15.797094   \nstd     52763.641695     212.359700     224.599903      72.631165   \nmin         0.000000       0.000000   -2000.000000    -500.000000   \n25%     60107.500002       4.400000      -6.419730      -0.262951   \n50%     94276.111110      17.584000      -1.250014      -0.019520   \n75%    154845.833375      61.522000       5.063801       0.220734   \nmax    191985.555600   20552.928000    2000.000000     100.000000   \n\n                  C3             C4             C5             C6  \\\ncount  129693.000000  140000.000000  129678.000000  116529.000000   \nmean      -16.141105       0.000037     -15.540173     -13.681959   \nstd        74.585111       0.031540      72.120519     230.871123   \nmin      -500.000000      -0.212540    -500.000000   -2000.000000   \n25%        -9.288367      -0.017731      -0.205542      -1.149444   \n50%        -1.739613      -0.000140       0.000903       0.279868   \n75%         6.436411       0.017776       0.206203       1.092373   \nmax       196.401291       0.278668     100.000000    1999.000000   \n\n                  C7             C8             C9            C10  \\\ncount  125595.000000  129645.000000  140000.000000  129891.000000   \nmean      -14.760374     -16.067148       0.000119     -16.029764   \nstd       235.313604      73.148242       0.215636      73.378542   \nmin     -1999.000000    -500.000000      -1.544515    -500.000000   \n25%        -0.108129      -0.033800      -0.143551      -0.509781   \n50%         0.023023      -0.005629       0.003731      -0.062414   \n75%         0.109777       0.022194       0.140835       0.327266   \nmax      1998.000000     100.000000       0.858579     100.000000   \n\n                 C11            C12          Class  \ncount  125695.000000  125833.000000  140000.000000  \nmean      -15.500080     -15.491673       0.001807  \nstd       237.289210     236.485713       0.042472  \nmin     -1998.000000   -2000.000000       0.000000  \n25%        -0.277642      -0.596404       0.000000  \n50%        -0.019975       0.007491       0.000000  \n75%         0.224548       0.507399       0.000000  \nmax      2000.000000    1999.000000       1.000000  ",
            "text/html": "<div>\n<style scoped>\n    .dataframe tbody tr th:only-of-type {\n        vertical-align: middle;\n    }\n\n    .dataframe tbody tr th {\n        vertical-align: top;\n    }\n\n    .dataframe thead th {\n        text-align: right;\n    }\n</style>\n<table border=\"1\" class=\"dataframe\">\n  <thead>\n    <tr style=\"text-align: right;\">\n      <th></th>\n      <th>Timestamp</th>\n      <th>Value</th>\n      <th>C1</th>\n      <th>C2</th>\n      <th>C3</th>\n      <th>C4</th>\n      <th>C5</th>\n      <th>C6</th>\n      <th>C7</th>\n      <th>C8</th>\n      <th>C9</th>\n      <th>C10</th>\n      <th>C11</th>\n      <th>C12</th>\n      <th>Class</th>\n    </tr>\n  </thead>\n  <tbody>\n    <tr>\n      <th>count</th>\n      <td>140000.000000</td>\n      <td>140000.000000</td>\n      <td>116232.000000</td>\n      <td>129731.000000</td>\n      <td>129693.000000</td>\n      <td>140000.000000</td>\n      <td>129678.000000</td>\n      <td>116529.000000</td>\n      <td>125595.000000</td>\n      <td>129645.000000</td>\n      <td>140000.000000</td>\n      <td>129891.000000</td>\n      <td>125695.000000</td>\n      <td>125833.000000</td>\n      <td>140000.000000</td>\n    </tr>\n    <tr>\n      <th>mean</th>\n      <td>105334.592698</td>\n      <td>71.102883</td>\n      <td>-13.647954</td>\n      <td>-15.797094</td>\n      <td>-16.141105</td>\n      <td>0.000037</td>\n      <td>-15.540173</td>\n      <td>-13.681959</td>\n      <td>-14.760374</td>\n      <td>-16.067148</td>\n      <td>0.000119</td>\n      <td>-16.029764</td>\n      <td>-15.500080</td>\n      <td>-15.491673</td>\n      <td>0.001807</td>\n    </tr>\n    <tr>\n      <th>std</th>\n      <td>52763.641695</td>\n      <td>212.359700</td>\n      <td>224.599903</td>\n      <td>72.631165</td>\n      <td>74.585111</td>\n      <td>0.031540</td>\n      <td>72.120519</td>\n      <td>230.871123</td>\n      <td>235.313604</td>\n      <td>73.148242</td>\n      <td>0.215636</td>\n      <td>73.378542</td>\n      <td>237.289210</td>\n      <td>236.485713</td>\n      <td>0.042472</td>\n    </tr>\n    <tr>\n      <th>min</th>\n      <td>0.000000</td>\n      <td>0.000000</td>\n      <td>-2000.000000</td>\n      <td>-500.000000</td>\n      <td>-500.000000</td>\n      <td>-0.212540</td>\n      <td>-500.000000</td>\n      <td>-2000.000000</td>\n      <td>-1999.000000</td>\n      <td>-500.000000</td>\n      <td>-1.544515</td>\n      <td>-500.000000</td>\n      <td>-1998.000000</td>\n      <td>-2000.000000</td>\n      <td>0.000000</td>\n    </tr>\n    <tr>\n      <th>25%</th>\n      <td>60107.500002</td>\n      <td>4.400000</td>\n      <td>-6.419730</td>\n      <td>-0.262951</td>\n      <td>-9.288367</td>\n      <td>-0.017731</td>\n      <td>-0.205542</td>\n      <td>-1.149444</td>\n      <td>-0.108129</td>\n      <td>-0.033800</td>\n      <td>-0.143551</td>\n      <td>-0.509781</td>\n      <td>-0.277642</td>\n      <td>-0.596404</td>\n      <td>0.000000</td>\n    </tr>\n    <tr>\n      <th>50%</th>\n      <td>94276.111110</td>\n      <td>17.584000</td>\n      <td>-1.250014</td>\n      <td>-0.019520</td>\n      <td>-1.739613</td>\n      <td>-0.000140</td>\n      <td>0.000903</td>\n      <td>0.279868</td>\n      <td>0.023023</td>\n      <td>-0.005629</td>\n      <td>0.003731</td>\n      <td>-0.062414</td>\n      <td>-0.019975</td>\n      <td>0.007491</td>\n      <td>0.000000</td>\n    </tr>\n    <tr>\n      <th>75%</th>\n      <td>154845.833375</td>\n      <td>61.522000</td>\n      <td>5.063801</td>\n      <td>0.220734</td>\n      <td>6.436411</td>\n      <td>0.017776</td>\n      <td>0.206203</td>\n      <td>1.092373</td>\n      <td>0.109777</td>\n      <td>0.022194</td>\n      <td>0.140835</td>\n      <td>0.327266</td>\n      <td>0.224548</td>\n      <td>0.507399</td>\n      <td>0.000000</td>\n    </tr>\n    <tr>\n      <th>max</th>\n      <td>191985.555600</td>\n      <td>20552.928000</td>\n      <td>2000.000000</td>\n      <td>100.000000</td>\n      <td>196.401291</td>\n      <td>0.278668</td>\n      <td>100.000000</td>\n      <td>1999.000000</td>\n      <td>1998.000000</td>\n      <td>100.000000</td>\n      <td>0.858579</td>\n      <td>100.000000</td>\n      <td>2000.000000</td>\n      <td>1999.000000</td>\n      <td>1.000000</td>\n    </tr>\n  </tbody>\n</table>\n</div>"
          },
          "metadata": {}
        }
      ],
      "execution_count": null,
      "block_group": "a8130bfb4a464790b97d475cf4efce0c"
    },
    {
      "cell_type": "code",
      "source": "transaction_data.isnull().sum()",
      "metadata": {
        "source_hash": null,
        "execution_start": 1692697411156,
        "execution_millis": 16,
        "deepnote_app_coordinates": {
          "h": 5,
          "w": 12,
          "x": 0,
          "y": 0
        },
        "deepnote_to_be_reexecuted": false,
        "cell_id": "54cd9eafef3440fe88f0042ad1fa10c5",
        "deepnote_cell_type": "code"
      },
      "outputs": [
        {
          "output_type": "execute_result",
          "execution_count": 8,
          "data": {
            "text/plain": "Timestamp        0\nValue            0\nC1           23768\nC2           10269\nC3           10307\nC4               0\nC5           10322\nC6           23471\nC7           14405\nC8           10355\nC9               0\nC10          10109\nC11          14305\nC12          14167\nClass            0\ndtype: int64"
          },
          "metadata": {}
        }
      ],
      "execution_count": null,
      "block_group": "f2521584ec8345e7baa49f2d4ea0d96a"
    },
    {
      "cell_type": "code",
      "source": "transaction_data = transaction_data.fillna(transaction_data.median())",
      "metadata": {
        "source_hash": null,
        "execution_start": 1692697411172,
        "execution_millis": 38,
        "deepnote_app_coordinates": {
          "h": 5,
          "w": 12,
          "x": 0,
          "y": 0
        },
        "deepnote_to_be_reexecuted": false,
        "cell_id": "8902b0a2c86641ab90a9c434066b368a",
        "deepnote_cell_type": "code"
      },
      "outputs": [],
      "execution_count": null,
      "block_group": "edb23c9c0541448c9b6d217af1346943"
    },
    {
      "cell_type": "code",
      "source": "transaction_data.isnull().sum()",
      "metadata": {
        "source_hash": null,
        "execution_start": 1692697411206,
        "execution_millis": 16,
        "deepnote_app_coordinates": {
          "h": 5,
          "w": 12,
          "x": 0,
          "y": 0
        },
        "deepnote_to_be_reexecuted": false,
        "cell_id": "66bb4d7039b3454797fec0c7846c3205",
        "deepnote_cell_type": "code"
      },
      "outputs": [
        {
          "output_type": "execute_result",
          "execution_count": 10,
          "data": {
            "text/plain": "Timestamp    0\nValue        0\nC1           0\nC2           0\nC3           0\nC4           0\nC5           0\nC6           0\nC7           0\nC8           0\nC9           0\nC10          0\nC11          0\nC12          0\nClass        0\ndtype: int64"
          },
          "metadata": {}
        }
      ],
      "execution_count": null,
      "block_group": "956f6068a6e34efdaab5ec38cbbac2f1"
    },
    {
      "cell_type": "code",
      "source": "sns.heatmap(transaction_data.corr())",
      "metadata": {
        "source_hash": null,
        "execution_start": 1692697411228,
        "execution_millis": 866,
        "deepnote_app_coordinates": {
          "h": 5,
          "w": 12,
          "x": 0,
          "y": 0
        },
        "deepnote_to_be_reexecuted": false,
        "cell_id": "849689f45f3a45439acd2c60e96a2058",
        "deepnote_cell_type": "code"
      },
      "outputs": [
        {
          "output_type": "execute_result",
          "execution_count": 11,
          "data": {
            "text/plain": "<AxesSubplot: >"
          },
          "metadata": {}
        },
        {
          "data": {
            "text/plain": "<Figure size 640x480 with 2 Axes>",
            "image/png": "[encoded data removed]"
          },
          "metadata": {
            "image/png": {
              "width": 579,
              "height": 482
            }
          },
          "output_type": "display_data"
        }
      ],
      "execution_count": null,
      "block_group": "ccef387eb9a84cd5852f42ff1978d175"
    },
    {
      "cell_type": "code",
      "source": "transaction_data.corr()",
      "metadata": {
        "source_hash": null,
        "execution_start": 1692697412151,
        "execution_millis": 687,
        "deepnote_app_coordinates": {
          "h": 5,
          "w": 12,
          "x": 0,
          "y": 0
        },
        "deepnote_to_be_reexecuted": false,
        "cell_id": "7d9a745cdb24410a815cc6e7d26b294c",
        "deepnote_cell_type": "code"
      },
      "outputs": [
        {
          "output_type": "execute_result",
          "execution_count": 12,
          "data": {
            "application/vnd.deepnote.dataframe.v3+json": {
              "column_count": 15,
              "row_count": 15,
              "columns": [
                {
                  "name": "Timestamp",
                  "dtype": "float64",
                  "stats": {
                    "unique_count": 15,
                    "nan_count": 0,
                    "min": "-0.026448964717689243",
                    "max": "1.0",
                    "histogram": [
                      {
                        "bin_start": -0.026448964717689243,
                        "bin_end": 0.07619593175407968,
                        "count": 14
                      },
                      {
                        "bin_start": 0.07619593175407968,
                        "bin_end": 0.17884082822584862,
                        "count": 0
                      },
                      {
                        "bin_start": 0.17884082822584862,
                        "bin_end": 0.2814857246976175,
                        "count": 0
                      },
                      {
                        "bin_start": 0.2814857246976175,
                        "bin_end": 0.38413062116938645,
                        "count": 0
                      },
                      {
                        "bin_start": 0.38413062116938645,
                        "bin_end": 0.4867755176411554,
                        "count": 0
                      },
                      {
                        "bin_start": 0.4867755176411554,
                        "bin_end": 0.5894204141129243,
                        "count": 0
                      },
                      {
                        "bin_start": 0.5894204141129243,
                        "bin_end": 0.6920653105846933,
                        "count": 0
                      },
                      {
                        "bin_start": 0.6920653105846933,
                        "bin_end": 0.7947102070564622,
                        "count": 0
                      },
                      {
                        "bin_start": 0.7947102070564622,
                        "bin_end": 0.8973551035282311,
                        "count": 0
                      },
                      {
                        "bin_start": 0.8973551035282311,
                        "bin_end": 1,
                        "count": 1
                      }
                    ]
                  }
                },
                {
                  "name": "Value",
                  "dtype": "float64",
                  "stats": {
                    "unique_count": 15,
                    "nan_count": 0,
                    "min": "-0.014648565730273563",
                    "max": "1.0",
                    "histogram": [
                      {
                        "bin_start": -0.014648565730273563,
                        "bin_end": 0.08681629084275379,
                        "count": 14
                      },
                      {
                        "bin_start": 0.08681629084275379,
                        "bin_end": 0.18828114741578114,
                        "count": 0
                      },
                      {
                        "bin_start": 0.18828114741578114,
                        "bin_end": 0.2897460039888085,
                        "count": 0
                      },
                      {
                        "bin_start": 0.2897460039888085,
                        "bin_end": 0.39121086056183585,
                        "count": 0
                      },
                      {
                        "bin_start": 0.39121086056183585,
                        "bin_end": 0.4926757171348632,
                        "count": 0
                      },
                      {
                        "bin_start": 0.4926757171348632,
                        "bin_end": 0.5941405737078906,
                        "count": 0
                      },
                      {
                        "bin_start": 0.5941405737078906,
                        "bin_end": 0.6956054302809179,
                        "count": 0
                      },
                      {
                        "bin_start": 0.6956054302809179,
                        "bin_end": 0.7970702868539453,
                        "count": 0
                      },
                      {
                        "bin_start": 0.7970702868539453,
                        "bin_end": 0.8985351434269727,
                        "count": 0
                      },
                      {
                        "bin_start": 0.8985351434269727,
                        "bin_end": 1,
                        "count": 1
                      }
                    ]
                  }
                },
                {
                  "name": "C1",
                  "dtype": "float64",
                  "stats": {
                    "unique_count": 15,
                    "nan_count": 0,
                    "min": "-0.00037586703834841624",
                    "max": "1.0",
                    "histogram": [
                      {
                        "bin_start": -0.00037586703834841624,
                        "bin_end": 0.09966171966548644,
                        "count": 14
                      },
                      {
                        "bin_start": 0.09966171966548644,
                        "bin_end": 0.1996993063693213,
                        "count": 0
                      },
                      {
                        "bin_start": 0.1996993063693213,
                        "bin_end": 0.29973689307315615,
                        "count": 0
                      },
                      {
                        "bin_start": 0.29973689307315615,
                        "bin_end": 0.399774479776991,
                        "count": 0
                      },
                      {
                        "bin_start": 0.399774479776991,
                        "bin_end": 0.4998120664808258,
                        "count": 0
                      },
                      {
                        "bin_start": 0.4998120664808258,
                        "bin_end": 0.5998496531846607,
                        "count": 0
                      },
                      {
                        "bin_start": 0.5998496531846607,
                        "bin_end": 0.6998872398884954,
                        "count": 0
                      },
                      {
                        "bin_start": 0.6998872398884954,
                        "bin_end": 0.7999248265923303,
                        "count": 0
                      },
                      {
                        "bin_start": 0.7999248265923303,
                        "bin_end": 0.8999624132961652,
                        "count": 0
                      },
                      {
                        "bin_start": 0.8999624132961652,
                        "bin_end": 1,
                        "count": 1
                      }
                    ]
                  }
                },
                {
                  "name": "C2",
                  "dtype": "float64",
                  "stats": {
                    "unique_count": 15,
                    "nan_count": 0,
                    "min": "-0.0031739893575918774",
                    "max": "1.0",
                    "histogram": [
                      {
                        "bin_start": -0.0031739893575918774,
                        "bin_end": 0.09714340957816732,
                        "count": 14
                      },
                      {
                        "bin_start": 0.09714340957816732,
                        "bin_end": 0.1974608085139265,
                        "count": 0
                      },
                      {
                        "bin_start": 0.1974608085139265,
                        "bin_end": 0.2977782074496857,
                        "count": 0
                      },
                      {
                        "bin_start": 0.2977782074496857,
                        "bin_end": 0.3980956063854449,
                        "count": 0
                      },
                      {
                        "bin_start": 0.3980956063854449,
                        "bin_end": 0.4984130053212041,
                        "count": 0
                      },
                      {
                        "bin_start": 0.4984130053212041,
                        "bin_end": 0.5987304042569633,
                        "count": 0
                      },
                      {
                        "bin_start": 0.5987304042569633,
                        "bin_end": 0.6990478031927225,
                        "count": 0
                      },
                      {
                        "bin_start": 0.6990478031927225,
                        "bin_end": 0.7993652021284817,
                        "count": 0
                      },
                      {
                        "bin_start": 0.7993652021284817,
                        "bin_end": 0.8996826010642409,
                        "count": 0
                      },
                      {
                        "bin_start": 0.8996826010642409,
                        "bin_end": 1,
                        "count": 1
                      }
                    ]
                  }
                },
                {
                  "name": "C3",
                  "dtype": "float64",
                  "stats": {
                    "unique_count": 15,
                    "nan_count": 0,
                    "min": "-0.0014015562682766275",
                    "max": "1.0",
                    "histogram": [
                      {
                        "bin_start": -0.0014015562682766275,
                        "bin_end": 0.09873859935855103,
                        "count": 14
                      },
                      {
                        "bin_start": 0.09873859935855103,
                        "bin_end": 0.1988787549853787,
                        "count": 0
                      },
                      {
                        "bin_start": 0.1988787549853787,
                        "bin_end": 0.2990189106122063,
                        "count": 0
                      },
                      {
                        "bin_start": 0.2990189106122063,
                        "bin_end": 0.39915906623903397,
                        "count": 0
                      },
                      {
                        "bin_start": 0.39915906623903397,
                        "bin_end": 0.4992992218658616,
                        "count": 0
                      },
                      {
                        "bin_start": 0.4992992218658616,
                        "bin_end": 0.5994393774926893,
                        "count": 0
                      },
                      {
                        "bin_start": 0.5994393774926893,
                        "bin_end": 0.6995795331195169,
                        "count": 0
                      },
                      {
                        "bin_start": 0.6995795331195169,
                        "bin_end": 0.7997196887463446,
                        "count": 0
                      },
                      {
                        "bin_start": 0.7997196887463446,
                        "bin_end": 0.8998598443731722,
                        "count": 0
                      },
                      {
                        "bin_start": 0.8998598443731722,
                        "bin_end": 1,
                        "count": 1
                      }
                    ]
                  }
                },
                {
                  "name": "C4",
                  "dtype": "float64",
                  "stats": {
                    "unique_count": 15,
                    "nan_count": 0,
                    "min": "-0.032692043622882104",
                    "max": "1.0",
                    "histogram": [
                      {
                        "bin_start": -0.032692043622882104,
                        "bin_end": 0.07057716073940612,
                        "count": 14
                      },
                      {
                        "bin_start": 0.07057716073940612,
                        "bin_end": 0.17384636510169432,
                        "count": 0
                      },
                      {
                        "bin_start": 0.17384636510169432,
                        "bin_end": 0.2771155694639826,
                        "count": 0
                      },
                      {
                        "bin_start": 0.2771155694639826,
                        "bin_end": 0.3803847738262708,
                        "count": 0
                      },
                      {
                        "bin_start": 0.3803847738262708,
                        "bin_end": 0.483653978188559,
                        "count": 0
                      },
                      {
                        "bin_start": 0.483653978188559,
                        "bin_end": 0.5869231825508472,
                        "count": 0
                      },
                      {
                        "bin_start": 0.5869231825508472,
                        "bin_end": 0.6901923869131353,
                        "count": 0
                      },
                      {
                        "bin_start": 0.6901923869131353,
                        "bin_end": 0.7934615912754236,
                        "count": 0
                      },
                      {
                        "bin_start": 0.7934615912754236,
                        "bin_end": 0.8967307956377119,
                        "count": 0
                      },
                      {
                        "bin_start": 0.8967307956377119,
                        "bin_end": 1,
                        "count": 1
                      }
                    ]
                  }
                },
                {
                  "name": "C5",
                  "dtype": "float64",
                  "stats": {
                    "unique_count": 15,
                    "nan_count": 0,
                    "min": "-0.005722500568691444",
                    "max": "1.0",
                    "histogram": [
                      {
                        "bin_start": -0.005722500568691444,
                        "bin_end": 0.09484974948817769,
                        "count": 14
                      },
                      {
                        "bin_start": 0.09484974948817769,
                        "bin_end": 0.19542199954504683,
                        "count": 0
                      },
                      {
                        "bin_start": 0.19542199954504683,
                        "bin_end": 0.29599424960191595,
                        "count": 0
                      },
                      {
                        "bin_start": 0.29599424960191595,
                        "bin_end": 0.3965664996587851,
                        "count": 0
                      },
                      {
                        "bin_start": 0.3965664996587851,
                        "bin_end": 0.49713874971565425,
                        "count": 0
                      },
                      {
                        "bin_start": 0.49713874971565425,
                        "bin_end": 0.5977109997725234,
                        "count": 0
                      },
                      {
                        "bin_start": 0.5977109997725234,
                        "bin_end": 0.6982832498293926,
                        "count": 0
                      },
                      {
                        "bin_start": 0.6982832498293926,
                        "bin_end": 0.7988554998862617,
                        "count": 0
                      },
                      {
                        "bin_start": 0.7988554998862617,
                        "bin_end": 0.8994277499431308,
                        "count": 0
                      },
                      {
                        "bin_start": 0.8994277499431308,
                        "bin_end": 1,
                        "count": 1
                      }
                    ]
                  }
                },
                {
                  "name": "C6",
                  "dtype": "float64",
                  "stats": {
                    "unique_count": 15,
                    "nan_count": 0,
                    "min": "-0.003850990580810579",
                    "max": "1.0",
                    "histogram": [
                      {
                        "bin_start": -0.003850990580810579,
                        "bin_end": 0.09653410847727048,
                        "count": 14
                      },
                      {
                        "bin_start": 0.09653410847727048,
                        "bin_end": 0.19691920753535153,
                        "count": 0
                      },
                      {
                        "bin_start": 0.19691920753535153,
                        "bin_end": 0.2973043065934326,
                        "count": 0
                      },
                      {
                        "bin_start": 0.2973043065934326,
                        "bin_end": 0.39768940565151367,
                        "count": 0
                      },
                      {
                        "bin_start": 0.39768940565151367,
                        "bin_end": 0.49807450470959475,
                        "count": 0
                      },
                      {
                        "bin_start": 0.49807450470959475,
                        "bin_end": 0.5984596037676757,
                        "count": 0
                      },
                      {
                        "bin_start": 0.5984596037676757,
                        "bin_end": 0.6988447028257568,
                        "count": 0
                      },
                      {
                        "bin_start": 0.6988447028257568,
                        "bin_end": 0.7992298018838379,
                        "count": 0
                      },
                      {
                        "bin_start": 0.7992298018838379,
                        "bin_end": 0.8996149009419189,
                        "count": 0
                      },
                      {
                        "bin_start": 0.8996149009419189,
                        "bin_end": 1,
                        "count": 1
                      }
                    ]
                  }
                },
                {
                  "name": "C7",
                  "dtype": "float64",
                  "stats": {
                    "unique_count": 15,
                    "nan_count": 0,
                    "min": "-0.005153301212441504",
                    "max": "1.0",
                    "histogram": [
                      {
                        "bin_start": -0.005153301212441504,
                        "bin_end": 0.09536202890880263,
                        "count": 14
                      },
                      {
                        "bin_start": 0.09536202890880263,
                        "bin_end": 0.19587735903004677,
                        "count": 0
                      },
                      {
                        "bin_start": 0.19587735903004677,
                        "bin_end": 0.2963926891512909,
                        "count": 0
                      },
                      {
                        "bin_start": 0.2963926891512909,
                        "bin_end": 0.39690801927253505,
                        "count": 0
                      },
                      {
                        "bin_start": 0.39690801927253505,
                        "bin_end": 0.4974233493937792,
                        "count": 0
                      },
                      {
                        "bin_start": 0.4974233493937792,
                        "bin_end": 0.5979386795150233,
                        "count": 0
                      },
                      {
                        "bin_start": 0.5979386795150233,
                        "bin_end": 0.6984540096362675,
                        "count": 0
                      },
                      {
                        "bin_start": 0.6984540096362675,
                        "bin_end": 0.7989693397575116,
                        "count": 0
                      },
                      {
                        "bin_start": 0.7989693397575116,
                        "bin_end": 0.8994846698787557,
                        "count": 0
                      },
                      {
                        "bin_start": 0.8994846698787557,
                        "bin_end": 1,
                        "count": 1
                      }
                    ]
                  }
                },
                {
                  "name": "C8",
                  "dtype": "float64",
                  "stats": {
                    "unique_count": 15,
                    "nan_count": 0,
                    "min": "-0.0037724199688654943",
                    "max": "1.0",
                    "histogram": [
                      {
                        "bin_start": -0.0037724199688654943,
                        "bin_end": 0.09660482202802105,
                        "count": 14
                      },
                      {
                        "bin_start": 0.09660482202802105,
                        "bin_end": 0.19698206402490762,
                        "count": 0
                      },
                      {
                        "bin_start": 0.19698206402490762,
                        "bin_end": 0.2973593060217941,
                        "count": 0
                      },
                      {
                        "bin_start": 0.2973593060217941,
                        "bin_end": 0.3977365480186807,
                        "count": 0
                      },
                      {
                        "bin_start": 0.3977365480186807,
                        "bin_end": 0.49811379001556727,
                        "count": 0
                      },
                      {
                        "bin_start": 0.49811379001556727,
                        "bin_end": 0.5984910320124538,
                        "count": 0
                      },
                      {
                        "bin_start": 0.5984910320124538,
                        "bin_end": 0.6988682740093404,
                        "count": 0
                      },
                      {
                        "bin_start": 0.6988682740093404,
                        "bin_end": 0.799245516006227,
                        "count": 0
                      },
                      {
                        "bin_start": 0.799245516006227,
                        "bin_end": 0.8996227580031135,
                        "count": 0
                      },
                      {
                        "bin_start": 0.8996227580031135,
                        "bin_end": 1,
                        "count": 1
                      }
                    ]
                  }
                },
                {
                  "name": "C9",
                  "dtype": "float64",
                  "stats": {
                    "unique_count": 15,
                    "nan_count": 0,
                    "min": "-0.014648565730273563",
                    "max": "1.0",
                    "histogram": [
                      {
                        "bin_start": -0.014648565730273563,
                        "bin_end": 0.08681629084275379,
                        "count": 14
                      },
                      {
                        "bin_start": 0.08681629084275379,
                        "bin_end": 0.18828114741578114,
                        "count": 0
                      },
                      {
                        "bin_start": 0.18828114741578114,
                        "bin_end": 0.2897460039888085,
                        "count": 0
                      },
                      {
                        "bin_start": 0.2897460039888085,
                        "bin_end": 0.39121086056183585,
                        "count": 0
                      },
                      {
                        "bin_start": 0.39121086056183585,
                        "bin_end": 0.4926757171348632,
                        "count": 0
                      },
                      {
                        "bin_start": 0.4926757171348632,
                        "bin_end": 0.5941405737078906,
                        "count": 0
                      },
                      {
                        "bin_start": 0.5941405737078906,
                        "bin_end": 0.6956054302809179,
                        "count": 0
                      },
                      {
                        "bin_start": 0.6956054302809179,
                        "bin_end": 0.7970702868539453,
                        "count": 0
                      },
                      {
                        "bin_start": 0.7970702868539453,
                        "bin_end": 0.8985351434269727,
                        "count": 0
                      },
                      {
                        "bin_start": 0.8985351434269727,
                        "bin_end": 1,
                        "count": 1
                      }
                    ]
                  }
                },
                {
                  "name": "C10",
                  "dtype": "float64",
                  "stats": {
                    "unique_count": 15,
                    "nan_count": 0,
                    "min": "-0.002209159568642636",
                    "max": "1.0",
                    "histogram": [
                      {
                        "bin_start": -0.002209159568642636,
                        "bin_end": 0.09801175638822163,
                        "count": 14
                      },
                      {
                        "bin_start": 0.09801175638822163,
                        "bin_end": 0.19823267234508588,
                        "count": 0
                      },
                      {
                        "bin_start": 0.19823267234508588,
                        "bin_end": 0.2984535883019501,
                        "count": 0
                      },
                      {
                        "bin_start": 0.2984535883019501,
                        "bin_end": 0.3986745042588144,
                        "count": 0
                      },
                      {
                        "bin_start": 0.3986745042588144,
                        "bin_end": 0.4988954202156787,
                        "count": 0
                      },
                      {
                        "bin_start": 0.4988954202156787,
                        "bin_end": 0.5991163361725429,
                        "count": 0
                      },
                      {
                        "bin_start": 0.5991163361725429,
                        "bin_end": 0.6993372521294072,
                        "count": 0
                      },
                      {
                        "bin_start": 0.6993372521294072,
                        "bin_end": 0.7995581680862714,
                        "count": 0
                      },
                      {
                        "bin_start": 0.7995581680862714,
                        "bin_end": 0.8997790840431357,
                        "count": 0
                      },
                      {
                        "bin_start": 0.8997790840431357,
                        "bin_end": 1,
                        "count": 1
                      }
                    ]
                  }
                },
                {
                  "name": "C11",
                  "dtype": "float64",
                  "stats": {
                    "unique_count": 15,
                    "nan_count": 0,
                    "min": "-0.0029180494976959615",
                    "max": "1.0",
                    "histogram": [
                      {
                        "bin_start": -0.0029180494976959615,
                        "bin_end": 0.09737375545207363,
                        "count": 14
                      },
                      {
                        "bin_start": 0.09737375545207363,
                        "bin_end": 0.19766556040184322,
                        "count": 0
                      },
                      {
                        "bin_start": 0.19766556040184322,
                        "bin_end": 0.2979573653516128,
                        "count": 0
                      },
                      {
                        "bin_start": 0.2979573653516128,
                        "bin_end": 0.3982491703013824,
                        "count": 0
                      },
                      {
                        "bin_start": 0.3982491703013824,
                        "bin_end": 0.498540975251152,
                        "count": 0
                      },
                      {
                        "bin_start": 0.498540975251152,
                        "bin_end": 0.5988327802009217,
                        "count": 0
                      },
                      {
                        "bin_start": 0.5988327802009217,
                        "bin_end": 0.6991245851506912,
                        "count": 0
                      },
                      {
                        "bin_start": 0.6991245851506912,
                        "bin_end": 0.7994163901004608,
                        "count": 0
                      },
                      {
                        "bin_start": 0.7994163901004608,
                        "bin_end": 0.8997081950502305,
                        "count": 0
                      },
                      {
                        "bin_start": 0.8997081950502305,
                        "bin_end": 1,
                        "count": 1
                      }
                    ]
                  }
                },
                {
                  "name": "C12",
                  "dtype": "float64",
                  "stats": {
                    "unique_count": 15,
                    "nan_count": 0,
                    "min": "-0.0031739893575918774",
                    "max": "1.0",
                    "histogram": [
                      {
                        "bin_start": -0.0031739893575918774,
                        "bin_end": 0.09714340957816732,
                        "count": 14
                      },
                      {
                        "bin_start": 0.09714340957816732,
                        "bin_end": 0.1974608085139265,
                        "count": 0
                      },
                      {
                        "bin_start": 0.1974608085139265,
                        "bin_end": 0.2977782074496857,
                        "count": 0
                      },
                      {
                        "bin_start": 0.2977782074496857,
                        "bin_end": 0.3980956063854449,
                        "count": 0
                      },
                      {
                        "bin_start": 0.3980956063854449,
                        "bin_end": 0.4984130053212041,
                        "count": 0
                      },
                      {
                        "bin_start": 0.4984130053212041,
                        "bin_end": 0.5987304042569633,
                        "count": 0
                      },
                      {
                        "bin_start": 0.5987304042569633,
                        "bin_end": 0.6990478031927225,
                        "count": 0
                      },
                      {
                        "bin_start": 0.6990478031927225,
                        "bin_end": 0.7993652021284817,
                        "count": 0
                      },
                      {
                        "bin_start": 0.7993652021284817,
                        "bin_end": 0.8996826010642409,
                        "count": 0
                      },
                      {
                        "bin_start": 0.8996826010642409,
                        "bin_end": 1,
                        "count": 1
                      }
                    ]
                  }
                },
                {
                  "name": "Class",
                  "dtype": "float64",
                  "stats": {
                    "unique_count": 15,
                    "nan_count": 0,
                    "min": "-0.032692043622882104",
                    "max": "1.0",
                    "histogram": [
                      {
                        "bin_start": -0.032692043622882104,
                        "bin_end": 0.07057716073940612,
                        "count": 14
                      },
                      {
                        "bin_start": 0.07057716073940612,
                        "bin_end": 0.17384636510169432,
                        "count": 0
                      },
                      {
                        "bin_start": 0.17384636510169432,
                        "bin_end": 0.2771155694639826,
                        "count": 0
                      },
                      {
                        "bin_start": 0.2771155694639826,
                        "bin_end": 0.3803847738262708,
                        "count": 0
                      },
                      {
                        "bin_start": 0.3803847738262708,
                        "bin_end": 0.483653978188559,
                        "count": 0
                      },
                      {
                        "bin_start": 0.483653978188559,
                        "bin_end": 0.5869231825508472,
                        "count": 0
                      },
                      {
                        "bin_start": 0.5869231825508472,
                        "bin_end": 0.6901923869131353,
                        "count": 0
                      },
                      {
                        "bin_start": 0.6901923869131353,
                        "bin_end": 0.7934615912754236,
                        "count": 0
                      },
                      {
                        "bin_start": 0.7934615912754236,
                        "bin_end": 0.8967307956377119,
                        "count": 0
                      },
                      {
                        "bin_start": 0.8967307956377119,
                        "bin_end": 1,
                        "count": 1
                      }
                    ]
                  }
                },
                {
                  "name": "_deepnote_index_column",
                  "dtype": "object"
                }
              ],
              "rows": [
                {
                  "Timestamp": 1,
                  "Value": -0.01046529827594714,
                  "C1": 0.010989884604570947,
                  "C2": 0.004185556946936641,
                  "C3": -0.0011118225974735547,
                  "C4": -0.026448964717689243,
                  "C5": -0.005722500568691444,
                  "C6": 0.004022485723490373,
                  "C7": 0.0012879379145690688,
                  "C8": 0.00022587566205894326,
                  "C9": 0.06779931732026198,
                  "C10": -0.00040283233106847314,
                  "C11": 0.0012042848879509625,
                  "C12": -0.001167670371006601,
                  "Class": -0.009993566406431767,
                  "_deepnote_index_column": "Timestamp"
                },
                {
                  "Timestamp": -0.01046529827594714,
                  "Value": 1,
                  "C1": 0.006462987073164642,
                  "C2": -0.0015353145600450215,
                  "C3": -0.0002051381418382039,
                  "C4": 0.06155696400717624,
                  "C5": -0.00558230748901782,
                  "C6": 0.0002245016928953423,
                  "C7": -0.0018036376443719402,
                  "C8": -0.0030255667428458954,
                  "C9": -0.014648565730273563,
                  "C10": 0.0031319515792955547,
                  "C11": -0.001534676427383834,
                  "C12": 0.0030816579419600614,
                  "Class": 0.007095382700382825,
                  "_deepnote_index_column": "Value"
                },
                {
                  "Timestamp": 0.010989884604570947,
                  "Value": 0.006462987073164642,
                  "C1": 1,
                  "C2": 0.002644765599122935,
                  "C3": 0.0018987478912787356,
                  "C4": 0.0001362943437390868,
                  "C5": 0.0021163670297947366,
                  "C6": 0.0014071986002482657,
                  "C7": 0.001284493689923499,
                  "C8": 0.0029116649993499743,
                  "C9": -0.00037586703834841624,
                  "C10": 0.0007732165727388187,
                  "C11": 0.0008427469212677386,
                  "C12": 0.0001367566136501465,
                  "Class": 0.007301396648833987,
                  "_deepnote_index_column": "C1"
                },
                {
                  "Timestamp": 0.004185556946936641,
                  "Value": -0.0015353145600450215,
                  "C1": 0.002644765599122935,
                  "C2": 1,
                  "C3": 0.0025970567944885586,
                  "C4": 0.0016424363163301404,
                  "C5": -0.0016575091018891847,
                  "C6": 0.0008657590317708942,
                  "C7": 0.004249161880003304,
                  "C8": 0.00006536541242677659,
                  "C9": 0.004492775320623517,
                  "C10": -0.0007133277059394917,
                  "C11": 0.0009003583979117541,
                  "C12": -0.0031739893575918774,
                  "Class": -0.0010126533467286858,
                  "_deepnote_index_column": "C2"
                },
                {
                  "Timestamp": -0.0011118225974735547,
                  "Value": -0.0002051381418382039,
                  "C1": 0.0018987478912787356,
                  "C2": 0.0025970567944885586,
                  "C3": 1,
                  "C4": 0.005302820194876961,
                  "C5": -0.0012179671983470863,
                  "C6": 0.006359842840028597,
                  "C7": 0.0010558400691941237,
                  "C8": -0.0014015562682766275,
                  "C9": 0.0033683775391991255,
                  "C10": -0.0008853854040481862,
                  "C11": 0.0024476898216876184,
                  "C12": 0.0020284936109816226,
                  "Class": 0.023299411837827817,
                  "_deepnote_index_column": "C3"
                },
                {
                  "Timestamp": -0.026448964717689243,
                  "Value": 0.06155696400717624,
                  "C1": 0.0001362943437390868,
                  "C2": 0.0016424363163301404,
                  "C3": 0.005302820194876961,
                  "C4": 1,
                  "C5": -0.0031736701681687116,
                  "C6": 0.002642609332097677,
                  "C7": -0.0007408175726329091,
                  "C8": 0.0038943765372165297,
                  "C9": 0.002401417333310635,
                  "C10": -0.0016707846071074644,
                  "C11": 0.00026116040928431925,
                  "C12": 0.0016148737301721159,
                  "Class": -0.032692043622882104,
                  "_deepnote_index_column": "C4"
                },
                {
                  "Timestamp": -0.005722500568691444,
                  "Value": -0.00558230748901782,
                  "C1": 0.0021163670297947366,
                  "C2": -0.0016575091018891847,
                  "C3": -0.0012179671983470863,
                  "C4": -0.0031736701681687116,
                  "C5": 1,
                  "C6": -0.0011399367830716477,
                  "C7": -0.005153301212441504,
                  "C8": 0.0025967963415157776,
                  "C9": 0.0009547743242429126,
                  "C10": 0.002330791851079332,
                  "C11": 0.0021775100877113613,
                  "C12": 0.003265508386604849,
                  "Class": 0.002595352978892741,
                  "_deepnote_index_column": "C5"
                },
                {
                  "Timestamp": 0.004022485723490373,
                  "Value": 0.0002245016928953423,
                  "C1": 0.0014071986002482657,
                  "C2": 0.0008657590317708942,
                  "C3": 0.006359842840028597,
                  "C4": 0.002642609332097677,
                  "C5": -0.0011399367830716477,
                  "C6": 1,
                  "C7": 0.0028498859053613075,
                  "C8": -0.0037724199688654943,
                  "C9": -0.001691448369585412,
                  "C10": -0.000008859765760350301,
                  "C11": 0.0011804332798405466,
                  "C12": 0.005680016493924995,
                  "Class": -0.003850990580810579,
                  "_deepnote_index_column": "C6"
                },
                {
                  "Timestamp": 0.0012879379145690688,
                  "Value": -0.0018036376443719402,
                  "C1": 0.001284493689923499,
                  "C2": 0.004249161880003304,
                  "C3": 0.0010558400691941237,
                  "C4": -0.0007408175726329091,
                  "C5": -0.005153301212441504,
                  "C6": 0.0028498859053613075,
                  "C7": 1,
                  "C8": 0.006721190770747338,
                  "C9": 0.003434878319534988,
                  "C10": 0.00037398891877012716,
                  "C11": -0.002094993408006042,
                  "C12": 0.0007203074807137472,
                  "Class": 0.006152095803722207,
                  "_deepnote_index_column": "C7"
                },
                {
                  "Timestamp": 0.00022587566205894326,
                  "Value": -0.0030255667428458954,
                  "C1": 0.0029116649993499743,
                  "C2": 0.00006536541242677659,
                  "C3": -0.0014015562682766275,
                  "C4": 0.0038943765372165297,
                  "C5": 0.0025967963415157776,
                  "C6": -0.0037724199688654943,
                  "C7": 0.006721190770747338,
                  "C8": 1,
                  "C9": -0.0021218829476543914,
                  "C10": -0.0009962469560562503,
                  "C11": 0.002828256400581476,
                  "C12": -0.0009020162541958367,
                  "Class": 0.004236643215556785,
                  "_deepnote_index_column": "C8"
                }
              ]
            },
            "text/plain": "           Timestamp     Value        C1        C2        C3        C4  \\\nTimestamp   1.000000 -0.010465  0.010990  0.004186 -0.001112 -0.026449   \nValue      -0.010465  1.000000  0.006463 -0.001535 -0.000205  0.061557   \nC1          0.010990  0.006463  1.000000  0.002645  0.001899  0.000136   \nC2          0.004186 -0.001535  0.002645  1.000000  0.002597  0.001642   \nC3         -0.001112 -0.000205  0.001899  0.002597  1.000000  0.005303   \nC4         -0.026449  0.061557  0.000136  0.001642  0.005303  1.000000   \nC5         -0.005723 -0.005582  0.002116 -0.001658 -0.001218 -0.003174   \nC6          0.004022  0.000225  0.001407  0.000866  0.006360  0.002643   \nC7          0.001288 -0.001804  0.001284  0.004249  0.001056 -0.000741   \nC8          0.000226 -0.003026  0.002912  0.000065 -0.001402  0.003894   \nC9          0.067799 -0.014649 -0.000376  0.004493  0.003368  0.002401   \nC10        -0.000403  0.003132  0.000773 -0.000713 -0.000885 -0.001671   \nC11         0.001204 -0.001535  0.000843  0.000900  0.002448  0.000261   \nC12        -0.001168  0.003082  0.000137 -0.003174  0.002028  0.001615   \nClass      -0.009994  0.007095  0.007301 -0.001013  0.023299 -0.032692   \n\n                 C5        C6        C7        C8        C9       C10  \\\nTimestamp -0.005723  0.004022  0.001288  0.000226  0.067799 -0.000403   \nValue     -0.005582  0.000225 -0.001804 -0.003026 -0.014649  0.003132   \nC1         0.002116  0.001407  0.001284  0.002912 -0.000376  0.000773   \nC2        -0.001658  0.000866  0.004249  0.000065  0.004493 -0.000713   \nC3        -0.001218  0.006360  0.001056 -0.001402  0.003368 -0.000885   \nC4        -0.003174  0.002643 -0.000741  0.003894  0.002401 -0.001671   \nC5         1.000000 -0.001140 -0.005153  0.002597  0.000955  0.002331   \nC6        -0.001140  1.000000  0.002850 -0.003772 -0.001691 -0.000009   \nC7        -0.005153  0.002850  1.000000  0.006721  0.003435  0.000374   \nC8         0.002597 -0.003772  0.006721  1.000000 -0.002122 -0.000996   \nC9         0.000955 -0.001691  0.003435 -0.002122  1.000000  0.004328   \nC10        0.002331 -0.000009  0.000374 -0.000996  0.004328  1.000000   \nC11        0.002178  0.001180 -0.002095  0.002828  0.000848  0.000013   \nC12        0.003266  0.005680  0.000720 -0.000902  0.003379 -0.002209   \nClass      0.002595 -0.003851  0.006152  0.004237  0.006107 -0.000220   \n\n                C11       C12     Class  \nTimestamp  0.001204 -0.001168 -0.009994  \nValue     -0.001535  0.003082  0.007095  \nC1         0.000843  0.000137  0.007301  \nC2         0.000900 -0.003174 -0.001013  \nC3         0.002448  0.002028  0.023299  \nC4         0.000261  0.001615 -0.032692  \nC5         0.002178  0.003266  0.002595  \nC6         0.001180  0.005680 -0.003851  \nC7        -0.002095  0.000720  0.006152  \nC8         0.002828 -0.000902  0.004237  \nC9         0.000848  0.003379  0.006107  \nC10        0.000013 -0.002209 -0.000220  \nC11        1.000000 -0.002918 -0.002362  \nC12       -0.002918  1.000000 -0.001673  \nClass     -0.002362 -0.001673  1.000000  ",
            "text/html": "<div>\n<style scoped>\n    .dataframe tbody tr th:only-of-type {\n        vertical-align: middle;\n    }\n\n    .dataframe tbody tr th {\n        vertical-align: top;\n    }\n\n    .dataframe thead th {\n        text-align: right;\n    }\n</style>\n<table border=\"1\" class=\"dataframe\">\n  <thead>\n    <tr style=\"text-align: right;\">\n      <th></th>\n      <th>Timestamp</th>\n      <th>Value</th>\n      <th>C1</th>\n      <th>C2</th>\n      <th>C3</th>\n      <th>C4</th>\n      <th>C5</th>\n      <th>C6</th>\n      <th>C7</th>\n      <th>C8</th>\n      <th>C9</th>\n      <th>C10</th>\n      <th>C11</th>\n      <th>C12</th>\n      <th>Class</th>\n    </tr>\n  </thead>\n  <tbody>\n    <tr>\n      <th>Timestamp</th>\n      <td>1.000000</td>\n      <td>-0.010465</td>\n      <td>0.010990</td>\n      <td>0.004186</td>\n      <td>-0.001112</td>\n      <td>-0.026449</td>\n      <td>-0.005723</td>\n      <td>0.004022</td>\n      <td>0.001288</td>\n      <td>0.000226</td>\n      <td>0.067799</td>\n      <td>-0.000403</td>\n      <td>0.001204</td>\n      <td>-0.001168</td>\n      <td>-0.009994</td>\n    </tr>\n    <tr>\n      <th>Value</th>\n      <td>-0.010465</td>\n      <td>1.000000</td>\n      <td>0.006463</td>\n      <td>-0.001535</td>\n      <td>-0.000205</td>\n      <td>0.061557</td>\n      <td>-0.005582</td>\n      <td>0.000225</td>\n      <td>-0.001804</td>\n      <td>-0.003026</td>\n      <td>-0.014649</td>\n      <td>0.003132</td>\n      <td>-0.001535</td>\n      <td>0.003082</td>\n      <td>0.007095</td>\n    </tr>\n    <tr>\n      <th>C1</th>\n      <td>0.010990</td>\n      <td>0.006463</td>\n      <td>1.000000</td>\n      <td>0.002645</td>\n      <td>0.001899</td>\n      <td>0.000136</td>\n      <td>0.002116</td>\n      <td>0.001407</td>\n      <td>0.001284</td>\n      <td>0.002912</td>\n      <td>-0.000376</td>\n      <td>0.000773</td>\n      <td>0.000843</td>\n      <td>0.000137</td>\n      <td>0.007301</td>\n    </tr>\n    <tr>\n      <th>C2</th>\n      <td>0.004186</td>\n      <td>-0.001535</td>\n      <td>0.002645</td>\n      <td>1.000000</td>\n      <td>0.002597</td>\n      <td>0.001642</td>\n      <td>-0.001658</td>\n      <td>0.000866</td>\n      <td>0.004249</td>\n      <td>0.000065</td>\n      <td>0.004493</td>\n      <td>-0.000713</td>\n      <td>0.000900</td>\n      <td>-0.003174</td>\n      <td>-0.001013</td>\n    </tr>\n    <tr>\n      <th>C3</th>\n      <td>-0.001112</td>\n      <td>-0.000205</td>\n      <td>0.001899</td>\n      <td>0.002597</td>\n      <td>1.000000</td>\n      <td>0.005303</td>\n      <td>-0.001218</td>\n      <td>0.006360</td>\n      <td>0.001056</td>\n      <td>-0.001402</td>\n      <td>0.003368</td>\n      <td>-0.000885</td>\n      <td>0.002448</td>\n      <td>0.002028</td>\n      <td>0.023299</td>\n    </tr>\n    <tr>\n      <th>C4</th>\n      <td>-0.026449</td>\n      <td>0.061557</td>\n      <td>0.000136</td>\n      <td>0.001642</td>\n      <td>0.005303</td>\n      <td>1.000000</td>\n      <td>-0.003174</td>\n      <td>0.002643</td>\n      <td>-0.000741</td>\n      <td>0.003894</td>\n      <td>0.002401</td>\n      <td>-0.001671</td>\n      <td>0.000261</td>\n      <td>0.001615</td>\n      <td>-0.032692</td>\n    </tr>\n    <tr>\n      <th>C5</th>\n      <td>-0.005723</td>\n      <td>-0.005582</td>\n      <td>0.002116</td>\n      <td>-0.001658</td>\n      <td>-0.001218</td>\n      <td>-0.003174</td>\n      <td>1.000000</td>\n      <td>-0.001140</td>\n      <td>-0.005153</td>\n      <td>0.002597</td>\n      <td>0.000955</td>\n      <td>0.002331</td>\n      <td>0.002178</td>\n      <td>0.003266</td>\n      <td>0.002595</td>\n    </tr>\n    <tr>\n      <th>C6</th>\n      <td>0.004022</td>\n      <td>0.000225</td>\n      <td>0.001407</td>\n      <td>0.000866</td>\n      <td>0.006360</td>\n      <td>0.002643</td>\n      <td>-0.001140</td>\n      <td>1.000000</td>\n      <td>0.002850</td>\n      <td>-0.003772</td>\n      <td>-0.001691</td>\n      <td>-0.000009</td>\n      <td>0.001180</td>\n      <td>0.005680</td>\n      <td>-0.003851</td>\n    </tr>\n    <tr>\n      <th>C7</th>\n      <td>0.001288</td>\n      <td>-0.001804</td>\n      <td>0.001284</td>\n      <td>0.004249</td>\n      <td>0.001056</td>\n      <td>-0.000741</td>\n      <td>-0.005153</td>\n      <td>0.002850</td>\n      <td>1.000000</td>\n      <td>0.006721</td>\n      <td>0.003435</td>\n      <td>0.000374</td>\n      <td>-0.002095</td>\n      <td>0.000720</td>\n      <td>0.006152</td>\n    </tr>\n    <tr>\n      <th>C8</th>\n      <td>0.000226</td>\n      <td>-0.003026</td>\n      <td>0.002912</td>\n      <td>0.000065</td>\n      <td>-0.001402</td>\n      <td>0.003894</td>\n      <td>0.002597</td>\n      <td>-0.003772</td>\n      <td>0.006721</td>\n      <td>1.000000</td>\n      <td>-0.002122</td>\n      <td>-0.000996</td>\n      <td>0.002828</td>\n      <td>-0.000902</td>\n      <td>0.004237</td>\n    </tr>\n    <tr>\n      <th>C9</th>\n      <td>0.067799</td>\n      <td>-0.014649</td>\n      <td>-0.000376</td>\n      <td>0.004493</td>\n      <td>0.003368</td>\n      <td>0.002401</td>\n      <td>0.000955</td>\n      <td>-0.001691</td>\n      <td>0.003435</td>\n      <td>-0.002122</td>\n      <td>1.000000</td>\n      <td>0.004328</td>\n      <td>0.000848</td>\n      <td>0.003379</td>\n      <td>0.006107</td>\n    </tr>\n    <tr>\n      <th>C10</th>\n      <td>-0.000403</td>\n      <td>0.003132</td>\n      <td>0.000773</td>\n      <td>-0.000713</td>\n      <td>-0.000885</td>\n      <td>-0.001671</td>\n      <td>0.002331</td>\n      <td>-0.000009</td>\n      <td>0.000374</td>\n      <td>-0.000996</td>\n      <td>0.004328</td>\n      <td>1.000000</td>\n      <td>0.000013</td>\n      <td>-0.002209</td>\n      <td>-0.000220</td>\n    </tr>\n    <tr>\n      <th>C11</th>\n      <td>0.001204</td>\n      <td>-0.001535</td>\n      <td>0.000843</td>\n      <td>0.000900</td>\n      <td>0.002448</td>\n      <td>0.000261</td>\n      <td>0.002178</td>\n      <td>0.001180</td>\n      <td>-0.002095</td>\n      <td>0.002828</td>\n      <td>0.000848</td>\n      <td>0.000013</td>\n      <td>1.000000</td>\n      <td>-0.002918</td>\n      <td>-0.002362</td>\n    </tr>\n    <tr>\n      <th>C12</th>\n      <td>-0.001168</td>\n      <td>0.003082</td>\n      <td>0.000137</td>\n      <td>-0.003174</td>\n      <td>0.002028</td>\n      <td>0.001615</td>\n      <td>0.003266</td>\n      <td>0.005680</td>\n      <td>0.000720</td>\n      <td>-0.000902</td>\n      <td>0.003379</td>\n      <td>-0.002209</td>\n      <td>-0.002918</td>\n      <td>1.000000</td>\n      <td>-0.001673</td>\n    </tr>\n    <tr>\n      <th>Class</th>\n      <td>-0.009994</td>\n      <td>0.007095</td>\n      <td>0.007301</td>\n      <td>-0.001013</td>\n      <td>0.023299</td>\n      <td>-0.032692</td>\n      <td>0.002595</td>\n      <td>-0.003851</td>\n      <td>0.006152</td>\n      <td>0.004237</td>\n      <td>0.006107</td>\n      <td>-0.000220</td>\n      <td>-0.002362</td>\n      <td>-0.001673</td>\n      <td>1.000000</td>\n    </tr>\n  </tbody>\n</table>\n</div>"
          },
          "metadata": {}
        }
      ],
      "execution_count": null,
      "block_group": "793ead80d82b4404a5385f5457056da4"
    },
    {
      "cell_type": "code",
      "source": "transaction_data['Class'].value_counts()",
      "metadata": {
        "source_hash": null,
        "execution_start": 1692697412464,
        "execution_millis": 144,
        "deepnote_app_coordinates": {
          "h": 5,
          "w": 12,
          "x": 0,
          "y": 0
        },
        "deepnote_to_be_reexecuted": false,
        "cell_id": "655dde8dad994b78bfd9aa47967a15ed",
        "deepnote_cell_type": "code"
      },
      "outputs": [
        {
          "output_type": "execute_result",
          "execution_count": 13,
          "data": {
            "text/plain": "0    139747\n1       253\nName: Class, dtype: int64"
          },
          "metadata": {}
        }
      ],
      "execution_count": null,
      "block_group": "a59c54578e8841b9a901db05a8ac0487"
    },
    {
      "cell_type": "code",
      "source": "Fraud = transaction_data[transaction_data['Class']==1]\n\nValid = transaction_data[transaction_data['Class']==0]\n\ncontamination = len(Fraud)/float(len(Valid))",
      "metadata": {
        "source_hash": null,
        "execution_start": 1692697412484,
        "execution_millis": 38,
        "deepnote_app_coordinates": {
          "h": 5,
          "w": 12,
          "x": 0,
          "y": 0
        },
        "deepnote_to_be_reexecuted": false,
        "cell_id": "00993a8b17094e53a18bc6ba48484248",
        "deepnote_cell_type": "code"
      },
      "outputs": [],
      "execution_count": null,
      "block_group": "9bae3dcad0f34fdc86af5a99f24bdf3e"
    },
    {
      "cell_type": "code",
      "source": "print(contamination)\n\nprint(\"Fraud Class : {}\".format(len(Fraud)))\n\nprint(\"Normal Class : {}\".format(len(Valid)))",
      "metadata": {
        "source_hash": null,
        "execution_start": 1692697412502,
        "execution_millis": 23,
        "deepnote_app_coordinates": {
          "h": 5,
          "w": 12,
          "x": 0,
          "y": 0
        },
        "deepnote_to_be_reexecuted": false,
        "cell_id": "f984c11b2fc14c4b85668356c19fb2fe",
        "deepnote_cell_type": "code"
      },
      "outputs": [
        {
          "name": "stdout",
          "text": "0.0018104145348379571\nFraud Class : 253\nNormal Class : 139747\n",
          "output_type": "stream"
        }
      ],
      "execution_count": null,
      "block_group": "3496e603b0934e97a7997fe0a9bf12a0"
    },
    {
      "cell_type": "code",
      "source": "contamination",
      "metadata": {
        "source_hash": null,
        "execution_start": 1692697412554,
        "execution_millis": 20,
        "deepnote_app_coordinates": {
          "h": 5,
          "w": 12,
          "x": 0,
          "y": 0
        },
        "deepnote_to_be_reexecuted": false,
        "cell_id": "6f1dbfb858ae4faf9835936af383df9f",
        "deepnote_cell_type": "code"
      },
      "outputs": [
        {
          "output_type": "execute_result",
          "execution_count": 16,
          "data": {
            "text/plain": "0.0018104145348379571"
          },
          "metadata": {}
        }
      ],
      "execution_count": null,
      "block_group": "c9340ce941634052a8de47bbeaa182f9"
    },
    {
      "cell_type": "code",
      "source": "X = transaction_data.drop('Class',axis=1)",
      "metadata": {
        "source_hash": null,
        "execution_start": 1692697412598,
        "execution_millis": 14,
        "deepnote_app_coordinates": {
          "h": 5,
          "w": 12,
          "x": 0,
          "y": 0
        },
        "deepnote_to_be_reexecuted": false,
        "cell_id": "d35579101e1e4a63a53c141533e255f3",
        "deepnote_cell_type": "code"
      },
      "outputs": [],
      "execution_count": null,
      "block_group": "7c4dc2686ff548fba37bb58204fd63d9"
    },
    {
      "cell_type": "code",
      "source": "y = transaction_data['Class']",
      "metadata": {
        "source_hash": null,
        "execution_start": 1692697412641,
        "execution_millis": 239,
        "deepnote_app_coordinates": {
          "h": 5,
          "w": 12,
          "x": 0,
          "y": 0
        },
        "deepnote_to_be_reexecuted": false,
        "cell_id": "af9181e9d4794998b96f998c6b9636b1",
        "deepnote_cell_type": "code"
      },
      "outputs": [],
      "execution_count": null,
      "block_group": "656c36337778483a85062fcbdc174d4e"
    },
    {
      "cell_type": "markdown",
      "source": "The number of neighbors considered, (parameter n_neighbors) is typically chosen 1) greater than the minimum number of objects a cluster has to contain, so that other objects can be local outliers relative to this cluster, and 2) smaller than the maximum number of close by objects that can potentially be local outliers. In practice, such informations are generally not available, and taking n_neighbors=20 appears to work well in general.",
      "metadata": {
        "deepnote_app_coordinates": {
          "h": 5,
          "w": 12,
          "x": 0,
          "y": 0
        },
        "cell_id": "87caa70646b7494da8287b86ec84658a",
        "deepnote_cell_type": "markdown"
      },
      "block_group": "2ce2e746ab0c44c1b42908125aa8fddf"
    },
    {
      "cell_type": "markdown",
      "source": "### Fitting the model and predicting with LOF with our contamination number",
      "metadata": {
        "deepnote_app_coordinates": {
          "h": 5,
          "w": 12,
          "x": 0,
          "y": 0
        },
        "cell_id": "f1a2a4364c3e4564bcbe93d38e89ef92",
        "deepnote_cell_type": "markdown"
      },
      "block_group": "e50113b7dfde4c3da21858e111768a06"
    },
    {
      "cell_type": "code",
      "source": "lof = LocalOutlierFactor(n_neighbors=20,contamination=0.0018)",
      "metadata": {
        "source_hash": null,
        "execution_start": 1692697412669,
        "execution_millis": 32,
        "deepnote_app_coordinates": {
          "h": 5,
          "w": 12,
          "x": 0,
          "y": 0
        },
        "deepnote_to_be_reexecuted": false,
        "cell_id": "70085e770c894296b54836ee906592fb",
        "deepnote_cell_type": "code"
      },
      "outputs": [],
      "execution_count": null,
      "block_group": "6db7e2d362894f78872212fa4f6b1bf8"
    },
    {
      "cell_type": "code",
      "source": "y_pred = lof.fit_predict(X)",
      "metadata": {
        "source_hash": null,
        "execution_start": 1692697412742,
        "execution_millis": 19099,
        "deepnote_app_coordinates": {
          "h": 5,
          "w": 12,
          "x": 0,
          "y": 0
        },
        "deepnote_to_be_reexecuted": false,
        "cell_id": "c2c8f29119e04d7fbf3a68763dbc81d7",
        "deepnote_cell_type": "code"
      },
      "outputs": [],
      "execution_count": null,
      "block_group": "52f829e846cd4423ab2c491fa520908d"
    },
    {
      "cell_type": "code",
      "source": "y_pred",
      "metadata": {
        "source_hash": null,
        "execution_start": 1692697431878,
        "execution_millis": 25,
        "deepnote_app_coordinates": {
          "h": 5,
          "w": 12,
          "x": 0,
          "y": 0
        },
        "deepnote_to_be_reexecuted": false,
        "cell_id": "1a0d97d81d4f47d7a562118b811b8286",
        "deepnote_cell_type": "code"
      },
      "outputs": [
        {
          "output_type": "execute_result",
          "execution_count": 21,
          "data": {
            "text/plain": "array([1, 1, 1, ..., 1, 1, 1])"
          },
          "metadata": {}
        }
      ],
      "execution_count": null,
      "block_group": "e1c8491fd910494b9b0b2acdf97e5e45"
    },
    {
      "cell_type": "markdown",
      "source": "### Converting Input dataframe into numpy array for the visualisation of outliers",
      "metadata": {
        "deepnote_app_coordinates": {
          "h": 5,
          "w": 12,
          "x": 0,
          "y": 0
        },
        "cell_id": "71b9f50beedd499ca9d382ab21ef216a",
        "deepnote_cell_type": "markdown"
      },
      "block_group": "805c8b6d20824fcd8d3eec4a92b1a7d5"
    },
    {
      "cell_type": "code",
      "source": "X_array = X.to_numpy()",
      "metadata": {
        "source_hash": null,
        "execution_start": 1692697431879,
        "execution_millis": 17,
        "deepnote_app_coordinates": {
          "h": 5,
          "w": 12,
          "x": 0,
          "y": 0
        },
        "deepnote_to_be_reexecuted": false,
        "cell_id": "073e2b19b42d4b43b0d3c42c5bf5bbdd",
        "deepnote_cell_type": "code"
      },
      "outputs": [],
      "execution_count": null,
      "block_group": "6c86f3cb3425416fbbb6c54217cf314b"
    },
    {
      "cell_type": "code",
      "source": "y_index = where(y_pred==-1)\noutlier_values = X_array[y_index]\n",
      "metadata": {
        "source_hash": null,
        "execution_start": 1692697431898,
        "execution_millis": 21,
        "deepnote_app_coordinates": {
          "h": 5,
          "w": 12,
          "x": 0,
          "y": 0
        },
        "deepnote_to_be_reexecuted": false,
        "cell_id": "5baf8ff0188246a092e1387024d0ffa8",
        "deepnote_cell_type": "code"
      },
      "outputs": [],
      "execution_count": null,
      "block_group": "99f6d6abb2e046fd9b57d668a9fa1eeb"
    },
    {
      "cell_type": "code",
      "source": "outlier_values",
      "metadata": {
        "source_hash": null,
        "execution_start": 1692697431923,
        "execution_millis": 31,
        "deepnote_app_coordinates": {
          "h": 5,
          "w": 12,
          "x": 0,
          "y": 0
        },
        "deepnote_to_be_reexecuted": false,
        "cell_id": "df6daf4ecbd44a02bebd4ed5977c233d",
        "deepnote_cell_type": "code"
      },
      "outputs": [
        {
          "output_type": "execute_result",
          "execution_count": 24,
          "data": {
            "text/plain": "array([[ 1.69492222e+05,  4.88000000e+00, -6.70446709e+00, ...,\n        -9.44606319e-01, -1.99746360e-02, -7.34109907e-01],\n       [ 4.19000000e+03,  2.16080000e+01, -3.09516211e+00, ...,\n         3.47864085e-01, -1.07654152e-01,  7.38671894e-01],\n       [ 1.00092222e+05,  7.53600000e+00, -1.92029472e+00, ...,\n        -5.30354387e-01, -1.99746360e-02,  1.29300000e+03],\n       ...,\n       [ 1.60988889e+04,  1.27600000e+01, -9.40830258e+00, ...,\n         4.12786320e-02,  1.13128618e-01, -1.40000000e+02],\n       [ 1.90295556e+05,  2.17600000e+00,  6.16262999e+00, ...,\n         3.20203631e-01, -1.99746360e-02, -6.86359270e-02],\n       [ 2.21333333e+04,  9.48000000e+00, -1.25001363e+00, ...,\n        -4.46196296e-01, -1.99746360e-02,  1.15791258e+00]])"
          },
          "metadata": {}
        }
      ],
      "execution_count": null,
      "block_group": "12b52891554347959cde15b16d14496d"
    },
    {
      "cell_type": "markdown",
      "source": "### Plotting outliers and normal values",
      "metadata": {
        "deepnote_app_coordinates": {
          "h": 5,
          "w": 12,
          "x": 0,
          "y": 0
        },
        "cell_id": "b5ca90e8a8864897a41d34141461c27f",
        "deepnote_cell_type": "markdown"
      },
      "block_group": "bd4e20067eb34589a0845e78c3bde034"
    },
    {
      "cell_type": "code",
      "source": "plt.scatter(X_array[:,0], X_array[:,1])\nplt.scatter(outlier_values[:,0],outlier_values[:,1], color='r')\nplt.show()",
      "metadata": {
        "scrolled": true,
        "source_hash": null,
        "execution_start": 1692697431975,
        "execution_millis": 806,
        "deepnote_app_coordinates": {
          "h": 5,
          "w": 12,
          "x": 0,
          "y": 0
        },
        "deepnote_to_be_reexecuted": false,
        "cell_id": "d08f8aa42a3b421d85032838c152883f",
        "deepnote_cell_type": "code"
      },
      "outputs": [
        {
          "data": {
            "text/plain": "<Figure size 640x480 with 1 Axes>",
            "image/png": "[encoded data removed]"
          },
          "metadata": {
            "image/png": {
              "width": 592,
              "height": 413
            }
          },
          "output_type": "display_data"
        }
      ],
      "execution_count": null,
      "block_group": "dce1b420fcb44eb0beaa37ada9c93cf1"
    },
    {
      "cell_type": "markdown",
      "source": "### Fitting the model and predicting with LOF with default contamination number",
      "metadata": {
        "deepnote_app_coordinates": {
          "h": 5,
          "w": 12,
          "x": 0,
          "y": 0
        },
        "cell_id": "58594341e3bb4c138e88ac8388d6957d",
        "deepnote_cell_type": "markdown"
      },
      "block_group": "87dac2d4aba5449387f9146de9c975c1"
    },
    {
      "cell_type": "code",
      "source": "X = transaction_data.drop('Class',axis=1)\ny = transaction_data['Class']",
      "metadata": {
        "source_hash": null,
        "execution_start": 1692697432632,
        "execution_millis": 49,
        "deepnote_app_coordinates": {
          "h": 5,
          "w": 12,
          "x": 0,
          "y": 0
        },
        "deepnote_to_be_reexecuted": false,
        "cell_id": "a561b2e4db2b421a86b7352958df7c2e",
        "deepnote_cell_type": "code"
      },
      "outputs": [],
      "execution_count": null,
      "block_group": "a53f876a5ea443d3aee9e71a5bd7863f"
    },
    {
      "cell_type": "code",
      "source": "lof = LocalOutlierFactor()",
      "metadata": {
        "source_hash": null,
        "execution_start": 1692697432675,
        "execution_millis": 36,
        "deepnote_app_coordinates": {
          "h": 5,
          "w": 12,
          "x": 0,
          "y": 0
        },
        "deepnote_to_be_reexecuted": false,
        "cell_id": "4ad82f98fbd94149bd6e99dd08c2e4fd",
        "deepnote_cell_type": "code"
      },
      "outputs": [],
      "execution_count": null,
      "block_group": "8f08323d1e2f489aa3c14a5b7aeaf263"
    },
    {
      "cell_type": "markdown",
      "source": "#### Here we will be deciding the threshold value and we will be selecting lowest 1 percent of score values as the anomalies.",
      "metadata": {
        "deepnote_app_coordinates": {
          "h": 5,
          "w": 12,
          "x": 0,
          "y": 0
        },
        "cell_id": "44e5025691564858846f2357cd712e0c",
        "deepnote_cell_type": "markdown"
      },
      "block_group": "f52279d62c2d4bffb4666756dbaf506a"
    },
    {
      "cell_type": "code",
      "source": "lof.fit_predict(X)\nanomaly_scores = lof.negative_outlier_factor_ \n",
      "metadata": {
        "source_hash": null,
        "execution_start": 1692697432703,
        "execution_millis": 20401,
        "deepnote_app_coordinates": {
          "h": 5,
          "w": 12,
          "x": 0,
          "y": 0
        },
        "deepnote_to_be_reexecuted": false,
        "cell_id": "7512f60027af4109830c43b54d6a954e",
        "deepnote_cell_type": "code"
      },
      "outputs": [],
      "execution_count": null,
      "block_group": "01dba33df3e244b89fce5ef4bee8d2fa"
    },
    {
      "cell_type": "code",
      "source": "anomaly_scores",
      "metadata": {
        "source_hash": null,
        "execution_start": 1692697453112,
        "execution_millis": 104,
        "deepnote_app_coordinates": {
          "h": 5,
          "w": 12,
          "x": 0,
          "y": 0
        },
        "deepnote_to_be_reexecuted": false,
        "cell_id": "5ffa610bdc234edc928eb6c90c9a1ee2",
        "deepnote_cell_type": "code"
      },
      "outputs": [
        {
          "output_type": "execute_result",
          "execution_count": 29,
          "data": {
            "text/plain": "array([-3.86741906, -1.22429401, -5.02413191, ..., -2.20988931,\n       -0.9704086 , -1.04838918])"
          },
          "metadata": {}
        }
      ],
      "execution_count": null,
      "block_group": "a2e0814489a0482897d2b2e2184d6673"
    },
    {
      "cell_type": "code",
      "source": "threshold = quantile(anomaly_scores, .01)\nprint(threshold)",
      "metadata": {
        "source_hash": null,
        "execution_start": 1692697453218,
        "execution_millis": 23,
        "deepnote_app_coordinates": {
          "h": 5,
          "w": 12,
          "x": 0,
          "y": 0
        },
        "deepnote_to_be_reexecuted": false,
        "cell_id": "b90d8ae34abb4ab1bbdda8ca784905f6",
        "deepnote_cell_type": "code"
      },
      "outputs": [
        {
          "name": "stdout",
          "text": "-5.88245676775076\n",
          "output_type": "stream"
        }
      ],
      "execution_count": null,
      "block_group": "be5c6a26180c473bad46c06922ffb875"
    },
    {
      "cell_type": "code",
      "source": "X_array =  X.to_numpy()",
      "metadata": {
        "source_hash": null,
        "execution_start": 1692697453218,
        "execution_millis": 22,
        "deepnote_app_coordinates": {
          "h": 5,
          "w": 12,
          "x": 0,
          "y": 0
        },
        "deepnote_to_be_reexecuted": false,
        "cell_id": "a837cbaebd044552895c0dc3c75f764e",
        "deepnote_cell_type": "code"
      },
      "outputs": [],
      "execution_count": null,
      "block_group": "258d911e1e3a4b278670744d38b1bc6f"
    },
    {
      "cell_type": "code",
      "source": "index = where(anomaly_scores<=threshold)\noutlier_values = X_array[index]",
      "metadata": {
        "source_hash": null,
        "execution_start": 1692697453219,
        "execution_millis": 24,
        "deepnote_app_coordinates": {
          "h": 5,
          "w": 12,
          "x": 0,
          "y": 0
        },
        "deepnote_to_be_reexecuted": false,
        "cell_id": "bdb8d12f3b9841c78319b836a3f3fba9",
        "deepnote_cell_type": "code"
      },
      "outputs": [],
      "execution_count": null,
      "block_group": "bdda6c3a0a3e4d7b8b92078c3def8fd5"
    },
    {
      "cell_type": "code",
      "source": "plt.scatter(X_array[:,0], X_array[:,1])\nplt.scatter(outlier_values[:,0], outlier_values[:,1], color='r')\nplt.show()\n",
      "metadata": {
        "source_hash": null,
        "execution_start": 1692697453219,
        "execution_millis": 834,
        "deepnote_app_coordinates": {
          "h": 5,
          "w": 12,
          "x": 0,
          "y": 0
        },
        "deepnote_to_be_reexecuted": false,
        "cell_id": "3d552a2dd3a540a6abe7bffcf2bff0f9",
        "deepnote_cell_type": "code"
      },
      "outputs": [
        {
          "data": {
            "text/plain": "<Figure size 640x480 with 1 Axes>",
            "image/png": "[encoded data removed]"
          },
          "metadata": {
            "image/png": {
              "width": 592,
              "height": 413
            }
          },
          "output_type": "display_data"
        }
      ],
      "execution_count": null,
      "block_group": "da37b18832bf4124ac6e4b8dd03ed972"
    },
    {
      "cell_type": "markdown",
      "source": "# ----------------------------------THANK YOU-----------------------------------------------------------",
      "metadata": {
        "deepnote_app_coordinates": {
          "h": 5,
          "w": 12,
          "x": 0,
          "y": 0
        },
        "cell_id": "9decbb70f3a249e99945c733b85e5ce7",
        "deepnote_cell_type": "markdown"
      },
      "block_group": "79a0e3e83b21498597d026b8e41cae8c"
    },
    {
      "cell_type": "markdown",
      "source": "<a style='text-decoration:none;line-height:16px;display:flex;color:#5B5B62;padding:10px;justify-content:end;' href='https://deepnote.com?utm_source=created-in-deepnote-cell&projectId=8dfd7a97-3da8-484d-816d-1dcc817bf5f7' target=\"_blank\">\n<img alt='Created in deepnote.com' style='display:inline;max-height:16px;margin:0px;margin-right:7.5px;' src='data:image/svg+xml;base64,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' > </img>\nCreated in <span style='font-weight:600;margin-left:4px;'>Deepnote</span></a>",
      "metadata": {
        "created_in_deepnote_cell": true,
        "deepnote_cell_type": "markdown"
      }
    }
  ],
  "nbformat": 4,
  "nbformat_minor": 0,
  "metadata": {
    "deepnote": {},
    "kernelspec": {
      "name": "python3",
      "language": "python",
      "display_name": "Python 3"
    },
    "language_info": {
      "name": "python",
      "version": "3.8.3",
      "mimetype": "text/x-python",
      "file_extension": ".py",
      "pygments_lexer": "ipython3",
      "codemirror_mode": {
        "name": "ipython",
        "version": 3
      },
      "nbconvert_exporter": "python"
    },
    "deepnote_app_layout": "powerful-article",
    "deepnote_notebook_id": "9661fd6472a143d5a48824f00bdb93ca",
    "deepnote_execution_queue": []
  }
}