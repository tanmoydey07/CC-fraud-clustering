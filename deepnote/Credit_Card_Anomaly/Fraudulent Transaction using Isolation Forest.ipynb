{
  "cells": [
    {
      "cell_type": "markdown",
      "source": "# ![image.png](attachment:image.png)\n\n# Fraudulent Transaction detection\n\n\n\nIn Banking or payment industry, fraud is an illegal usage of credit card details without the real cardholder’s knowledge. A stolen credit card/card number is usually the cause of a fraudulent charge. Once a cardholder sees a payment transaction he did not make on his credit card statement, he/she has the right to dispute the charge by contacting his/her bank. The bank or credit card company conducts an investigation and returns the money to the cardholder.\n\nBut what if we can detect the fradulent transaction activity in real time?\nBy that way we can take the required action to stop the same.\n\nWe can use machine learning technique to detect the fraudulent transaction.\n",
      "metadata": {
        "cell_id": "f61692bd9f1b4c54994ef2414e994393",
        "deepnote_cell_type": "markdown"
      },
      "block_group": "bcbd1769d843402581ac0bead8bbe878"
    },
    {
      "cell_type": "markdown",
      "source": "## Isolation Forest",
      "metadata": {
        "cell_id": "5a298d7eaa6d4d758396156253445bd6",
        "deepnote_cell_type": "markdown"
      },
      "block_group": "436dfbc13802453eb18739d746a2f322"
    },
    {
      "cell_type": "markdown",
      "source": "Isolation Forests is similar to  Random forests that are built based on decision trees.\n\nThere are no pre-defined labels here and hence it is an unsupervised algorithm.\n\nIt weas built based on the fact that anomalies or outliers are the data points that are “few and different”.\n\nIn an Isolation Forest, randomly sub-sampled data is processed in a tree structure based on randomly selected features. \n\n\nThe sub-samples that travel deeper into the tree are less likely to be anomalies as they required more cuts to isolate them. \n\nThe one which end up in shorter branches indicate anomalies as it was easier for the tree to separate them from other observations.",
      "metadata": {
        "cell_id": "3cd28fadcab946ab862a5c3aaf7b09dd",
        "deepnote_cell_type": "markdown"
      },
      "block_group": "0315bb81de6743cd96880336dd008379"
    },
    {
      "cell_type": "markdown",
      "source": "<div>\n<img src=\"attachment:image.png\" width=\"800\"/>\n</div>",
      "metadata": {
        "cell_id": "fcba973a779643b391b2a94f4d866921",
        "deepnote_cell_type": "markdown"
      },
      "block_group": "fcb5adfc1f6a4c318318b1fd07e57f92"
    },
    {
      "cell_type": "code",
      "source": "!ls /datasets/my-projects/ds_ml/cc-fraud-ul",
      "metadata": {
        "source_hash": null,
        "execution_start": 1692697193298,
        "execution_millis": 486,
        "deepnote_to_be_reexecuted": false,
        "cell_id": "89bedae277ce468fa40babdc487bb695",
        "deepnote_cell_type": "code"
      },
      "outputs": [
        {
          "name": "stdout",
          "text": "credit_card_transactional_data.csv\n",
          "output_type": "stream"
        }
      ],
      "execution_count": null,
      "block_group": "89bedae277ce468fa40babdc487bb695"
    },
    {
      "cell_type": "markdown",
      "source": "### Importing required libraries",
      "metadata": {
        "cell_id": "cf373e23b1d648888fb3eb0ebb29173e",
        "deepnote_cell_type": "markdown"
      },
      "block_group": "65b1196ca25c457291df5c1ad44c468b"
    },
    {
      "cell_type": "code",
      "source": "import numpy as np \nimport pandas as pd\nimport seaborn as sns\nfrom sklearn.metrics import classification_report,accuracy_score\nfrom sklearn.ensemble import IsolationForest\nimport matplotlib.pyplot as plt",
      "metadata": {
        "scrolled": true,
        "source_hash": null,
        "execution_start": 1692697193813,
        "execution_millis": 5038,
        "deepnote_to_be_reexecuted": false,
        "cell_id": "b68fbffae9a648268f81221f9d07105a",
        "deepnote_cell_type": "code"
      },
      "outputs": [],
      "execution_count": null,
      "block_group": "c159e088c70940dc898569fdb479c6ed"
    },
    {
      "cell_type": "markdown",
      "source": "### Importing the credit card transactional dataset",
      "metadata": {
        "cell_id": "2f76aa94c66541bcb84161ec3ae365a5",
        "deepnote_cell_type": "markdown"
      },
      "block_group": "5add179765104dd190e0a6a442aab049"
    },
    {
      "cell_type": "code",
      "source": "transaction_data = pd.read_csv(\"/datasets/my-projects/ds_ml/cc-fraud-ul/credit_card_transactional_data.csv\")\ntransaction_data.head(10)",
      "metadata": {
        "scrolled": true,
        "source_hash": null,
        "execution_start": 1692697198847,
        "execution_millis": 5643,
        "deepnote_to_be_reexecuted": false,
        "cell_id": "e7ebeb8d5c5b487eac712dd2d477c862",
        "deepnote_cell_type": "code"
      },
      "outputs": [
        {
          "output_type": "execute_result",
          "execution_count": 3,
          "data": {
            "application/vnd.deepnote.dataframe.v3+json": {
              "column_count": 15,
              "row_count": 10,
              "columns": [
                {
                  "name": "Timestamp",
                  "dtype": "float64",
                  "stats": {
                    "unique_count": 10,
                    "nan_count": 0,
                    "min": "34078.88889",
                    "max": "175154.4444",
                    "histogram": [
                      {
                        "bin_start": 34078.88889,
                        "bin_end": 48186.444441,
                        "count": 3
                      },
                      {
                        "bin_start": 48186.444441,
                        "bin_end": 62293.999992000005,
                        "count": 1
                      },
                      {
                        "bin_start": 62293.999992000005,
                        "bin_end": 76401.55554300001,
                        "count": 0
                      },
                      {
                        "bin_start": 76401.55554300001,
                        "bin_end": 90509.111094,
                        "count": 0
                      },
                      {
                        "bin_start": 90509.111094,
                        "bin_end": 104616.666645,
                        "count": 0
                      },
                      {
                        "bin_start": 104616.666645,
                        "bin_end": 118724.22219600002,
                        "count": 0
                      },
                      {
                        "bin_start": 118724.22219600002,
                        "bin_end": 132831.77774700001,
                        "count": 0
                      },
                      {
                        "bin_start": 132831.77774700001,
                        "bin_end": 146939.333298,
                        "count": 0
                      },
                      {
                        "bin_start": 146939.333298,
                        "bin_end": 161046.888849,
                        "count": 4
                      },
                      {
                        "bin_start": 161046.888849,
                        "bin_end": 175154.4444,
                        "count": 2
                      }
                    ]
                  }
                },
                {
                  "name": "Value",
                  "dtype": "float64",
                  "stats": {
                    "unique_count": 10,
                    "nan_count": 0,
                    "min": "0.712",
                    "max": "163.568",
                    "histogram": [
                      {
                        "bin_start": 0.712,
                        "bin_end": 16.997600000000002,
                        "count": 6
                      },
                      {
                        "bin_start": 16.997600000000002,
                        "bin_end": 33.28320000000001,
                        "count": 1
                      },
                      {
                        "bin_start": 33.28320000000001,
                        "bin_end": 49.56880000000001,
                        "count": 0
                      },
                      {
                        "bin_start": 49.56880000000001,
                        "bin_end": 65.85440000000001,
                        "count": 1
                      },
                      {
                        "bin_start": 65.85440000000001,
                        "bin_end": 82.14000000000001,
                        "count": 0
                      },
                      {
                        "bin_start": 82.14000000000001,
                        "bin_end": 98.42560000000002,
                        "count": 0
                      },
                      {
                        "bin_start": 98.42560000000002,
                        "bin_end": 114.71120000000002,
                        "count": 1
                      },
                      {
                        "bin_start": 114.71120000000002,
                        "bin_end": 130.9968,
                        "count": 0
                      },
                      {
                        "bin_start": 130.9968,
                        "bin_end": 147.2824,
                        "count": 0
                      },
                      {
                        "bin_start": 147.2824,
                        "bin_end": 163.568,
                        "count": 1
                      }
                    ]
                  }
                },
                {
                  "name": "C1",
                  "dtype": "float64",
                  "stats": {
                    "unique_count": 10,
                    "nan_count": 0,
                    "min": "-9.067399008",
                    "max": "133.0",
                    "histogram": [
                      {
                        "bin_start": -9.067399008,
                        "bin_end": 5.139340892799998,
                        "count": 5
                      },
                      {
                        "bin_start": 5.139340892799998,
                        "bin_end": 19.346080793599995,
                        "count": 4
                      },
                      {
                        "bin_start": 19.346080793599995,
                        "bin_end": 33.55282069439999,
                        "count": 0
                      },
                      {
                        "bin_start": 33.55282069439999,
                        "bin_end": 47.75956059519999,
                        "count": 0
                      },
                      {
                        "bin_start": 47.75956059519999,
                        "bin_end": 61.966300495999995,
                        "count": 0
                      },
                      {
                        "bin_start": 61.966300495999995,
                        "bin_end": 76.17304039679999,
                        "count": 0
                      },
                      {
                        "bin_start": 76.17304039679999,
                        "bin_end": 90.37978029759999,
                        "count": 0
                      },
                      {
                        "bin_start": 90.37978029759999,
                        "bin_end": 104.5865201984,
                        "count": 0
                      },
                      {
                        "bin_start": 104.5865201984,
                        "bin_end": 118.7932600992,
                        "count": 0
                      },
                      {
                        "bin_start": 118.7932600992,
                        "bin_end": 133,
                        "count": 1
                      }
                    ]
                  }
                },
                {
                  "name": "C2",
                  "dtype": "float64",
                  "stats": {
                    "unique_count": 9,
                    "nan_count": 1,
                    "min": "-0.54017728",
                    "max": "0.76250141",
                    "histogram": [
                      {
                        "bin_start": -0.54017728,
                        "bin_end": -0.409909411,
                        "count": 1
                      },
                      {
                        "bin_start": -0.409909411,
                        "bin_end": -0.27964154199999997,
                        "count": 1
                      },
                      {
                        "bin_start": -0.27964154199999997,
                        "bin_end": -0.14937367299999993,
                        "count": 1
                      },
                      {
                        "bin_start": -0.14937367299999993,
                        "bin_end": -0.01910580399999995,
                        "count": 2
                      },
                      {
                        "bin_start": -0.01910580399999995,
                        "bin_end": 0.11116206500000003,
                        "count": 1
                      },
                      {
                        "bin_start": 0.11116206500000003,
                        "bin_end": 0.24142993400000012,
                        "count": 1
                      },
                      {
                        "bin_start": 0.24142993400000012,
                        "bin_end": 0.3716978030000001,
                        "count": 0
                      },
                      {
                        "bin_start": 0.3716978030000001,
                        "bin_end": 0.5019656720000001,
                        "count": 1
                      },
                      {
                        "bin_start": 0.5019656720000001,
                        "bin_end": 0.6322335410000002,
                        "count": 0
                      },
                      {
                        "bin_start": 0.6322335410000002,
                        "bin_end": 0.76250141,
                        "count": 1
                      }
                    ]
                  }
                },
                {
                  "name": "C3",
                  "dtype": "float64",
                  "stats": {
                    "unique_count": 7,
                    "nan_count": 3,
                    "min": "-313.0",
                    "max": "16.36751598",
                    "histogram": [
                      {
                        "bin_start": -313,
                        "bin_end": -280.063248402,
                        "count": 1
                      },
                      {
                        "bin_start": -280.063248402,
                        "bin_end": -247.126496804,
                        "count": 0
                      },
                      {
                        "bin_start": -247.126496804,
                        "bin_end": -214.189745206,
                        "count": 0
                      },
                      {
                        "bin_start": -214.189745206,
                        "bin_end": -181.252993608,
                        "count": 0
                      },
                      {
                        "bin_start": -181.252993608,
                        "bin_end": -148.31624201,
                        "count": 1
                      },
                      {
                        "bin_start": -148.31624201,
                        "bin_end": -115.379490412,
                        "count": 0
                      },
                      {
                        "bin_start": -115.379490412,
                        "bin_end": -82.442738814,
                        "count": 0
                      },
                      {
                        "bin_start": -82.442738814,
                        "bin_end": -49.505987215999994,
                        "count": 0
                      },
                      {
                        "bin_start": -49.505987215999994,
                        "bin_end": -16.569235617999993,
                        "count": 0
                      },
                      {
                        "bin_start": -16.569235617999993,
                        "bin_end": 16.36751598,
                        "count": 5
                      }
                    ]
                  }
                },
                {
                  "name": "C4",
                  "dtype": "float64",
                  "stats": {
                    "unique_count": 10,
                    "nan_count": 0,
                    "min": "-0.116055627",
                    "max": "0.052480647",
                    "histogram": [
                      {
                        "bin_start": -0.116055627,
                        "bin_end": -0.0992019996,
                        "count": 1
                      },
                      {
                        "bin_start": -0.0992019996,
                        "bin_end": -0.08234837219999999,
                        "count": 0
                      },
                      {
                        "bin_start": -0.08234837219999999,
                        "bin_end": -0.0654947448,
                        "count": 0
                      },
                      {
                        "bin_start": -0.0654947448,
                        "bin_end": -0.0486411174,
                        "count": 0
                      },
                      {
                        "bin_start": -0.0486411174,
                        "bin_end": -0.03178749,
                        "count": 1
                      },
                      {
                        "bin_start": -0.03178749,
                        "bin_end": -0.014933862600000014,
                        "count": 1
                      },
                      {
                        "bin_start": -0.014933862600000014,
                        "bin_end": 0.0019197647999999873,
                        "count": 4
                      },
                      {
                        "bin_start": 0.0019197647999999873,
                        "bin_end": 0.01877339219999999,
                        "count": 1
                      },
                      {
                        "bin_start": 0.01877339219999999,
                        "bin_end": 0.035627019599999976,
                        "count": 1
                      },
                      {
                        "bin_start": 0.035627019599999976,
                        "bin_end": 0.052480647,
                        "count": 1
                      }
                    ]
                  }
                },
                {
                  "name": "C5",
                  "dtype": "float64",
                  "stats": {
                    "unique_count": 10,
                    "nan_count": 0,
                    "min": "-67.0",
                    "max": "53.0",
                    "histogram": [
                      {
                        "bin_start": -67,
                        "bin_end": -55,
                        "count": 1
                      },
                      {
                        "bin_start": -55,
                        "bin_end": -43,
                        "count": 0
                      },
                      {
                        "bin_start": -43,
                        "bin_end": -31,
                        "count": 0
                      },
                      {
                        "bin_start": -31,
                        "bin_end": -19,
                        "count": 0
                      },
                      {
                        "bin_start": -19,
                        "bin_end": -7,
                        "count": 0
                      },
                      {
                        "bin_start": -7,
                        "bin_end": 5,
                        "count": 8
                      },
                      {
                        "bin_start": 5,
                        "bin_end": 17,
                        "count": 0
                      },
                      {
                        "bin_start": 17,
                        "bin_end": 29,
                        "count": 0
                      },
                      {
                        "bin_start": 29,
                        "bin_end": 41,
                        "count": 0
                      },
                      {
                        "bin_start": 41,
                        "bin_end": 53,
                        "count": 1
                      }
                    ]
                  }
                },
                {
                  "name": "C6",
                  "dtype": "float64",
                  "stats": {
                    "unique_count": 9,
                    "nan_count": 1,
                    "min": "-88.0",
                    "max": "2.748136517",
                    "histogram": [
                      {
                        "bin_start": -88,
                        "bin_end": -78.9251863483,
                        "count": 1
                      },
                      {
                        "bin_start": -78.9251863483,
                        "bin_end": -69.8503726966,
                        "count": 0
                      },
                      {
                        "bin_start": -69.8503726966,
                        "bin_end": -60.77555904489999,
                        "count": 0
                      },
                      {
                        "bin_start": -60.77555904489999,
                        "bin_end": -51.700745393199995,
                        "count": 0
                      },
                      {
                        "bin_start": -51.700745393199995,
                        "bin_end": -42.6259317415,
                        "count": 1
                      },
                      {
                        "bin_start": -42.6259317415,
                        "bin_end": -33.55111808979999,
                        "count": 0
                      },
                      {
                        "bin_start": -33.55111808979999,
                        "bin_end": -24.476304438099987,
                        "count": 0
                      },
                      {
                        "bin_start": -24.476304438099987,
                        "bin_end": -15.40149078639999,
                        "count": 0
                      },
                      {
                        "bin_start": -15.40149078639999,
                        "bin_end": -6.326677134699992,
                        "count": 0
                      },
                      {
                        "bin_start": -6.326677134699992,
                        "bin_end": 2.748136517,
                        "count": 7
                      }
                    ]
                  }
                },
                {
                  "name": "C7",
                  "dtype": "float64",
                  "stats": {
                    "unique_count": 9,
                    "nan_count": 1,
                    "min": "-472.0",
                    "max": "0.147639537",
                    "histogram": [
                      {
                        "bin_start": -472,
                        "bin_end": -424.7852360463,
                        "count": 1
                      },
                      {
                        "bin_start": -424.7852360463,
                        "bin_end": -377.57047209259997,
                        "count": 0
                      },
                      {
                        "bin_start": -377.57047209259997,
                        "bin_end": -330.3557081389,
                        "count": 1
                      },
                      {
                        "bin_start": -330.3557081389,
                        "bin_end": -283.1409441852,
                        "count": 0
                      },
                      {
                        "bin_start": -283.1409441852,
                        "bin_end": -235.92618023149998,
                        "count": 0
                      },
                      {
                        "bin_start": -235.92618023149998,
                        "bin_end": -188.71141627780003,
                        "count": 0
                      },
                      {
                        "bin_start": -188.71141627780003,
                        "bin_end": -141.4966523241,
                        "count": 0
                      },
                      {
                        "bin_start": -141.4966523241,
                        "bin_end": -94.2818883704,
                        "count": 1
                      },
                      {
                        "bin_start": -94.2818883704,
                        "bin_end": -47.06712441669998,
                        "count": 0
                      },
                      {
                        "bin_start": -47.06712441669998,
                        "bin_end": 0.147639537,
                        "count": 6
                      }
                    ]
                  }
                },
                {
                  "name": "C8",
                  "dtype": "float64",
                  "stats": {
                    "unique_count": 8,
                    "nan_count": 2,
                    "min": "-0.038323932",
                    "max": "0.065878874",
                    "histogram": [
                      {
                        "bin_start": -0.038323932,
                        "bin_end": -0.027903651399999996,
                        "count": 1
                      },
                      {
                        "bin_start": -0.027903651399999996,
                        "bin_end": -0.017483370799999995,
                        "count": 0
                      },
                      {
                        "bin_start": -0.017483370799999995,
                        "bin_end": -0.00706309019999999,
                        "count": 0
                      },
                      {
                        "bin_start": -0.00706309019999999,
                        "bin_end": 0.0033571904000000083,
                        "count": 1
                      },
                      {
                        "bin_start": 0.0033571904000000083,
                        "bin_end": 0.013777471000000006,
                        "count": 1
                      },
                      {
                        "bin_start": 0.013777471000000006,
                        "bin_end": 0.02419775160000002,
                        "count": 1
                      },
                      {
                        "bin_start": 0.02419775160000002,
                        "bin_end": 0.034618032200000017,
                        "count": 0
                      },
                      {
                        "bin_start": 0.034618032200000017,
                        "bin_end": 0.045038312800000015,
                        "count": 2
                      },
                      {
                        "bin_start": 0.045038312800000015,
                        "bin_end": 0.05545859340000001,
                        "count": 0
                      },
                      {
                        "bin_start": 0.05545859340000001,
                        "bin_end": 0.065878874,
                        "count": 2
                      }
                    ]
                  }
                },
                {
                  "name": "C9",
                  "dtype": "float64",
                  "stats": {
                    "unique_count": 10,
                    "nan_count": 0,
                    "min": "-0.261258815",
                    "max": "0.358811618",
                    "histogram": [
                      {
                        "bin_start": -0.261258815,
                        "bin_end": -0.19925177169999997,
                        "count": 1
                      },
                      {
                        "bin_start": -0.19925177169999997,
                        "bin_end": -0.1372447284,
                        "count": 0
                      },
                      {
                        "bin_start": -0.1372447284,
                        "bin_end": -0.0752376851,
                        "count": 1
                      },
                      {
                        "bin_start": -0.0752376851,
                        "bin_end": -0.013230641799999998,
                        "count": 1
                      },
                      {
                        "bin_start": -0.013230641799999998,
                        "bin_end": 0.04877640150000001,
                        "count": 1
                      },
                      {
                        "bin_start": 0.04877640150000001,
                        "bin_end": 0.11078344479999996,
                        "count": 3
                      },
                      {
                        "bin_start": 0.11078344479999996,
                        "bin_end": 0.17279048809999997,
                        "count": 1
                      },
                      {
                        "bin_start": 0.17279048809999997,
                        "bin_end": 0.23479753139999998,
                        "count": 1
                      },
                      {
                        "bin_start": 0.23479753139999998,
                        "bin_end": 0.29680457469999993,
                        "count": 0
                      },
                      {
                        "bin_start": 0.29680457469999993,
                        "bin_end": 0.358811618,
                        "count": 1
                      }
                    ]
                  }
                },
                {
                  "name": "C10",
                  "dtype": "float64",
                  "stats": {
                    "unique_count": 9,
                    "nan_count": 1,
                    "min": "-0.693791924",
                    "max": "0.438852892",
                    "histogram": [
                      {
                        "bin_start": -0.693791924,
                        "bin_end": -0.5805274424,
                        "count": 1
                      },
                      {
                        "bin_start": -0.5805274424,
                        "bin_end": -0.4672629608,
                        "count": 0
                      },
                      {
                        "bin_start": -0.4672629608,
                        "bin_end": -0.35399847920000005,
                        "count": 1
                      },
                      {
                        "bin_start": -0.35399847920000005,
                        "bin_end": -0.24073399760000003,
                        "count": 2
                      },
                      {
                        "bin_start": -0.24073399760000003,
                        "bin_end": -0.127469516,
                        "count": 0
                      },
                      {
                        "bin_start": -0.127469516,
                        "bin_end": -0.014205034400000094,
                        "count": 3
                      },
                      {
                        "bin_start": -0.014205034400000094,
                        "bin_end": 0.09905944719999993,
                        "count": 1
                      },
                      {
                        "bin_start": 0.09905944719999993,
                        "bin_end": 0.21232392879999995,
                        "count": 0
                      },
                      {
                        "bin_start": 0.21232392879999995,
                        "bin_end": 0.32558841039999986,
                        "count": 0
                      },
                      {
                        "bin_start": 0.32558841039999986,
                        "bin_end": 0.438852892,
                        "count": 1
                      }
                    ]
                  }
                },
                {
                  "name": "C11",
                  "dtype": "float64",
                  "stats": {
                    "unique_count": 7,
                    "nan_count": 3,
                    "min": "-274.0",
                    "max": "0.4209461",
                    "histogram": [
                      {
                        "bin_start": -274,
                        "bin_end": -246.55790539,
                        "count": 2
                      },
                      {
                        "bin_start": -246.55790539,
                        "bin_end": -219.11581078,
                        "count": 0
                      },
                      {
                        "bin_start": -219.11581078,
                        "bin_end": -191.67371617,
                        "count": 0
                      },
                      {
                        "bin_start": -191.67371617,
                        "bin_end": -164.23162156,
                        "count": 0
                      },
                      {
                        "bin_start": -164.23162156,
                        "bin_end": -136.78952695,
                        "count": 0
                      },
                      {
                        "bin_start": -136.78952695,
                        "bin_end": -109.34743234000001,
                        "count": 0
                      },
                      {
                        "bin_start": -109.34743234000001,
                        "bin_end": -81.90533773000001,
                        "count": 0
                      },
                      {
                        "bin_start": -81.90533773000001,
                        "bin_end": -54.463243120000016,
                        "count": 0
                      },
                      {
                        "bin_start": -54.463243120000016,
                        "bin_end": -27.021148510000017,
                        "count": 0
                      },
                      {
                        "bin_start": -27.021148510000017,
                        "bin_end": 0.4209461,
                        "count": 5
                      }
                    ]
                  }
                },
                {
                  "name": "C12",
                  "dtype": "float64",
                  "stats": {
                    "unique_count": 9,
                    "nan_count": 1,
                    "min": "-61.0",
                    "max": "361.0",
                    "histogram": [
                      {
                        "bin_start": -61,
                        "bin_end": -18.799999999999997,
                        "count": 1
                      },
                      {
                        "bin_start": -18.799999999999997,
                        "bin_end": 23.400000000000006,
                        "count": 7
                      },
                      {
                        "bin_start": 23.400000000000006,
                        "bin_end": 65.60000000000001,
                        "count": 0
                      },
                      {
                        "bin_start": 65.60000000000001,
                        "bin_end": 107.80000000000001,
                        "count": 0
                      },
                      {
                        "bin_start": 107.80000000000001,
                        "bin_end": 150,
                        "count": 0
                      },
                      {
                        "bin_start": 150,
                        "bin_end": 192.20000000000002,
                        "count": 0
                      },
                      {
                        "bin_start": 192.20000000000002,
                        "bin_end": 234.40000000000003,
                        "count": 0
                      },
                      {
                        "bin_start": 234.40000000000003,
                        "bin_end": 276.6,
                        "count": 0
                      },
                      {
                        "bin_start": 276.6,
                        "bin_end": 318.8,
                        "count": 0
                      },
                      {
                        "bin_start": 318.8,
                        "bin_end": 361,
                        "count": 1
                      }
                    ]
                  }
                },
                {
                  "name": "Class",
                  "dtype": "int64",
                  "stats": {
                    "unique_count": 1,
                    "nan_count": 0,
                    "min": "0",
                    "max": "0",
                    "histogram": [
                      {
                        "bin_start": -0.5,
                        "bin_end": -0.4,
                        "count": 0
                      },
                      {
                        "bin_start": -0.4,
                        "bin_end": -0.3,
                        "count": 0
                      },
                      {
                        "bin_start": -0.3,
                        "bin_end": -0.19999999999999996,
                        "count": 0
                      },
                      {
                        "bin_start": -0.19999999999999996,
                        "bin_end": -0.09999999999999998,
                        "count": 0
                      },
                      {
                        "bin_start": -0.09999999999999998,
                        "bin_end": 0,
                        "count": 0
                      },
                      {
                        "bin_start": 0,
                        "bin_end": 0.10000000000000009,
                        "count": 10
                      },
                      {
                        "bin_start": 0.10000000000000009,
                        "bin_end": 0.20000000000000007,
                        "count": 0
                      },
                      {
                        "bin_start": 0.20000000000000007,
                        "bin_end": 0.30000000000000004,
                        "count": 0
                      },
                      {
                        "bin_start": 0.30000000000000004,
                        "bin_end": 0.4,
                        "count": 0
                      },
                      {
                        "bin_start": 0.4,
                        "bin_end": 0.5,
                        "count": 0
                      }
                    ]
                  }
                },
                {
                  "name": "_deepnote_index_column",
                  "dtype": "int64"
                }
              ],
              "rows": [
                {
                  "Timestamp": 152212.2222,
                  "Value": 1.816,
                  "C1": 13.24521896,
                  "C2": "nan",
                  "C3": 16.36751598,
                  "C4": 0.029326343,
                  "C5": 1.278423381,
                  "C6": 2.748136517,
                  "C7": -1.331457025,
                  "C8": 0.065878874,
                  "C9": -0.104517511,
                  "C10": -0.037517261,
                  "C11": -250,
                  "C12": -0.47563277,
                  "Class": 0,
                  "_deepnote_index_column": 0
                },
                {
                  "Timestamp": 159074.4444,
                  "Value": 163.568,
                  "C1": 4.401402651,
                  "C2": 0.084682323,
                  "C3": -313,
                  "C4": 0.001887542,
                  "C5": -0.103762144,
                  "C6": 1.115678381,
                  "C7": "nan",
                  "C8": 0.062966033,
                  "C9": 0.130545982,
                  "C10": -0.303582497,
                  "C11": "nan",
                  "C12": "nan",
                  "Class": 0,
                  "_deepnote_index_column": 1
                },
                {
                  "Timestamp": 43127.77778,
                  "Value": 24,
                  "C1": -9.067399008,
                  "C2": 0.76250141,
                  "C3": "nan",
                  "C4": 0.052480647,
                  "C5": -0.101681228,
                  "C6": -88,
                  "C7": 0.117912472,
                  "C8": "nan",
                  "C9": 0.358811618,
                  "C10": -0.367016009,
                  "C11": "nan",
                  "C12": 361,
                  "Class": 0,
                  "_deepnote_index_column": 2
                },
                {
                  "Timestamp": 156042.2222,
                  "Value": 8,
                  "C1": 8.728303821,
                  "C2": -0.382673438,
                  "C3": "nan",
                  "C4": -0.116055627,
                  "C5": -0.122345716,
                  "C6": -44,
                  "C7": -338,
                  "C8": 0.042153887,
                  "C9": -0.261258815,
                  "C10": -0.103974088,
                  "C11": "nan",
                  "C12": -1.65437303,
                  "Class": 0,
                  "_deepnote_index_column": 3
                },
                {
                  "Timestamp": 154720,
                  "Value": 59.496,
                  "C1": 7.657141017,
                  "C2": 0.150611449,
                  "C3": "nan",
                  "C4": -0.034883005,
                  "C5": 0.826099816,
                  "C6": 0.357556054,
                  "C7": 0.147639537,
                  "C8": "nan",
                  "C9": 0.080490578,
                  "C10": -0.693791924,
                  "C11": -0.308631041,
                  "C12": 0.563569975,
                  "Class": 0,
                  "_deepnote_index_column": 4
                },
                {
                  "Timestamp": 37515.55556,
                  "Value": 7.192,
                  "C1": -6.94469954,
                  "C2": -0.13638771,
                  "C3": 0.543171932,
                  "C4": -0.024708279,
                  "C5": 0.11211625,
                  "C6": 1.647884276,
                  "C7": -0.003728685,
                  "C8": 0.039702364,
                  "C9": 0.097664252,
                  "C10": -0.341835815,
                  "C11": -274,
                  "C12": -0.056484138,
                  "Class": 0,
                  "_deepnote_index_column": 5
                },
                {
                  "Timestamp": 34078.88889,
                  "Value": 10.32,
                  "C1": 133,
                  "C2": -0.54017728,
                  "C3": 8.803811771,
                  "C4": -0.007306548,
                  "C5": -67,
                  "C6": 1.709943743,
                  "C7": -0.316350773,
                  "C8": -0.003740844,
                  "C9": 0.187718171,
                  "C10": "nan",
                  "C11": 0.338620962,
                  "C12": 0.227838853,
                  "Class": 0,
                  "_deepnote_index_column": 6
                },
                {
                  "Timestamp": 58923.33333,
                  "Value": 1.584,
                  "C1": -0.6702644,
                  "C2": -0.16462602,
                  "C3": -8.848896755,
                  "C4": 0.002277997,
                  "C5": 0.078980785,
                  "C6": 1.143923488,
                  "C7": -472,
                  "C8": 0.010554651,
                  "C9": 0.065274778,
                  "C10": 0.029734518,
                  "C11": -0.39626111,
                  "C12": -0.182626008,
                  "Class": 0,
                  "_deepnote_index_column": 7
                },
                {
                  "Timestamp": 166341.1111,
                  "Value": 100,
                  "C1": 1.984216404,
                  "C2": 0.416603634,
                  "C3": -178,
                  "C4": -0.00364094,
                  "C5": 53,
                  "C6": "nan",
                  "C7": 0.109451024,
                  "C8": 0.022315534,
                  "C9": -0.039217167,
                  "C10": 0.438852892,
                  "C11": -0.184313113,
                  "C12": 0.64327263,
                  "Class": 0,
                  "_deepnote_index_column": 8
                },
                {
                  "Timestamp": 175154.4444,
                  "Value": 0.712,
                  "C1": 5.857276053,
                  "C2": -0.073466049,
                  "C3": 0.667938398,
                  "C4": -0.000891146,
                  "C5": -0.012069316,
                  "C6": 1.427191455,
                  "C7": -101,
                  "C8": -0.038323932,
                  "C9": 0.014183393,
                  "C10": -0.109038924,
                  "C11": 0.4209461,
                  "C12": -61,
                  "Class": 0,
                  "_deepnote_index_column": 9
                }
              ]
            },
            "text/plain": "      Timestamp    Value          C1        C2          C3        C4  \\\n0  152212.22220    1.816   13.245219       NaN   16.367516  0.029326   \n1  159074.44440  163.568    4.401403  0.084682 -313.000000  0.001888   \n2   43127.77778   24.000   -9.067399  0.762501         NaN  0.052481   \n3  156042.22220    8.000    8.728304 -0.382673         NaN -0.116056   \n4  154720.00000   59.496    7.657141  0.150611         NaN -0.034883   \n5   37515.55556    7.192   -6.944700 -0.136388    0.543172 -0.024708   \n6   34078.88889   10.320  133.000000 -0.540177    8.803812 -0.007307   \n7   58923.33333    1.584   -0.670264 -0.164626   -8.848897  0.002278   \n8  166341.11110  100.000    1.984216  0.416604 -178.000000 -0.003641   \n9  175154.44440    0.712    5.857276 -0.073466    0.667938 -0.000891   \n\n          C5         C6          C7        C8        C9       C10         C11  \\\n0   1.278423   2.748137   -1.331457  0.065879 -0.104518 -0.037517 -250.000000   \n1  -0.103762   1.115678         NaN  0.062966  0.130546 -0.303582         NaN   \n2  -0.101681 -88.000000    0.117912       NaN  0.358812 -0.367016         NaN   \n3  -0.122346 -44.000000 -338.000000  0.042154 -0.261259 -0.103974         NaN   \n4   0.826100   0.357556    0.147640       NaN  0.080491 -0.693792   -0.308631   \n5   0.112116   1.647884   -0.003729  0.039702  0.097664 -0.341836 -274.000000   \n6 -67.000000   1.709944   -0.316351 -0.003741  0.187718       NaN    0.338621   \n7   0.078981   1.143923 -472.000000  0.010555  0.065275  0.029735   -0.396261   \n8  53.000000        NaN    0.109451  0.022316 -0.039217  0.438853   -0.184313   \n9  -0.012069   1.427191 -101.000000 -0.038324  0.014183 -0.109039    0.420946   \n\n          C12  Class  \n0   -0.475633      0  \n1         NaN      0  \n2  361.000000      0  \n3   -1.654373      0  \n4    0.563570      0  \n5   -0.056484      0  \n6    0.227839      0  \n7   -0.182626      0  \n8    0.643273      0  \n9  -61.000000      0  ",
            "text/html": "<div>\n<style scoped>\n    .dataframe tbody tr th:only-of-type {\n        vertical-align: middle;\n    }\n\n    .dataframe tbody tr th {\n        vertical-align: top;\n    }\n\n    .dataframe thead th {\n        text-align: right;\n    }\n</style>\n<table border=\"1\" class=\"dataframe\">\n  <thead>\n    <tr style=\"text-align: right;\">\n      <th></th>\n      <th>Timestamp</th>\n      <th>Value</th>\n      <th>C1</th>\n      <th>C2</th>\n      <th>C3</th>\n      <th>C4</th>\n      <th>C5</th>\n      <th>C6</th>\n      <th>C7</th>\n      <th>C8</th>\n      <th>C9</th>\n      <th>C10</th>\n      <th>C11</th>\n      <th>C12</th>\n      <th>Class</th>\n    </tr>\n  </thead>\n  <tbody>\n    <tr>\n      <th>0</th>\n      <td>152212.22220</td>\n      <td>1.816</td>\n      <td>13.245219</td>\n      <td>NaN</td>\n      <td>16.367516</td>\n      <td>0.029326</td>\n      <td>1.278423</td>\n      <td>2.748137</td>\n      <td>-1.331457</td>\n      <td>0.065879</td>\n      <td>-0.104518</td>\n      <td>-0.037517</td>\n      <td>-250.000000</td>\n      <td>-0.475633</td>\n      <td>0</td>\n    </tr>\n    <tr>\n      <th>1</th>\n      <td>159074.44440</td>\n      <td>163.568</td>\n      <td>4.401403</td>\n      <td>0.084682</td>\n      <td>-313.000000</td>\n      <td>0.001888</td>\n      <td>-0.103762</td>\n      <td>1.115678</td>\n      <td>NaN</td>\n      <td>0.062966</td>\n      <td>0.130546</td>\n      <td>-0.303582</td>\n      <td>NaN</td>\n      <td>NaN</td>\n      <td>0</td>\n    </tr>\n    <tr>\n      <th>2</th>\n      <td>43127.77778</td>\n      <td>24.000</td>\n      <td>-9.067399</td>\n      <td>0.762501</td>\n      <td>NaN</td>\n      <td>0.052481</td>\n      <td>-0.101681</td>\n      <td>-88.000000</td>\n      <td>0.117912</td>\n      <td>NaN</td>\n      <td>0.358812</td>\n      <td>-0.367016</td>\n      <td>NaN</td>\n      <td>361.000000</td>\n      <td>0</td>\n    </tr>\n    <tr>\n      <th>3</th>\n      <td>156042.22220</td>\n      <td>8.000</td>\n      <td>8.728304</td>\n      <td>-0.382673</td>\n      <td>NaN</td>\n      <td>-0.116056</td>\n      <td>-0.122346</td>\n      <td>-44.000000</td>\n      <td>-338.000000</td>\n      <td>0.042154</td>\n      <td>-0.261259</td>\n      <td>-0.103974</td>\n      <td>NaN</td>\n      <td>-1.654373</td>\n      <td>0</td>\n    </tr>\n    <tr>\n      <th>4</th>\n      <td>154720.00000</td>\n      <td>59.496</td>\n      <td>7.657141</td>\n      <td>0.150611</td>\n      <td>NaN</td>\n      <td>-0.034883</td>\n      <td>0.826100</td>\n      <td>0.357556</td>\n      <td>0.147640</td>\n      <td>NaN</td>\n      <td>0.080491</td>\n      <td>-0.693792</td>\n      <td>-0.308631</td>\n      <td>0.563570</td>\n      <td>0</td>\n    </tr>\n    <tr>\n      <th>5</th>\n      <td>37515.55556</td>\n      <td>7.192</td>\n      <td>-6.944700</td>\n      <td>-0.136388</td>\n      <td>0.543172</td>\n      <td>-0.024708</td>\n      <td>0.112116</td>\n      <td>1.647884</td>\n      <td>-0.003729</td>\n      <td>0.039702</td>\n      <td>0.097664</td>\n      <td>-0.341836</td>\n      <td>-274.000000</td>\n      <td>-0.056484</td>\n      <td>0</td>\n    </tr>\n    <tr>\n      <th>6</th>\n      <td>34078.88889</td>\n      <td>10.320</td>\n      <td>133.000000</td>\n      <td>-0.540177</td>\n      <td>8.803812</td>\n      <td>-0.007307</td>\n      <td>-67.000000</td>\n      <td>1.709944</td>\n      <td>-0.316351</td>\n      <td>-0.003741</td>\n      <td>0.187718</td>\n      <td>NaN</td>\n      <td>0.338621</td>\n      <td>0.227839</td>\n      <td>0</td>\n    </tr>\n    <tr>\n      <th>7</th>\n      <td>58923.33333</td>\n      <td>1.584</td>\n      <td>-0.670264</td>\n      <td>-0.164626</td>\n      <td>-8.848897</td>\n      <td>0.002278</td>\n      <td>0.078981</td>\n      <td>1.143923</td>\n      <td>-472.000000</td>\n      <td>0.010555</td>\n      <td>0.065275</td>\n      <td>0.029735</td>\n      <td>-0.396261</td>\n      <td>-0.182626</td>\n      <td>0</td>\n    </tr>\n    <tr>\n      <th>8</th>\n      <td>166341.11110</td>\n      <td>100.000</td>\n      <td>1.984216</td>\n      <td>0.416604</td>\n      <td>-178.000000</td>\n      <td>-0.003641</td>\n      <td>53.000000</td>\n      <td>NaN</td>\n      <td>0.109451</td>\n      <td>0.022316</td>\n      <td>-0.039217</td>\n      <td>0.438853</td>\n      <td>-0.184313</td>\n      <td>0.643273</td>\n      <td>0</td>\n    </tr>\n    <tr>\n      <th>9</th>\n      <td>175154.44440</td>\n      <td>0.712</td>\n      <td>5.857276</td>\n      <td>-0.073466</td>\n      <td>0.667938</td>\n      <td>-0.000891</td>\n      <td>-0.012069</td>\n      <td>1.427191</td>\n      <td>-101.000000</td>\n      <td>-0.038324</td>\n      <td>0.014183</td>\n      <td>-0.109039</td>\n      <td>0.420946</td>\n      <td>-61.000000</td>\n      <td>0</td>\n    </tr>\n  </tbody>\n</table>\n</div>"
          },
          "metadata": {}
        }
      ],
      "execution_count": null,
      "block_group": "347a06c482434d25826ca81ef14a3e34"
    },
    {
      "cell_type": "code",
      "source": "transaction_data.info()",
      "metadata": {
        "source_hash": null,
        "execution_start": 1692697204056,
        "execution_millis": 190,
        "deepnote_to_be_reexecuted": false,
        "cell_id": "386fda858b144ef3a71a373a0bb82fd3",
        "deepnote_cell_type": "code"
      },
      "outputs": [
        {
          "name": "stdout",
          "text": "<class 'pandas.core.frame.DataFrame'>\nRangeIndex: 140000 entries, 0 to 139999\nData columns (total 15 columns):\n #   Column     Non-Null Count   Dtype  \n---  ------     --------------   -----  \n 0   Timestamp  140000 non-null  float64\n 1   Value      140000 non-null  float64\n 2   C1         116232 non-null  float64\n 3   C2         129731 non-null  float64\n 4   C3         129693 non-null  float64\n 5   C4         140000 non-null  float64\n 6   C5         129678 non-null  float64\n 7   C6         116529 non-null  float64\n 8   C7         125595 non-null  float64\n 9   C8         129645 non-null  float64\n 10  C9         140000 non-null  float64\n 11  C10        129891 non-null  float64\n 12  C11        125695 non-null  float64\n 13  C12        125833 non-null  float64\n 14  Class      140000 non-null  int64  \ndtypes: float64(14), int64(1)\nmemory usage: 16.0 MB\n",
          "output_type": "stream"
        }
      ],
      "execution_count": null,
      "block_group": "aeeb2d9b9f8e487c88d0e779870f0845"
    },
    {
      "cell_type": "code",
      "source": "transaction_data['Class'].value_counts()",
      "metadata": {
        "source_hash": null,
        "execution_start": 1692697204085,
        "execution_millis": 43,
        "deepnote_to_be_reexecuted": false,
        "cell_id": "e474e4eb21b446dfa0d50a9fc9ee4964",
        "deepnote_cell_type": "code"
      },
      "outputs": [
        {
          "output_type": "execute_result",
          "execution_count": 5,
          "data": {
            "text/plain": "0    139747\n1       253\nName: Class, dtype: int64"
          },
          "metadata": {}
        }
      ],
      "execution_count": null,
      "block_group": "aba2aa8f6d7a4b3293ba90d723f7a725"
    },
    {
      "cell_type": "code",
      "source": "sns.countplot(x='Class',data=transaction_data)",
      "metadata": {
        "source_hash": null,
        "execution_start": 1692697204104,
        "execution_millis": 306,
        "deepnote_to_be_reexecuted": false,
        "cell_id": "753c5432758540db9a65a54a3195294e",
        "deepnote_cell_type": "code"
      },
      "outputs": [
        {
          "output_type": "execute_result",
          "execution_count": 6,
          "data": {
            "text/plain": "<AxesSubplot: xlabel='Class', ylabel='count'>"
          },
          "metadata": {}
        },
        {
          "data": {
            "text/plain": "<Figure size 640x480 with 1 Axes>",
            "image/png": "[encoded data removed]"
          },
          "metadata": {
            "image/png": {
              "width": 597,
              "height": 432
            }
          },
          "output_type": "display_data"
        }
      ],
      "execution_count": null,
      "block_group": "67d38e161d8349dba2eecec2f8b9d297"
    },
    {
      "cell_type": "markdown",
      "source": "### Lets get more details about the data ",
      "metadata": {
        "cell_id": "521dafae16414600a9da0269c122f412",
        "deepnote_cell_type": "markdown"
      },
      "block_group": "0e0d8cd89bf1489a9318443e0f905e96"
    },
    {
      "cell_type": "code",
      "source": "transaction_data.info()",
      "metadata": {
        "source_hash": null,
        "execution_start": 1692697204668,
        "execution_millis": 57,
        "deepnote_to_be_reexecuted": false,
        "cell_id": "b4d2d09e22d74e5985a51c206371deab",
        "deepnote_cell_type": "code"
      },
      "outputs": [
        {
          "name": "stdout",
          "text": "<class 'pandas.core.frame.DataFrame'>\nRangeIndex: 140000 entries, 0 to 139999\nData columns (total 15 columns):\n #   Column     Non-Null Count   Dtype  \n---  ------     --------------   -----  \n 0   Timestamp  140000 non-null  float64\n 1   Value      140000 non-null  float64\n 2   C1         116232 non-null  float64\n 3   C2         129731 non-null  float64\n 4   C3         129693 non-null  float64\n 5   C4         140000 non-null  float64\n 6   C5         129678 non-null  float64\n 7   C6         116529 non-null  float64\n 8   C7         125595 non-null  float64\n 9   C8         129645 non-null  float64\n 10  C9         140000 non-null  float64\n 11  C10        129891 non-null  float64\n 12  C11        125695 non-null  float64\n 13  C12        125833 non-null  float64\n 14  Class      140000 non-null  int64  \ndtypes: float64(14), int64(1)\nmemory usage: 16.0 MB\n",
          "output_type": "stream"
        }
      ],
      "execution_count": null,
      "block_group": "562776f661bc4c9b86f3653239847fd8"
    },
    {
      "cell_type": "code",
      "source": "transaction_data.describe()",
      "metadata": {
        "scrolled": true,
        "source_hash": null,
        "execution_start": 1692697204713,
        "execution_millis": 411,
        "deepnote_to_be_reexecuted": false,
        "cell_id": "106f841633714831aa1a7a0fee6b0932",
        "deepnote_cell_type": "code"
      },
      "outputs": [
        {
          "output_type": "execute_result",
          "execution_count": 8,
          "data": {
            "application/vnd.deepnote.dataframe.v3+json": {
              "column_count": 15,
              "row_count": 8,
              "columns": [
                {
                  "name": "Timestamp",
                  "dtype": "float64",
                  "stats": {
                    "unique_count": 8,
                    "nan_count": 0,
                    "min": "0.0",
                    "max": "191985.5556",
                    "histogram": [
                      {
                        "bin_start": 0,
                        "bin_end": 19198.55556,
                        "count": 1
                      },
                      {
                        "bin_start": 19198.55556,
                        "bin_end": 38397.11112,
                        "count": 0
                      },
                      {
                        "bin_start": 38397.11112,
                        "bin_end": 57595.66668,
                        "count": 1
                      },
                      {
                        "bin_start": 57595.66668,
                        "bin_end": 76794.22224,
                        "count": 1
                      },
                      {
                        "bin_start": 76794.22224,
                        "bin_end": 95992.77780000001,
                        "count": 1
                      },
                      {
                        "bin_start": 95992.77780000001,
                        "bin_end": 115191.33336,
                        "count": 1
                      },
                      {
                        "bin_start": 115191.33336,
                        "bin_end": 134389.88892,
                        "count": 0
                      },
                      {
                        "bin_start": 134389.88892,
                        "bin_end": 153588.44448,
                        "count": 1
                      },
                      {
                        "bin_start": 153588.44448,
                        "bin_end": 172787.00004,
                        "count": 1
                      },
                      {
                        "bin_start": 172787.00004,
                        "bin_end": 191985.5556,
                        "count": 1
                      }
                    ]
                  }
                },
                {
                  "name": "Value",
                  "dtype": "float64",
                  "stats": {
                    "unique_count": 8,
                    "nan_count": 0,
                    "min": "0.0",
                    "max": "140000.0",
                    "histogram": [
                      {
                        "bin_start": 0,
                        "bin_end": 14000,
                        "count": 6
                      },
                      {
                        "bin_start": 14000,
                        "bin_end": 28000,
                        "count": 1
                      },
                      {
                        "bin_start": 28000,
                        "bin_end": 42000,
                        "count": 0
                      },
                      {
                        "bin_start": 42000,
                        "bin_end": 56000,
                        "count": 0
                      },
                      {
                        "bin_start": 56000,
                        "bin_end": 70000,
                        "count": 0
                      },
                      {
                        "bin_start": 70000,
                        "bin_end": 84000,
                        "count": 0
                      },
                      {
                        "bin_start": 84000,
                        "bin_end": 98000,
                        "count": 0
                      },
                      {
                        "bin_start": 98000,
                        "bin_end": 112000,
                        "count": 0
                      },
                      {
                        "bin_start": 112000,
                        "bin_end": 126000,
                        "count": 0
                      },
                      {
                        "bin_start": 126000,
                        "bin_end": 140000,
                        "count": 1
                      }
                    ]
                  }
                },
                {
                  "name": "C1",
                  "dtype": "float64",
                  "stats": {
                    "unique_count": 8,
                    "nan_count": 0,
                    "min": "-2000.0",
                    "max": "116232.0",
                    "histogram": [
                      {
                        "bin_start": -2000,
                        "bin_end": 9823.2,
                        "count": 7
                      },
                      {
                        "bin_start": 9823.2,
                        "bin_end": 21646.4,
                        "count": 0
                      },
                      {
                        "bin_start": 21646.4,
                        "bin_end": 33469.600000000006,
                        "count": 0
                      },
                      {
                        "bin_start": 33469.600000000006,
                        "bin_end": 45292.8,
                        "count": 0
                      },
                      {
                        "bin_start": 45292.8,
                        "bin_end": 57116,
                        "count": 0
                      },
                      {
                        "bin_start": 57116,
                        "bin_end": 68939.20000000001,
                        "count": 0
                      },
                      {
                        "bin_start": 68939.20000000001,
                        "bin_end": 80762.40000000001,
                        "count": 0
                      },
                      {
                        "bin_start": 80762.40000000001,
                        "bin_end": 92585.6,
                        "count": 0
                      },
                      {
                        "bin_start": 92585.6,
                        "bin_end": 104408.8,
                        "count": 0
                      },
                      {
                        "bin_start": 104408.8,
                        "bin_end": 116232,
                        "count": 1
                      }
                    ]
                  }
                },
                {
                  "name": "C2",
                  "dtype": "float64",
                  "stats": {
                    "unique_count": 8,
                    "nan_count": 0,
                    "min": "-500.0",
                    "max": "129731.0",
                    "histogram": [
                      {
                        "bin_start": -500,
                        "bin_end": 12523.1,
                        "count": 7
                      },
                      {
                        "bin_start": 12523.1,
                        "bin_end": 25546.2,
                        "count": 0
                      },
                      {
                        "bin_start": 25546.2,
                        "bin_end": 38569.3,
                        "count": 0
                      },
                      {
                        "bin_start": 38569.3,
                        "bin_end": 51592.4,
                        "count": 0
                      },
                      {
                        "bin_start": 51592.4,
                        "bin_end": 64615.5,
                        "count": 0
                      },
                      {
                        "bin_start": 64615.5,
                        "bin_end": 77638.6,
                        "count": 0
                      },
                      {
                        "bin_start": 77638.6,
                        "bin_end": 90661.7,
                        "count": 0
                      },
                      {
                        "bin_start": 90661.7,
                        "bin_end": 103684.8,
                        "count": 0
                      },
                      {
                        "bin_start": 103684.8,
                        "bin_end": 116707.90000000001,
                        "count": 0
                      },
                      {
                        "bin_start": 116707.90000000001,
                        "bin_end": 129731,
                        "count": 1
                      }
                    ]
                  }
                },
                {
                  "name": "C3",
                  "dtype": "float64",
                  "stats": {
                    "unique_count": 8,
                    "nan_count": 0,
                    "min": "-500.0",
                    "max": "129693.0",
                    "histogram": [
                      {
                        "bin_start": -500,
                        "bin_end": 12519.3,
                        "count": 7
                      },
                      {
                        "bin_start": 12519.3,
                        "bin_end": 25538.6,
                        "count": 0
                      },
                      {
                        "bin_start": 25538.6,
                        "bin_end": 38557.899999999994,
                        "count": 0
                      },
                      {
                        "bin_start": 38557.899999999994,
                        "bin_end": 51577.2,
                        "count": 0
                      },
                      {
                        "bin_start": 51577.2,
                        "bin_end": 64596.5,
                        "count": 0
                      },
                      {
                        "bin_start": 64596.5,
                        "bin_end": 77615.79999999999,
                        "count": 0
                      },
                      {
                        "bin_start": 77615.79999999999,
                        "bin_end": 90635.09999999999,
                        "count": 0
                      },
                      {
                        "bin_start": 90635.09999999999,
                        "bin_end": 103654.4,
                        "count": 0
                      },
                      {
                        "bin_start": 103654.4,
                        "bin_end": 116673.7,
                        "count": 0
                      },
                      {
                        "bin_start": 116673.7,
                        "bin_end": 129693,
                        "count": 1
                      }
                    ]
                  }
                },
                {
                  "name": "C4",
                  "dtype": "float64",
                  "stats": {
                    "unique_count": 8,
                    "nan_count": 0,
                    "min": "-0.212539898",
                    "max": "140000.0",
                    "histogram": [
                      {
                        "bin_start": -0.212539898,
                        "bin_end": 13999.8087140918,
                        "count": 7
                      },
                      {
                        "bin_start": 13999.8087140918,
                        "bin_end": 27999.8299680816,
                        "count": 0
                      },
                      {
                        "bin_start": 27999.8299680816,
                        "bin_end": 41999.851222071404,
                        "count": 0
                      },
                      {
                        "bin_start": 41999.851222071404,
                        "bin_end": 55999.8724760612,
                        "count": 0
                      },
                      {
                        "bin_start": 55999.8724760612,
                        "bin_end": 69999.893730051,
                        "count": 0
                      },
                      {
                        "bin_start": 69999.893730051,
                        "bin_end": 83999.9149840408,
                        "count": 0
                      },
                      {
                        "bin_start": 83999.9149840408,
                        "bin_end": 97999.9362380306,
                        "count": 0
                      },
                      {
                        "bin_start": 97999.9362380306,
                        "bin_end": 111999.9574920204,
                        "count": 0
                      },
                      {
                        "bin_start": 111999.9574920204,
                        "bin_end": 125999.97874601021,
                        "count": 0
                      },
                      {
                        "bin_start": 125999.97874601021,
                        "bin_end": 140000,
                        "count": 1
                      }
                    ]
                  }
                },
                {
                  "name": "C5",
                  "dtype": "float64",
                  "stats": {
                    "unique_count": 8,
                    "nan_count": 0,
                    "min": "-500.0",
                    "max": "129678.0",
                    "histogram": [
                      {
                        "bin_start": -500,
                        "bin_end": 12517.8,
                        "count": 7
                      },
                      {
                        "bin_start": 12517.8,
                        "bin_end": 25535.6,
                        "count": 0
                      },
                      {
                        "bin_start": 25535.6,
                        "bin_end": 38553.399999999994,
                        "count": 0
                      },
                      {
                        "bin_start": 38553.399999999994,
                        "bin_end": 51571.2,
                        "count": 0
                      },
                      {
                        "bin_start": 51571.2,
                        "bin_end": 64589,
                        "count": 0
                      },
                      {
                        "bin_start": 64589,
                        "bin_end": 77606.79999999999,
                        "count": 0
                      },
                      {
                        "bin_start": 77606.79999999999,
                        "bin_end": 90624.59999999999,
                        "count": 0
                      },
                      {
                        "bin_start": 90624.59999999999,
                        "bin_end": 103642.4,
                        "count": 0
                      },
                      {
                        "bin_start": 103642.4,
                        "bin_end": 116660.2,
                        "count": 0
                      },
                      {
                        "bin_start": 116660.2,
                        "bin_end": 129678,
                        "count": 1
                      }
                    ]
                  }
                },
                {
                  "name": "C6",
                  "dtype": "float64",
                  "stats": {
                    "unique_count": 8,
                    "nan_count": 0,
                    "min": "-2000.0",
                    "max": "116529.0",
                    "histogram": [
                      {
                        "bin_start": -2000,
                        "bin_end": 9852.9,
                        "count": 7
                      },
                      {
                        "bin_start": 9852.9,
                        "bin_end": 21705.8,
                        "count": 0
                      },
                      {
                        "bin_start": 21705.8,
                        "bin_end": 33558.7,
                        "count": 0
                      },
                      {
                        "bin_start": 33558.7,
                        "bin_end": 45411.6,
                        "count": 0
                      },
                      {
                        "bin_start": 45411.6,
                        "bin_end": 57264.5,
                        "count": 0
                      },
                      {
                        "bin_start": 57264.5,
                        "bin_end": 69117.4,
                        "count": 0
                      },
                      {
                        "bin_start": 69117.4,
                        "bin_end": 80970.3,
                        "count": 0
                      },
                      {
                        "bin_start": 80970.3,
                        "bin_end": 92823.2,
                        "count": 0
                      },
                      {
                        "bin_start": 92823.2,
                        "bin_end": 104676.09999999999,
                        "count": 0
                      },
                      {
                        "bin_start": 104676.09999999999,
                        "bin_end": 116529,
                        "count": 1
                      }
                    ]
                  }
                },
                {
                  "name": "C7",
                  "dtype": "float64",
                  "stats": {
                    "unique_count": 8,
                    "nan_count": 0,
                    "min": "-1999.0",
                    "max": "125595.0",
                    "histogram": [
                      {
                        "bin_start": -1999,
                        "bin_end": 10760.4,
                        "count": 7
                      },
                      {
                        "bin_start": 10760.4,
                        "bin_end": 23519.8,
                        "count": 0
                      },
                      {
                        "bin_start": 23519.8,
                        "bin_end": 36279.2,
                        "count": 0
                      },
                      {
                        "bin_start": 36279.2,
                        "bin_end": 49038.6,
                        "count": 0
                      },
                      {
                        "bin_start": 49038.6,
                        "bin_end": 61798,
                        "count": 0
                      },
                      {
                        "bin_start": 61798,
                        "bin_end": 74557.4,
                        "count": 0
                      },
                      {
                        "bin_start": 74557.4,
                        "bin_end": 87316.8,
                        "count": 0
                      },
                      {
                        "bin_start": 87316.8,
                        "bin_end": 100076.2,
                        "count": 0
                      },
                      {
                        "bin_start": 100076.2,
                        "bin_end": 112835.59999999999,
                        "count": 0
                      },
                      {
                        "bin_start": 112835.59999999999,
                        "bin_end": 125595,
                        "count": 1
                      }
                    ]
                  }
                },
                {
                  "name": "C8",
                  "dtype": "float64",
                  "stats": {
                    "unique_count": 8,
                    "nan_count": 0,
                    "min": "-500.0",
                    "max": "129645.0",
                    "histogram": [
                      {
                        "bin_start": -500,
                        "bin_end": 12514.5,
                        "count": 7
                      },
                      {
                        "bin_start": 12514.5,
                        "bin_end": 25529,
                        "count": 0
                      },
                      {
                        "bin_start": 25529,
                        "bin_end": 38543.5,
                        "count": 0
                      },
                      {
                        "bin_start": 38543.5,
                        "bin_end": 51558,
                        "count": 0
                      },
                      {
                        "bin_start": 51558,
                        "bin_end": 64572.5,
                        "count": 0
                      },
                      {
                        "bin_start": 64572.5,
                        "bin_end": 77587,
                        "count": 0
                      },
                      {
                        "bin_start": 77587,
                        "bin_end": 90601.5,
                        "count": 0
                      },
                      {
                        "bin_start": 90601.5,
                        "bin_end": 103616,
                        "count": 0
                      },
                      {
                        "bin_start": 103616,
                        "bin_end": 116630.5,
                        "count": 0
                      },
                      {
                        "bin_start": 116630.5,
                        "bin_end": 129645,
                        "count": 1
                      }
                    ]
                  }
                },
                {
                  "name": "C9",
                  "dtype": "float64",
                  "stats": {
                    "unique_count": 8,
                    "nan_count": 0,
                    "min": "-1.544514714",
                    "max": "140000.0",
                    "histogram": [
                      {
                        "bin_start": -1.544514714,
                        "bin_end": 13998.6099367574,
                        "count": 7
                      },
                      {
                        "bin_start": 13998.6099367574,
                        "bin_end": 27998.7643882288,
                        "count": 0
                      },
                      {
                        "bin_start": 27998.7643882288,
                        "bin_end": 41998.9188397002,
                        "count": 0
                      },
                      {
                        "bin_start": 41998.9188397002,
                        "bin_end": 55999.073291171604,
                        "count": 0
                      },
                      {
                        "bin_start": 55999.073291171604,
                        "bin_end": 69999.22774264301,
                        "count": 0
                      },
                      {
                        "bin_start": 69999.22774264301,
                        "bin_end": 83999.3821941144,
                        "count": 0
                      },
                      {
                        "bin_start": 83999.3821941144,
                        "bin_end": 97999.5366455858,
                        "count": 0
                      },
                      {
                        "bin_start": 97999.5366455858,
                        "bin_end": 111999.6910970572,
                        "count": 0
                      },
                      {
                        "bin_start": 111999.6910970572,
                        "bin_end": 125999.84554852861,
                        "count": 0
                      },
                      {
                        "bin_start": 125999.84554852861,
                        "bin_end": 140000,
                        "count": 1
                      }
                    ]
                  }
                },
                {
                  "name": "C10",
                  "dtype": "float64",
                  "stats": {
                    "unique_count": 8,
                    "nan_count": 0,
                    "min": "-500.0",
                    "max": "129891.0",
                    "histogram": [
                      {
                        "bin_start": -500,
                        "bin_end": 12539.1,
                        "count": 7
                      },
                      {
                        "bin_start": 12539.1,
                        "bin_end": 25578.2,
                        "count": 0
                      },
                      {
                        "bin_start": 25578.2,
                        "bin_end": 38617.3,
                        "count": 0
                      },
                      {
                        "bin_start": 38617.3,
                        "bin_end": 51656.4,
                        "count": 0
                      },
                      {
                        "bin_start": 51656.4,
                        "bin_end": 64695.5,
                        "count": 0
                      },
                      {
                        "bin_start": 64695.5,
                        "bin_end": 77734.6,
                        "count": 0
                      },
                      {
                        "bin_start": 77734.6,
                        "bin_end": 90773.7,
                        "count": 0
                      },
                      {
                        "bin_start": 90773.7,
                        "bin_end": 103812.8,
                        "count": 0
                      },
                      {
                        "bin_start": 103812.8,
                        "bin_end": 116851.90000000001,
                        "count": 0
                      },
                      {
                        "bin_start": 116851.90000000001,
                        "bin_end": 129891,
                        "count": 1
                      }
                    ]
                  }
                },
                {
                  "name": "C11",
                  "dtype": "float64",
                  "stats": {
                    "unique_count": 8,
                    "nan_count": 0,
                    "min": "-1998.0",
                    "max": "125695.0",
                    "histogram": [
                      {
                        "bin_start": -1998,
                        "bin_end": 10771.3,
                        "count": 7
                      },
                      {
                        "bin_start": 10771.3,
                        "bin_end": 23540.6,
                        "count": 0
                      },
                      {
                        "bin_start": 23540.6,
                        "bin_end": 36309.899999999994,
                        "count": 0
                      },
                      {
                        "bin_start": 36309.899999999994,
                        "bin_end": 49079.2,
                        "count": 0
                      },
                      {
                        "bin_start": 49079.2,
                        "bin_end": 61848.5,
                        "count": 0
                      },
                      {
                        "bin_start": 61848.5,
                        "bin_end": 74617.79999999999,
                        "count": 0
                      },
                      {
                        "bin_start": 74617.79999999999,
                        "bin_end": 87387.09999999999,
                        "count": 0
                      },
                      {
                        "bin_start": 87387.09999999999,
                        "bin_end": 100156.4,
                        "count": 0
                      },
                      {
                        "bin_start": 100156.4,
                        "bin_end": 112925.7,
                        "count": 0
                      },
                      {
                        "bin_start": 112925.7,
                        "bin_end": 125695,
                        "count": 1
                      }
                    ]
                  }
                },
                {
                  "name": "C12",
                  "dtype": "float64",
                  "stats": {
                    "unique_count": 8,
                    "nan_count": 0,
                    "min": "-2000.0",
                    "max": "125833.0",
                    "histogram": [
                      {
                        "bin_start": -2000,
                        "bin_end": 10783.3,
                        "count": 7
                      },
                      {
                        "bin_start": 10783.3,
                        "bin_end": 23566.6,
                        "count": 0
                      },
                      {
                        "bin_start": 23566.6,
                        "bin_end": 36349.899999999994,
                        "count": 0
                      },
                      {
                        "bin_start": 36349.899999999994,
                        "bin_end": 49133.2,
                        "count": 0
                      },
                      {
                        "bin_start": 49133.2,
                        "bin_end": 61916.5,
                        "count": 0
                      },
                      {
                        "bin_start": 61916.5,
                        "bin_end": 74699.79999999999,
                        "count": 0
                      },
                      {
                        "bin_start": 74699.79999999999,
                        "bin_end": 87483.09999999999,
                        "count": 0
                      },
                      {
                        "bin_start": 87483.09999999999,
                        "bin_end": 100266.4,
                        "count": 0
                      },
                      {
                        "bin_start": 100266.4,
                        "bin_end": 113049.7,
                        "count": 0
                      },
                      {
                        "bin_start": 113049.7,
                        "bin_end": 125833,
                        "count": 1
                      }
                    ]
                  }
                },
                {
                  "name": "Class",
                  "dtype": "float64",
                  "stats": {
                    "unique_count": 5,
                    "nan_count": 0,
                    "min": "0.0",
                    "max": "140000.0",
                    "histogram": [
                      {
                        "bin_start": 0,
                        "bin_end": 14000,
                        "count": 7
                      },
                      {
                        "bin_start": 14000,
                        "bin_end": 28000,
                        "count": 0
                      },
                      {
                        "bin_start": 28000,
                        "bin_end": 42000,
                        "count": 0
                      },
                      {
                        "bin_start": 42000,
                        "bin_end": 56000,
                        "count": 0
                      },
                      {
                        "bin_start": 56000,
                        "bin_end": 70000,
                        "count": 0
                      },
                      {
                        "bin_start": 70000,
                        "bin_end": 84000,
                        "count": 0
                      },
                      {
                        "bin_start": 84000,
                        "bin_end": 98000,
                        "count": 0
                      },
                      {
                        "bin_start": 98000,
                        "bin_end": 112000,
                        "count": 0
                      },
                      {
                        "bin_start": 112000,
                        "bin_end": 126000,
                        "count": 0
                      },
                      {
                        "bin_start": 126000,
                        "bin_end": 140000,
                        "count": 1
                      }
                    ]
                  }
                },
                {
                  "name": "_deepnote_index_column",
                  "dtype": "object"
                }
              ],
              "rows": [
                {
                  "Timestamp": 140000,
                  "Value": 140000,
                  "C1": 116232,
                  "C2": 129731,
                  "C3": 129693,
                  "C4": 140000,
                  "C5": 129678,
                  "C6": 116529,
                  "C7": 125595,
                  "C8": 129645,
                  "C9": 140000,
                  "C10": 129891,
                  "C11": 125695,
                  "C12": 125833,
                  "Class": 140000,
                  "_deepnote_index_column": "count"
                },
                {
                  "Timestamp": 105334.59269840934,
                  "Value": 71.10288348571427,
                  "C1": -13.647953777785403,
                  "C2": -15.797094399800612,
                  "C3": -16.141105121068154,
                  "C4": 0.00003658405300714289,
                  "C5": -15.54017265241755,
                  "C6": -13.681958821886305,
                  "C7": -14.760373923060534,
                  "C8": -16.067148240637216,
                  "C9": 0.00011900401986428558,
                  "C10": -16.029764036512564,
                  "C11": -15.500080379985349,
                  "C12": -15.491672937302313,
                  "Class": 0.0018071428571428572,
                  "_deepnote_index_column": "mean"
                },
                {
                  "Timestamp": 52763.64169464873,
                  "Value": 212.3596995276458,
                  "C1": 224.59990269114613,
                  "C2": 72.63116496380624,
                  "C3": 74.5851106104758,
                  "C4": 0.031539796381238355,
                  "C5": 72.12051914368959,
                  "C6": 230.87112251202768,
                  "C7": 235.3136043013841,
                  "C8": 73.14824195073646,
                  "C9": 0.21563599929543179,
                  "C10": 73.37854242873227,
                  "C11": 237.28920978779638,
                  "C12": 236.48571275922086,
                  "Class": 0.04247222594549453,
                  "_deepnote_index_column": "std"
                },
                {
                  "Timestamp": 0,
                  "Value": 0,
                  "C1": -2000,
                  "C2": -500,
                  "C3": -500,
                  "C4": -0.212539898,
                  "C5": -500,
                  "C6": -2000,
                  "C7": -1999,
                  "C8": -500,
                  "C9": -1.544514714,
                  "C10": -500,
                  "C11": -1998,
                  "C12": -2000,
                  "Class": 0,
                  "_deepnote_index_column": "min"
                },
                {
                  "Timestamp": 60107.5000025,
                  "Value": 4.4,
                  "C1": -6.4197297385,
                  "C2": -0.2629505345,
                  "C3": -9.288367026,
                  "C4": -0.01773134325,
                  "C5": -0.20554196225,
                  "C6": -1.149444457,
                  "C7": -0.1081289895,
                  "C8": -0.033800476,
                  "C9": -0.1435511,
                  "C10": -0.5097813954999999,
                  "C11": -0.27764175150000003,
                  "C12": -0.596404419,
                  "Class": 0,
                  "_deepnote_index_column": "25%"
                },
                {
                  "Timestamp": 94276.11111,
                  "Value": 17.584,
                  "C1": -1.25001363,
                  "C2": -0.01951961,
                  "C3": -1.739613337,
                  "C4": -0.00013977450000000002,
                  "C5": 0.0009032965,
                  "C6": 0.279867662,
                  "C7": 0.023022632,
                  "C8": -0.005629384,
                  "C9": 0.0037311360000000003,
                  "C10": -0.062414435,
                  "C11": -0.019974636,
                  "C12": 0.007490528,
                  "Class": 0,
                  "_deepnote_index_column": "50%"
                },
                {
                  "Timestamp": 154845.833375,
                  "Value": 61.522000000000006,
                  "C1": 5.06380149,
                  "C2": 0.22073389999999998,
                  "C3": 6.436410658,
                  "C4": 0.01777646025,
                  "C5": 0.20620340125,
                  "C6": 1.092373084,
                  "C7": 0.109776645,
                  "C8": 0.022194214,
                  "C9": 0.14083452024999998,
                  "C10": 0.3272656815,
                  "C11": 0.2245476455,
                  "C12": 0.507399279,
                  "Class": 0,
                  "_deepnote_index_column": "75%"
                },
                {
                  "Timestamp": 191985.5556,
                  "Value": 20552.928,
                  "C1": 2000,
                  "C2": 100,
                  "C3": 196.4012907,
                  "C4": 0.278668271,
                  "C5": 100,
                  "C6": 1999,
                  "C7": 1998,
                  "C8": 100,
                  "C9": 0.858579107,
                  "C10": 100,
                  "C11": 2000,
                  "C12": 1999,
                  "Class": 1,
                  "_deepnote_index_column": "max"
                }
              ]
            },
            "text/plain": "           Timestamp          Value             C1             C2  \\\ncount  140000.000000  140000.000000  116232.000000  129731.000000   \nmean   105334.592698      71.102883     -13.647954     -15.797094   \nstd     52763.641695     212.359700     224.599903      72.631165   \nmin         0.000000       0.000000   -2000.000000    -500.000000   \n25%     60107.500002       4.400000      -6.419730      -0.262951   \n50%     94276.111110      17.584000      -1.250014      -0.019520   \n75%    154845.833375      61.522000       5.063801       0.220734   \nmax    191985.555600   20552.928000    2000.000000     100.000000   \n\n                  C3             C4             C5             C6  \\\ncount  129693.000000  140000.000000  129678.000000  116529.000000   \nmean      -16.141105       0.000037     -15.540173     -13.681959   \nstd        74.585111       0.031540      72.120519     230.871123   \nmin      -500.000000      -0.212540    -500.000000   -2000.000000   \n25%        -9.288367      -0.017731      -0.205542      -1.149444   \n50%        -1.739613      -0.000140       0.000903       0.279868   \n75%         6.436411       0.017776       0.206203       1.092373   \nmax       196.401291       0.278668     100.000000    1999.000000   \n\n                  C7             C8             C9            C10  \\\ncount  125595.000000  129645.000000  140000.000000  129891.000000   \nmean      -14.760374     -16.067148       0.000119     -16.029764   \nstd       235.313604      73.148242       0.215636      73.378542   \nmin     -1999.000000    -500.000000      -1.544515    -500.000000   \n25%        -0.108129      -0.033800      -0.143551      -0.509781   \n50%         0.023023      -0.005629       0.003731      -0.062414   \n75%         0.109777       0.022194       0.140835       0.327266   \nmax      1998.000000     100.000000       0.858579     100.000000   \n\n                 C11            C12          Class  \ncount  125695.000000  125833.000000  140000.000000  \nmean      -15.500080     -15.491673       0.001807  \nstd       237.289210     236.485713       0.042472  \nmin     -1998.000000   -2000.000000       0.000000  \n25%        -0.277642      -0.596404       0.000000  \n50%        -0.019975       0.007491       0.000000  \n75%         0.224548       0.507399       0.000000  \nmax      2000.000000    1999.000000       1.000000  ",
            "text/html": "<div>\n<style scoped>\n    .dataframe tbody tr th:only-of-type {\n        vertical-align: middle;\n    }\n\n    .dataframe tbody tr th {\n        vertical-align: top;\n    }\n\n    .dataframe thead th {\n        text-align: right;\n    }\n</style>\n<table border=\"1\" class=\"dataframe\">\n  <thead>\n    <tr style=\"text-align: right;\">\n      <th></th>\n      <th>Timestamp</th>\n      <th>Value</th>\n      <th>C1</th>\n      <th>C2</th>\n      <th>C3</th>\n      <th>C4</th>\n      <th>C5</th>\n      <th>C6</th>\n      <th>C7</th>\n      <th>C8</th>\n      <th>C9</th>\n      <th>C10</th>\n      <th>C11</th>\n      <th>C12</th>\n      <th>Class</th>\n    </tr>\n  </thead>\n  <tbody>\n    <tr>\n      <th>count</th>\n      <td>140000.000000</td>\n      <td>140000.000000</td>\n      <td>116232.000000</td>\n      <td>129731.000000</td>\n      <td>129693.000000</td>\n      <td>140000.000000</td>\n      <td>129678.000000</td>\n      <td>116529.000000</td>\n      <td>125595.000000</td>\n      <td>129645.000000</td>\n      <td>140000.000000</td>\n      <td>129891.000000</td>\n      <td>125695.000000</td>\n      <td>125833.000000</td>\n      <td>140000.000000</td>\n    </tr>\n    <tr>\n      <th>mean</th>\n      <td>105334.592698</td>\n      <td>71.102883</td>\n      <td>-13.647954</td>\n      <td>-15.797094</td>\n      <td>-16.141105</td>\n      <td>0.000037</td>\n      <td>-15.540173</td>\n      <td>-13.681959</td>\n      <td>-14.760374</td>\n      <td>-16.067148</td>\n      <td>0.000119</td>\n      <td>-16.029764</td>\n      <td>-15.500080</td>\n      <td>-15.491673</td>\n      <td>0.001807</td>\n    </tr>\n    <tr>\n      <th>std</th>\n      <td>52763.641695</td>\n      <td>212.359700</td>\n      <td>224.599903</td>\n      <td>72.631165</td>\n      <td>74.585111</td>\n      <td>0.031540</td>\n      <td>72.120519</td>\n      <td>230.871123</td>\n      <td>235.313604</td>\n      <td>73.148242</td>\n      <td>0.215636</td>\n      <td>73.378542</td>\n      <td>237.289210</td>\n      <td>236.485713</td>\n      <td>0.042472</td>\n    </tr>\n    <tr>\n      <th>min</th>\n      <td>0.000000</td>\n      <td>0.000000</td>\n      <td>-2000.000000</td>\n      <td>-500.000000</td>\n      <td>-500.000000</td>\n      <td>-0.212540</td>\n      <td>-500.000000</td>\n      <td>-2000.000000</td>\n      <td>-1999.000000</td>\n      <td>-500.000000</td>\n      <td>-1.544515</td>\n      <td>-500.000000</td>\n      <td>-1998.000000</td>\n      <td>-2000.000000</td>\n      <td>0.000000</td>\n    </tr>\n    <tr>\n      <th>25%</th>\n      <td>60107.500002</td>\n      <td>4.400000</td>\n      <td>-6.419730</td>\n      <td>-0.262951</td>\n      <td>-9.288367</td>\n      <td>-0.017731</td>\n      <td>-0.205542</td>\n      <td>-1.149444</td>\n      <td>-0.108129</td>\n      <td>-0.033800</td>\n      <td>-0.143551</td>\n      <td>-0.509781</td>\n      <td>-0.277642</td>\n      <td>-0.596404</td>\n      <td>0.000000</td>\n    </tr>\n    <tr>\n      <th>50%</th>\n      <td>94276.111110</td>\n      <td>17.584000</td>\n      <td>-1.250014</td>\n      <td>-0.019520</td>\n      <td>-1.739613</td>\n      <td>-0.000140</td>\n      <td>0.000903</td>\n      <td>0.279868</td>\n      <td>0.023023</td>\n      <td>-0.005629</td>\n      <td>0.003731</td>\n      <td>-0.062414</td>\n      <td>-0.019975</td>\n      <td>0.007491</td>\n      <td>0.000000</td>\n    </tr>\n    <tr>\n      <th>75%</th>\n      <td>154845.833375</td>\n      <td>61.522000</td>\n      <td>5.063801</td>\n      <td>0.220734</td>\n      <td>6.436411</td>\n      <td>0.017776</td>\n      <td>0.206203</td>\n      <td>1.092373</td>\n      <td>0.109777</td>\n      <td>0.022194</td>\n      <td>0.140835</td>\n      <td>0.327266</td>\n      <td>0.224548</td>\n      <td>0.507399</td>\n      <td>0.000000</td>\n    </tr>\n    <tr>\n      <th>max</th>\n      <td>191985.555600</td>\n      <td>20552.928000</td>\n      <td>2000.000000</td>\n      <td>100.000000</td>\n      <td>196.401291</td>\n      <td>0.278668</td>\n      <td>100.000000</td>\n      <td>1999.000000</td>\n      <td>1998.000000</td>\n      <td>100.000000</td>\n      <td>0.858579</td>\n      <td>100.000000</td>\n      <td>2000.000000</td>\n      <td>1999.000000</td>\n      <td>1.000000</td>\n    </tr>\n  </tbody>\n</table>\n</div>"
          },
          "metadata": {}
        }
      ],
      "execution_count": null,
      "block_group": "ffecf0306e644285ae94fb122f8f6d8c"
    },
    {
      "cell_type": "markdown",
      "source": "### How many null values are present?",
      "metadata": {
        "cell_id": "b165af72000a4b6282a44de93a174ae6",
        "deepnote_cell_type": "markdown"
      },
      "block_group": "cb08d3f31c81453baba87ff3486f22c0"
    },
    {
      "cell_type": "code",
      "source": "transaction_data.isnull().sum()",
      "metadata": {
        "source_hash": null,
        "execution_start": 1692697204984,
        "execution_millis": 265,
        "deepnote_to_be_reexecuted": false,
        "cell_id": "bc3180e48cb2431781da478ee71e4e16",
        "deepnote_cell_type": "code"
      },
      "outputs": [
        {
          "output_type": "execute_result",
          "execution_count": 9,
          "data": {
            "text/plain": "Timestamp        0\nValue            0\nC1           23768\nC2           10269\nC3           10307\nC4               0\nC5           10322\nC6           23471\nC7           14405\nC8           10355\nC9               0\nC10          10109\nC11          14305\nC12          14167\nClass            0\ndtype: int64"
          },
          "metadata": {}
        }
      ],
      "execution_count": null,
      "block_group": "582d09ab47ec41c295e9f553a686a7f2"
    },
    {
      "cell_type": "markdown",
      "source": "### Imputing null values with median so that it doesnt get affected by outliers",
      "metadata": {
        "cell_id": "2598e3f730a740c9b118d5e828d50607",
        "deepnote_cell_type": "markdown"
      },
      "block_group": "66974592ed8d41c78ac70bc90388063d"
    },
    {
      "cell_type": "code",
      "source": "transaction_data = transaction_data.fillna(transaction_data.median())",
      "metadata": {
        "source_hash": null,
        "execution_start": 1692697205002,
        "execution_millis": 88,
        "deepnote_to_be_reexecuted": false,
        "cell_id": "aaac63b2f4824cd0929a4fccc22472f6",
        "deepnote_cell_type": "code"
      },
      "outputs": [],
      "execution_count": null,
      "block_group": "e2547f152c8844cd9e81370ca3c03212"
    },
    {
      "cell_type": "code",
      "source": "transaction_data.isnull().sum()",
      "metadata": {
        "source_hash": null,
        "execution_start": 1692697205091,
        "execution_millis": 12,
        "deepnote_to_be_reexecuted": false,
        "cell_id": "5c28b860cbdf4cb48b7e46bd51d59cfa",
        "deepnote_cell_type": "code"
      },
      "outputs": [
        {
          "output_type": "execute_result",
          "execution_count": 11,
          "data": {
            "text/plain": "Timestamp    0\nValue        0\nC1           0\nC2           0\nC3           0\nC4           0\nC5           0\nC6           0\nC7           0\nC8           0\nC9           0\nC10          0\nC11          0\nC12          0\nClass        0\ndtype: int64"
          },
          "metadata": {}
        }
      ],
      "execution_count": null,
      "block_group": "5fd7662ef2464c57a0e3d16563ab0c04"
    },
    {
      "cell_type": "markdown",
      "source": "### Lets find out if there is any correlation between the variables",
      "metadata": {
        "cell_id": "bf8c1d409ce846278865353b2a6e7f97",
        "deepnote_cell_type": "markdown"
      },
      "block_group": "a31d9fcfc39a4ec2a87f88645d5e3fb6"
    },
    {
      "cell_type": "code",
      "source": "sns.heatmap(transaction_data.corr())",
      "metadata": {
        "source_hash": null,
        "execution_start": 1692697205107,
        "execution_millis": 674,
        "deepnote_to_be_reexecuted": false,
        "cell_id": "d740ef4a57ba427d8ca65bf8729eaacf",
        "deepnote_cell_type": "code"
      },
      "outputs": [
        {
          "output_type": "execute_result",
          "execution_count": 12,
          "data": {
            "text/plain": "<AxesSubplot: >"
          },
          "metadata": {}
        },
        {
          "data": {
            "text/plain": "<Figure size 640x480 with 2 Axes>",
            "image/png": "[encoded data removed]"
          },
          "metadata": {
            "image/png": {
              "width": 579,
              "height": 482
            }
          },
          "output_type": "display_data"
        }
      ],
      "execution_count": null,
      "block_group": "0a440be2dcbb447b975ad3e5d4bdc0f8"
    },
    {
      "cell_type": "code",
      "source": "transaction_data.corr()",
      "metadata": {
        "source_hash": null,
        "execution_start": 1692697205986,
        "execution_millis": 400,
        "deepnote_to_be_reexecuted": false,
        "cell_id": "73426f94117a432abb6b94dc7a7b0758",
        "deepnote_cell_type": "code"
      },
      "outputs": [
        {
          "output_type": "execute_result",
          "execution_count": 13,
          "data": {
            "application/vnd.deepnote.dataframe.v3+json": {
              "column_count": 15,
              "row_count": 15,
              "columns": [
                {
                  "name": "Timestamp",
                  "dtype": "float64",
                  "stats": {
                    "unique_count": 15,
                    "nan_count": 0,
                    "min": "-0.026448964717689243",
                    "max": "1.0",
                    "histogram": [
                      {
                        "bin_start": -0.026448964717689243,
                        "bin_end": 0.07619593175407968,
                        "count": 14
                      },
                      {
                        "bin_start": 0.07619593175407968,
                        "bin_end": 0.17884082822584862,
                        "count": 0
                      },
                      {
                        "bin_start": 0.17884082822584862,
                        "bin_end": 0.2814857246976175,
                        "count": 0
                      },
                      {
                        "bin_start": 0.2814857246976175,
                        "bin_end": 0.38413062116938645,
                        "count": 0
                      },
                      {
                        "bin_start": 0.38413062116938645,
                        "bin_end": 0.4867755176411554,
                        "count": 0
                      },
                      {
                        "bin_start": 0.4867755176411554,
                        "bin_end": 0.5894204141129243,
                        "count": 0
                      },
                      {
                        "bin_start": 0.5894204141129243,
                        "bin_end": 0.6920653105846933,
                        "count": 0
                      },
                      {
                        "bin_start": 0.6920653105846933,
                        "bin_end": 0.7947102070564622,
                        "count": 0
                      },
                      {
                        "bin_start": 0.7947102070564622,
                        "bin_end": 0.8973551035282311,
                        "count": 0
                      },
                      {
                        "bin_start": 0.8973551035282311,
                        "bin_end": 1,
                        "count": 1
                      }
                    ]
                  }
                },
                {
                  "name": "Value",
                  "dtype": "float64",
                  "stats": {
                    "unique_count": 15,
                    "nan_count": 0,
                    "min": "-0.014648565730273563",
                    "max": "1.0",
                    "histogram": [
                      {
                        "bin_start": -0.014648565730273563,
                        "bin_end": 0.08681629084275379,
                        "count": 14
                      },
                      {
                        "bin_start": 0.08681629084275379,
                        "bin_end": 0.18828114741578114,
                        "count": 0
                      },
                      {
                        "bin_start": 0.18828114741578114,
                        "bin_end": 0.2897460039888085,
                        "count": 0
                      },
                      {
                        "bin_start": 0.2897460039888085,
                        "bin_end": 0.39121086056183585,
                        "count": 0
                      },
                      {
                        "bin_start": 0.39121086056183585,
                        "bin_end": 0.4926757171348632,
                        "count": 0
                      },
                      {
                        "bin_start": 0.4926757171348632,
                        "bin_end": 0.5941405737078906,
                        "count": 0
                      },
                      {
                        "bin_start": 0.5941405737078906,
                        "bin_end": 0.6956054302809179,
                        "count": 0
                      },
                      {
                        "bin_start": 0.6956054302809179,
                        "bin_end": 0.7970702868539453,
                        "count": 0
                      },
                      {
                        "bin_start": 0.7970702868539453,
                        "bin_end": 0.8985351434269727,
                        "count": 0
                      },
                      {
                        "bin_start": 0.8985351434269727,
                        "bin_end": 1,
                        "count": 1
                      }
                    ]
                  }
                },
                {
                  "name": "C1",
                  "dtype": "float64",
                  "stats": {
                    "unique_count": 15,
                    "nan_count": 0,
                    "min": "-0.00037586703834841624",
                    "max": "1.0",
                    "histogram": [
                      {
                        "bin_start": -0.00037586703834841624,
                        "bin_end": 0.09966171966548644,
                        "count": 14
                      },
                      {
                        "bin_start": 0.09966171966548644,
                        "bin_end": 0.1996993063693213,
                        "count": 0
                      },
                      {
                        "bin_start": 0.1996993063693213,
                        "bin_end": 0.29973689307315615,
                        "count": 0
                      },
                      {
                        "bin_start": 0.29973689307315615,
                        "bin_end": 0.399774479776991,
                        "count": 0
                      },
                      {
                        "bin_start": 0.399774479776991,
                        "bin_end": 0.4998120664808258,
                        "count": 0
                      },
                      {
                        "bin_start": 0.4998120664808258,
                        "bin_end": 0.5998496531846607,
                        "count": 0
                      },
                      {
                        "bin_start": 0.5998496531846607,
                        "bin_end": 0.6998872398884954,
                        "count": 0
                      },
                      {
                        "bin_start": 0.6998872398884954,
                        "bin_end": 0.7999248265923303,
                        "count": 0
                      },
                      {
                        "bin_start": 0.7999248265923303,
                        "bin_end": 0.8999624132961652,
                        "count": 0
                      },
                      {
                        "bin_start": 0.8999624132961652,
                        "bin_end": 1,
                        "count": 1
                      }
                    ]
                  }
                },
                {
                  "name": "C2",
                  "dtype": "float64",
                  "stats": {
                    "unique_count": 15,
                    "nan_count": 0,
                    "min": "-0.0031739893575918774",
                    "max": "1.0",
                    "histogram": [
                      {
                        "bin_start": -0.0031739893575918774,
                        "bin_end": 0.09714340957816732,
                        "count": 14
                      },
                      {
                        "bin_start": 0.09714340957816732,
                        "bin_end": 0.1974608085139265,
                        "count": 0
                      },
                      {
                        "bin_start": 0.1974608085139265,
                        "bin_end": 0.2977782074496857,
                        "count": 0
                      },
                      {
                        "bin_start": 0.2977782074496857,
                        "bin_end": 0.3980956063854449,
                        "count": 0
                      },
                      {
                        "bin_start": 0.3980956063854449,
                        "bin_end": 0.4984130053212041,
                        "count": 0
                      },
                      {
                        "bin_start": 0.4984130053212041,
                        "bin_end": 0.5987304042569633,
                        "count": 0
                      },
                      {
                        "bin_start": 0.5987304042569633,
                        "bin_end": 0.6990478031927225,
                        "count": 0
                      },
                      {
                        "bin_start": 0.6990478031927225,
                        "bin_end": 0.7993652021284817,
                        "count": 0
                      },
                      {
                        "bin_start": 0.7993652021284817,
                        "bin_end": 0.8996826010642409,
                        "count": 0
                      },
                      {
                        "bin_start": 0.8996826010642409,
                        "bin_end": 1,
                        "count": 1
                      }
                    ]
                  }
                },
                {
                  "name": "C3",
                  "dtype": "float64",
                  "stats": {
                    "unique_count": 15,
                    "nan_count": 0,
                    "min": "-0.0014015562682766275",
                    "max": "1.0",
                    "histogram": [
                      {
                        "bin_start": -0.0014015562682766275,
                        "bin_end": 0.09873859935855103,
                        "count": 14
                      },
                      {
                        "bin_start": 0.09873859935855103,
                        "bin_end": 0.1988787549853787,
                        "count": 0
                      },
                      {
                        "bin_start": 0.1988787549853787,
                        "bin_end": 0.2990189106122063,
                        "count": 0
                      },
                      {
                        "bin_start": 0.2990189106122063,
                        "bin_end": 0.39915906623903397,
                        "count": 0
                      },
                      {
                        "bin_start": 0.39915906623903397,
                        "bin_end": 0.4992992218658616,
                        "count": 0
                      },
                      {
                        "bin_start": 0.4992992218658616,
                        "bin_end": 0.5994393774926893,
                        "count": 0
                      },
                      {
                        "bin_start": 0.5994393774926893,
                        "bin_end": 0.6995795331195169,
                        "count": 0
                      },
                      {
                        "bin_start": 0.6995795331195169,
                        "bin_end": 0.7997196887463446,
                        "count": 0
                      },
                      {
                        "bin_start": 0.7997196887463446,
                        "bin_end": 0.8998598443731722,
                        "count": 0
                      },
                      {
                        "bin_start": 0.8998598443731722,
                        "bin_end": 1,
                        "count": 1
                      }
                    ]
                  }
                },
                {
                  "name": "C4",
                  "dtype": "float64",
                  "stats": {
                    "unique_count": 15,
                    "nan_count": 0,
                    "min": "-0.032692043622882104",
                    "max": "1.0",
                    "histogram": [
                      {
                        "bin_start": -0.032692043622882104,
                        "bin_end": 0.07057716073940612,
                        "count": 14
                      },
                      {
                        "bin_start": 0.07057716073940612,
                        "bin_end": 0.17384636510169432,
                        "count": 0
                      },
                      {
                        "bin_start": 0.17384636510169432,
                        "bin_end": 0.2771155694639826,
                        "count": 0
                      },
                      {
                        "bin_start": 0.2771155694639826,
                        "bin_end": 0.3803847738262708,
                        "count": 0
                      },
                      {
                        "bin_start": 0.3803847738262708,
                        "bin_end": 0.483653978188559,
                        "count": 0
                      },
                      {
                        "bin_start": 0.483653978188559,
                        "bin_end": 0.5869231825508472,
                        "count": 0
                      },
                      {
                        "bin_start": 0.5869231825508472,
                        "bin_end": 0.6901923869131353,
                        "count": 0
                      },
                      {
                        "bin_start": 0.6901923869131353,
                        "bin_end": 0.7934615912754236,
                        "count": 0
                      },
                      {
                        "bin_start": 0.7934615912754236,
                        "bin_end": 0.8967307956377119,
                        "count": 0
                      },
                      {
                        "bin_start": 0.8967307956377119,
                        "bin_end": 1,
                        "count": 1
                      }
                    ]
                  }
                },
                {
                  "name": "C5",
                  "dtype": "float64",
                  "stats": {
                    "unique_count": 15,
                    "nan_count": 0,
                    "min": "-0.005722500568691444",
                    "max": "1.0",
                    "histogram": [
                      {
                        "bin_start": -0.005722500568691444,
                        "bin_end": 0.09484974948817769,
                        "count": 14
                      },
                      {
                        "bin_start": 0.09484974948817769,
                        "bin_end": 0.19542199954504683,
                        "count": 0
                      },
                      {
                        "bin_start": 0.19542199954504683,
                        "bin_end": 0.29599424960191595,
                        "count": 0
                      },
                      {
                        "bin_start": 0.29599424960191595,
                        "bin_end": 0.3965664996587851,
                        "count": 0
                      },
                      {
                        "bin_start": 0.3965664996587851,
                        "bin_end": 0.49713874971565425,
                        "count": 0
                      },
                      {
                        "bin_start": 0.49713874971565425,
                        "bin_end": 0.5977109997725234,
                        "count": 0
                      },
                      {
                        "bin_start": 0.5977109997725234,
                        "bin_end": 0.6982832498293926,
                        "count": 0
                      },
                      {
                        "bin_start": 0.6982832498293926,
                        "bin_end": 0.7988554998862617,
                        "count": 0
                      },
                      {
                        "bin_start": 0.7988554998862617,
                        "bin_end": 0.8994277499431308,
                        "count": 0
                      },
                      {
                        "bin_start": 0.8994277499431308,
                        "bin_end": 1,
                        "count": 1
                      }
                    ]
                  }
                },
                {
                  "name": "C6",
                  "dtype": "float64",
                  "stats": {
                    "unique_count": 15,
                    "nan_count": 0,
                    "min": "-0.003850990580810579",
                    "max": "1.0",
                    "histogram": [
                      {
                        "bin_start": -0.003850990580810579,
                        "bin_end": 0.09653410847727048,
                        "count": 14
                      },
                      {
                        "bin_start": 0.09653410847727048,
                        "bin_end": 0.19691920753535153,
                        "count": 0
                      },
                      {
                        "bin_start": 0.19691920753535153,
                        "bin_end": 0.2973043065934326,
                        "count": 0
                      },
                      {
                        "bin_start": 0.2973043065934326,
                        "bin_end": 0.39768940565151367,
                        "count": 0
                      },
                      {
                        "bin_start": 0.39768940565151367,
                        "bin_end": 0.49807450470959475,
                        "count": 0
                      },
                      {
                        "bin_start": 0.49807450470959475,
                        "bin_end": 0.5984596037676757,
                        "count": 0
                      },
                      {
                        "bin_start": 0.5984596037676757,
                        "bin_end": 0.6988447028257568,
                        "count": 0
                      },
                      {
                        "bin_start": 0.6988447028257568,
                        "bin_end": 0.7992298018838379,
                        "count": 0
                      },
                      {
                        "bin_start": 0.7992298018838379,
                        "bin_end": 0.8996149009419189,
                        "count": 0
                      },
                      {
                        "bin_start": 0.8996149009419189,
                        "bin_end": 1,
                        "count": 1
                      }
                    ]
                  }
                },
                {
                  "name": "C7",
                  "dtype": "float64",
                  "stats": {
                    "unique_count": 15,
                    "nan_count": 0,
                    "min": "-0.005153301212441504",
                    "max": "1.0",
                    "histogram": [
                      {
                        "bin_start": -0.005153301212441504,
                        "bin_end": 0.09536202890880263,
                        "count": 14
                      },
                      {
                        "bin_start": 0.09536202890880263,
                        "bin_end": 0.19587735903004677,
                        "count": 0
                      },
                      {
                        "bin_start": 0.19587735903004677,
                        "bin_end": 0.2963926891512909,
                        "count": 0
                      },
                      {
                        "bin_start": 0.2963926891512909,
                        "bin_end": 0.39690801927253505,
                        "count": 0
                      },
                      {
                        "bin_start": 0.39690801927253505,
                        "bin_end": 0.4974233493937792,
                        "count": 0
                      },
                      {
                        "bin_start": 0.4974233493937792,
                        "bin_end": 0.5979386795150233,
                        "count": 0
                      },
                      {
                        "bin_start": 0.5979386795150233,
                        "bin_end": 0.6984540096362675,
                        "count": 0
                      },
                      {
                        "bin_start": 0.6984540096362675,
                        "bin_end": 0.7989693397575116,
                        "count": 0
                      },
                      {
                        "bin_start": 0.7989693397575116,
                        "bin_end": 0.8994846698787557,
                        "count": 0
                      },
                      {
                        "bin_start": 0.8994846698787557,
                        "bin_end": 1,
                        "count": 1
                      }
                    ]
                  }
                },
                {
                  "name": "C8",
                  "dtype": "float64",
                  "stats": {
                    "unique_count": 15,
                    "nan_count": 0,
                    "min": "-0.0037724199688654943",
                    "max": "1.0",
                    "histogram": [
                      {
                        "bin_start": -0.0037724199688654943,
                        "bin_end": 0.09660482202802105,
                        "count": 14
                      },
                      {
                        "bin_start": 0.09660482202802105,
                        "bin_end": 0.19698206402490762,
                        "count": 0
                      },
                      {
                        "bin_start": 0.19698206402490762,
                        "bin_end": 0.2973593060217941,
                        "count": 0
                      },
                      {
                        "bin_start": 0.2973593060217941,
                        "bin_end": 0.3977365480186807,
                        "count": 0
                      },
                      {
                        "bin_start": 0.3977365480186807,
                        "bin_end": 0.49811379001556727,
                        "count": 0
                      },
                      {
                        "bin_start": 0.49811379001556727,
                        "bin_end": 0.5984910320124538,
                        "count": 0
                      },
                      {
                        "bin_start": 0.5984910320124538,
                        "bin_end": 0.6988682740093404,
                        "count": 0
                      },
                      {
                        "bin_start": 0.6988682740093404,
                        "bin_end": 0.799245516006227,
                        "count": 0
                      },
                      {
                        "bin_start": 0.799245516006227,
                        "bin_end": 0.8996227580031135,
                        "count": 0
                      },
                      {
                        "bin_start": 0.8996227580031135,
                        "bin_end": 1,
                        "count": 1
                      }
                    ]
                  }
                },
                {
                  "name": "C9",
                  "dtype": "float64",
                  "stats": {
                    "unique_count": 15,
                    "nan_count": 0,
                    "min": "-0.014648565730273563",
                    "max": "1.0",
                    "histogram": [
                      {
                        "bin_start": -0.014648565730273563,
                        "bin_end": 0.08681629084275379,
                        "count": 14
                      },
                      {
                        "bin_start": 0.08681629084275379,
                        "bin_end": 0.18828114741578114,
                        "count": 0
                      },
                      {
                        "bin_start": 0.18828114741578114,
                        "bin_end": 0.2897460039888085,
                        "count": 0
                      },
                      {
                        "bin_start": 0.2897460039888085,
                        "bin_end": 0.39121086056183585,
                        "count": 0
                      },
                      {
                        "bin_start": 0.39121086056183585,
                        "bin_end": 0.4926757171348632,
                        "count": 0
                      },
                      {
                        "bin_start": 0.4926757171348632,
                        "bin_end": 0.5941405737078906,
                        "count": 0
                      },
                      {
                        "bin_start": 0.5941405737078906,
                        "bin_end": 0.6956054302809179,
                        "count": 0
                      },
                      {
                        "bin_start": 0.6956054302809179,
                        "bin_end": 0.7970702868539453,
                        "count": 0
                      },
                      {
                        "bin_start": 0.7970702868539453,
                        "bin_end": 0.8985351434269727,
                        "count": 0
                      },
                      {
                        "bin_start": 0.8985351434269727,
                        "bin_end": 1,
                        "count": 1
                      }
                    ]
                  }
                },
                {
                  "name": "C10",
                  "dtype": "float64",
                  "stats": {
                    "unique_count": 15,
                    "nan_count": 0,
                    "min": "-0.002209159568642636",
                    "max": "1.0",
                    "histogram": [
                      {
                        "bin_start": -0.002209159568642636,
                        "bin_end": 0.09801175638822163,
                        "count": 14
                      },
                      {
                        "bin_start": 0.09801175638822163,
                        "bin_end": 0.19823267234508588,
                        "count": 0
                      },
                      {
                        "bin_start": 0.19823267234508588,
                        "bin_end": 0.2984535883019501,
                        "count": 0
                      },
                      {
                        "bin_start": 0.2984535883019501,
                        "bin_end": 0.3986745042588144,
                        "count": 0
                      },
                      {
                        "bin_start": 0.3986745042588144,
                        "bin_end": 0.4988954202156787,
                        "count": 0
                      },
                      {
                        "bin_start": 0.4988954202156787,
                        "bin_end": 0.5991163361725429,
                        "count": 0
                      },
                      {
                        "bin_start": 0.5991163361725429,
                        "bin_end": 0.6993372521294072,
                        "count": 0
                      },
                      {
                        "bin_start": 0.6993372521294072,
                        "bin_end": 0.7995581680862714,
                        "count": 0
                      },
                      {
                        "bin_start": 0.7995581680862714,
                        "bin_end": 0.8997790840431357,
                        "count": 0
                      },
                      {
                        "bin_start": 0.8997790840431357,
                        "bin_end": 1,
                        "count": 1
                      }
                    ]
                  }
                },
                {
                  "name": "C11",
                  "dtype": "float64",
                  "stats": {
                    "unique_count": 15,
                    "nan_count": 0,
                    "min": "-0.0029180494976959615",
                    "max": "1.0",
                    "histogram": [
                      {
                        "bin_start": -0.0029180494976959615,
                        "bin_end": 0.09737375545207363,
                        "count": 14
                      },
                      {
                        "bin_start": 0.09737375545207363,
                        "bin_end": 0.19766556040184322,
                        "count": 0
                      },
                      {
                        "bin_start": 0.19766556040184322,
                        "bin_end": 0.2979573653516128,
                        "count": 0
                      },
                      {
                        "bin_start": 0.2979573653516128,
                        "bin_end": 0.3982491703013824,
                        "count": 0
                      },
                      {
                        "bin_start": 0.3982491703013824,
                        "bin_end": 0.498540975251152,
                        "count": 0
                      },
                      {
                        "bin_start": 0.498540975251152,
                        "bin_end": 0.5988327802009217,
                        "count": 0
                      },
                      {
                        "bin_start": 0.5988327802009217,
                        "bin_end": 0.6991245851506912,
                        "count": 0
                      },
                      {
                        "bin_start": 0.6991245851506912,
                        "bin_end": 0.7994163901004608,
                        "count": 0
                      },
                      {
                        "bin_start": 0.7994163901004608,
                        "bin_end": 0.8997081950502305,
                        "count": 0
                      },
                      {
                        "bin_start": 0.8997081950502305,
                        "bin_end": 1,
                        "count": 1
                      }
                    ]
                  }
                },
                {
                  "name": "C12",
                  "dtype": "float64",
                  "stats": {
                    "unique_count": 15,
                    "nan_count": 0,
                    "min": "-0.0031739893575918774",
                    "max": "1.0",
                    "histogram": [
                      {
                        "bin_start": -0.0031739893575918774,
                        "bin_end": 0.09714340957816732,
                        "count": 14
                      },
                      {
                        "bin_start": 0.09714340957816732,
                        "bin_end": 0.1974608085139265,
                        "count": 0
                      },
                      {
                        "bin_start": 0.1974608085139265,
                        "bin_end": 0.2977782074496857,
                        "count": 0
                      },
                      {
                        "bin_start": 0.2977782074496857,
                        "bin_end": 0.3980956063854449,
                        "count": 0
                      },
                      {
                        "bin_start": 0.3980956063854449,
                        "bin_end": 0.4984130053212041,
                        "count": 0
                      },
                      {
                        "bin_start": 0.4984130053212041,
                        "bin_end": 0.5987304042569633,
                        "count": 0
                      },
                      {
                        "bin_start": 0.5987304042569633,
                        "bin_end": 0.6990478031927225,
                        "count": 0
                      },
                      {
                        "bin_start": 0.6990478031927225,
                        "bin_end": 0.7993652021284817,
                        "count": 0
                      },
                      {
                        "bin_start": 0.7993652021284817,
                        "bin_end": 0.8996826010642409,
                        "count": 0
                      },
                      {
                        "bin_start": 0.8996826010642409,
                        "bin_end": 1,
                        "count": 1
                      }
                    ]
                  }
                },
                {
                  "name": "Class",
                  "dtype": "float64",
                  "stats": {
                    "unique_count": 15,
                    "nan_count": 0,
                    "min": "-0.032692043622882104",
                    "max": "1.0",
                    "histogram": [
                      {
                        "bin_start": -0.032692043622882104,
                        "bin_end": 0.07057716073940612,
                        "count": 14
                      },
                      {
                        "bin_start": 0.07057716073940612,
                        "bin_end": 0.17384636510169432,
                        "count": 0
                      },
                      {
                        "bin_start": 0.17384636510169432,
                        "bin_end": 0.2771155694639826,
                        "count": 0
                      },
                      {
                        "bin_start": 0.2771155694639826,
                        "bin_end": 0.3803847738262708,
                        "count": 0
                      },
                      {
                        "bin_start": 0.3803847738262708,
                        "bin_end": 0.483653978188559,
                        "count": 0
                      },
                      {
                        "bin_start": 0.483653978188559,
                        "bin_end": 0.5869231825508472,
                        "count": 0
                      },
                      {
                        "bin_start": 0.5869231825508472,
                        "bin_end": 0.6901923869131353,
                        "count": 0
                      },
                      {
                        "bin_start": 0.6901923869131353,
                        "bin_end": 0.7934615912754236,
                        "count": 0
                      },
                      {
                        "bin_start": 0.7934615912754236,
                        "bin_end": 0.8967307956377119,
                        "count": 0
                      },
                      {
                        "bin_start": 0.8967307956377119,
                        "bin_end": 1,
                        "count": 1
                      }
                    ]
                  }
                },
                {
                  "name": "_deepnote_index_column",
                  "dtype": "object"
                }
              ],
              "rows": [
                {
                  "Timestamp": 1,
                  "Value": -0.01046529827594714,
                  "C1": 0.010989884604570947,
                  "C2": 0.004185556946936641,
                  "C3": -0.0011118225974735547,
                  "C4": -0.026448964717689243,
                  "C5": -0.005722500568691444,
                  "C6": 0.004022485723490373,
                  "C7": 0.0012879379145690688,
                  "C8": 0.00022587566205894326,
                  "C9": 0.06779931732026198,
                  "C10": -0.00040283233106847314,
                  "C11": 0.0012042848879509625,
                  "C12": -0.001167670371006601,
                  "Class": -0.009993566406431767,
                  "_deepnote_index_column": "Timestamp"
                },
                {
                  "Timestamp": -0.01046529827594714,
                  "Value": 1,
                  "C1": 0.006462987073164642,
                  "C2": -0.0015353145600450215,
                  "C3": -0.0002051381418382039,
                  "C4": 0.06155696400717624,
                  "C5": -0.00558230748901782,
                  "C6": 0.0002245016928953423,
                  "C7": -0.0018036376443719402,
                  "C8": -0.0030255667428458954,
                  "C9": -0.014648565730273563,
                  "C10": 0.0031319515792955547,
                  "C11": -0.001534676427383834,
                  "C12": 0.0030816579419600614,
                  "Class": 0.007095382700382825,
                  "_deepnote_index_column": "Value"
                },
                {
                  "Timestamp": 0.010989884604570947,
                  "Value": 0.006462987073164642,
                  "C1": 1,
                  "C2": 0.002644765599122935,
                  "C3": 0.0018987478912787356,
                  "C4": 0.0001362943437390868,
                  "C5": 0.0021163670297947366,
                  "C6": 0.0014071986002482657,
                  "C7": 0.001284493689923499,
                  "C8": 0.0029116649993499743,
                  "C9": -0.00037586703834841624,
                  "C10": 0.0007732165727388187,
                  "C11": 0.0008427469212677386,
                  "C12": 0.0001367566136501465,
                  "Class": 0.007301396648833987,
                  "_deepnote_index_column": "C1"
                },
                {
                  "Timestamp": 0.004185556946936641,
                  "Value": -0.0015353145600450215,
                  "C1": 0.002644765599122935,
                  "C2": 1,
                  "C3": 0.0025970567944885586,
                  "C4": 0.0016424363163301404,
                  "C5": -0.0016575091018891847,
                  "C6": 0.0008657590317708942,
                  "C7": 0.004249161880003304,
                  "C8": 0.00006536541242677659,
                  "C9": 0.004492775320623517,
                  "C10": -0.0007133277059394917,
                  "C11": 0.0009003583979117541,
                  "C12": -0.0031739893575918774,
                  "Class": -0.0010126533467286858,
                  "_deepnote_index_column": "C2"
                },
                {
                  "Timestamp": -0.0011118225974735547,
                  "Value": -0.0002051381418382039,
                  "C1": 0.0018987478912787356,
                  "C2": 0.0025970567944885586,
                  "C3": 1,
                  "C4": 0.005302820194876961,
                  "C5": -0.0012179671983470863,
                  "C6": 0.006359842840028597,
                  "C7": 0.0010558400691941237,
                  "C8": -0.0014015562682766275,
                  "C9": 0.0033683775391991255,
                  "C10": -0.0008853854040481862,
                  "C11": 0.0024476898216876184,
                  "C12": 0.0020284936109816226,
                  "Class": 0.023299411837827817,
                  "_deepnote_index_column": "C3"
                },
                {
                  "Timestamp": -0.026448964717689243,
                  "Value": 0.06155696400717624,
                  "C1": 0.0001362943437390868,
                  "C2": 0.0016424363163301404,
                  "C3": 0.005302820194876961,
                  "C4": 1,
                  "C5": -0.0031736701681687116,
                  "C6": 0.002642609332097677,
                  "C7": -0.0007408175726329091,
                  "C8": 0.0038943765372165297,
                  "C9": 0.002401417333310635,
                  "C10": -0.0016707846071074644,
                  "C11": 0.00026116040928431925,
                  "C12": 0.0016148737301721159,
                  "Class": -0.032692043622882104,
                  "_deepnote_index_column": "C4"
                },
                {
                  "Timestamp": -0.005722500568691444,
                  "Value": -0.00558230748901782,
                  "C1": 0.0021163670297947366,
                  "C2": -0.0016575091018891847,
                  "C3": -0.0012179671983470863,
                  "C4": -0.0031736701681687116,
                  "C5": 1,
                  "C6": -0.0011399367830716477,
                  "C7": -0.005153301212441504,
                  "C8": 0.0025967963415157776,
                  "C9": 0.0009547743242429126,
                  "C10": 0.002330791851079332,
                  "C11": 0.0021775100877113613,
                  "C12": 0.003265508386604849,
                  "Class": 0.002595352978892741,
                  "_deepnote_index_column": "C5"
                },
                {
                  "Timestamp": 0.004022485723490373,
                  "Value": 0.0002245016928953423,
                  "C1": 0.0014071986002482657,
                  "C2": 0.0008657590317708942,
                  "C3": 0.006359842840028597,
                  "C4": 0.002642609332097677,
                  "C5": -0.0011399367830716477,
                  "C6": 1,
                  "C7": 0.0028498859053613075,
                  "C8": -0.0037724199688654943,
                  "C9": -0.001691448369585412,
                  "C10": -0.000008859765760350301,
                  "C11": 0.0011804332798405466,
                  "C12": 0.005680016493924995,
                  "Class": -0.003850990580810579,
                  "_deepnote_index_column": "C6"
                },
                {
                  "Timestamp": 0.0012879379145690688,
                  "Value": -0.0018036376443719402,
                  "C1": 0.001284493689923499,
                  "C2": 0.004249161880003304,
                  "C3": 0.0010558400691941237,
                  "C4": -0.0007408175726329091,
                  "C5": -0.005153301212441504,
                  "C6": 0.0028498859053613075,
                  "C7": 1,
                  "C8": 0.006721190770747338,
                  "C9": 0.003434878319534988,
                  "C10": 0.00037398891877012716,
                  "C11": -0.002094993408006042,
                  "C12": 0.0007203074807137472,
                  "Class": 0.006152095803722207,
                  "_deepnote_index_column": "C7"
                },
                {
                  "Timestamp": 0.00022587566205894326,
                  "Value": -0.0030255667428458954,
                  "C1": 0.0029116649993499743,
                  "C2": 0.00006536541242677659,
                  "C3": -0.0014015562682766275,
                  "C4": 0.0038943765372165297,
                  "C5": 0.0025967963415157776,
                  "C6": -0.0037724199688654943,
                  "C7": 0.006721190770747338,
                  "C8": 1,
                  "C9": -0.0021218829476543914,
                  "C10": -0.0009962469560562503,
                  "C11": 0.002828256400581476,
                  "C12": -0.0009020162541958367,
                  "Class": 0.004236643215556785,
                  "_deepnote_index_column": "C8"
                }
              ]
            },
            "text/plain": "           Timestamp     Value        C1        C2        C3        C4  \\\nTimestamp   1.000000 -0.010465  0.010990  0.004186 -0.001112 -0.026449   \nValue      -0.010465  1.000000  0.006463 -0.001535 -0.000205  0.061557   \nC1          0.010990  0.006463  1.000000  0.002645  0.001899  0.000136   \nC2          0.004186 -0.001535  0.002645  1.000000  0.002597  0.001642   \nC3         -0.001112 -0.000205  0.001899  0.002597  1.000000  0.005303   \nC4         -0.026449  0.061557  0.000136  0.001642  0.005303  1.000000   \nC5         -0.005723 -0.005582  0.002116 -0.001658 -0.001218 -0.003174   \nC6          0.004022  0.000225  0.001407  0.000866  0.006360  0.002643   \nC7          0.001288 -0.001804  0.001284  0.004249  0.001056 -0.000741   \nC8          0.000226 -0.003026  0.002912  0.000065 -0.001402  0.003894   \nC9          0.067799 -0.014649 -0.000376  0.004493  0.003368  0.002401   \nC10        -0.000403  0.003132  0.000773 -0.000713 -0.000885 -0.001671   \nC11         0.001204 -0.001535  0.000843  0.000900  0.002448  0.000261   \nC12        -0.001168  0.003082  0.000137 -0.003174  0.002028  0.001615   \nClass      -0.009994  0.007095  0.007301 -0.001013  0.023299 -0.032692   \n\n                 C5        C6        C7        C8        C9       C10  \\\nTimestamp -0.005723  0.004022  0.001288  0.000226  0.067799 -0.000403   \nValue     -0.005582  0.000225 -0.001804 -0.003026 -0.014649  0.003132   \nC1         0.002116  0.001407  0.001284  0.002912 -0.000376  0.000773   \nC2        -0.001658  0.000866  0.004249  0.000065  0.004493 -0.000713   \nC3        -0.001218  0.006360  0.001056 -0.001402  0.003368 -0.000885   \nC4        -0.003174  0.002643 -0.000741  0.003894  0.002401 -0.001671   \nC5         1.000000 -0.001140 -0.005153  0.002597  0.000955  0.002331   \nC6        -0.001140  1.000000  0.002850 -0.003772 -0.001691 -0.000009   \nC7        -0.005153  0.002850  1.000000  0.006721  0.003435  0.000374   \nC8         0.002597 -0.003772  0.006721  1.000000 -0.002122 -0.000996   \nC9         0.000955 -0.001691  0.003435 -0.002122  1.000000  0.004328   \nC10        0.002331 -0.000009  0.000374 -0.000996  0.004328  1.000000   \nC11        0.002178  0.001180 -0.002095  0.002828  0.000848  0.000013   \nC12        0.003266  0.005680  0.000720 -0.000902  0.003379 -0.002209   \nClass      0.002595 -0.003851  0.006152  0.004237  0.006107 -0.000220   \n\n                C11       C12     Class  \nTimestamp  0.001204 -0.001168 -0.009994  \nValue     -0.001535  0.003082  0.007095  \nC1         0.000843  0.000137  0.007301  \nC2         0.000900 -0.003174 -0.001013  \nC3         0.002448  0.002028  0.023299  \nC4         0.000261  0.001615 -0.032692  \nC5         0.002178  0.003266  0.002595  \nC6         0.001180  0.005680 -0.003851  \nC7        -0.002095  0.000720  0.006152  \nC8         0.002828 -0.000902  0.004237  \nC9         0.000848  0.003379  0.006107  \nC10        0.000013 -0.002209 -0.000220  \nC11        1.000000 -0.002918 -0.002362  \nC12       -0.002918  1.000000 -0.001673  \nClass     -0.002362 -0.001673  1.000000  ",
            "text/html": "<div>\n<style scoped>\n    .dataframe tbody tr th:only-of-type {\n        vertical-align: middle;\n    }\n\n    .dataframe tbody tr th {\n        vertical-align: top;\n    }\n\n    .dataframe thead th {\n        text-align: right;\n    }\n</style>\n<table border=\"1\" class=\"dataframe\">\n  <thead>\n    <tr style=\"text-align: right;\">\n      <th></th>\n      <th>Timestamp</th>\n      <th>Value</th>\n      <th>C1</th>\n      <th>C2</th>\n      <th>C3</th>\n      <th>C4</th>\n      <th>C5</th>\n      <th>C6</th>\n      <th>C7</th>\n      <th>C8</th>\n      <th>C9</th>\n      <th>C10</th>\n      <th>C11</th>\n      <th>C12</th>\n      <th>Class</th>\n    </tr>\n  </thead>\n  <tbody>\n    <tr>\n      <th>Timestamp</th>\n      <td>1.000000</td>\n      <td>-0.010465</td>\n      <td>0.010990</td>\n      <td>0.004186</td>\n      <td>-0.001112</td>\n      <td>-0.026449</td>\n      <td>-0.005723</td>\n      <td>0.004022</td>\n      <td>0.001288</td>\n      <td>0.000226</td>\n      <td>0.067799</td>\n      <td>-0.000403</td>\n      <td>0.001204</td>\n      <td>-0.001168</td>\n      <td>-0.009994</td>\n    </tr>\n    <tr>\n      <th>Value</th>\n      <td>-0.010465</td>\n      <td>1.000000</td>\n      <td>0.006463</td>\n      <td>-0.001535</td>\n      <td>-0.000205</td>\n      <td>0.061557</td>\n      <td>-0.005582</td>\n      <td>0.000225</td>\n      <td>-0.001804</td>\n      <td>-0.003026</td>\n      <td>-0.014649</td>\n      <td>0.003132</td>\n      <td>-0.001535</td>\n      <td>0.003082</td>\n      <td>0.007095</td>\n    </tr>\n    <tr>\n      <th>C1</th>\n      <td>0.010990</td>\n      <td>0.006463</td>\n      <td>1.000000</td>\n      <td>0.002645</td>\n      <td>0.001899</td>\n      <td>0.000136</td>\n      <td>0.002116</td>\n      <td>0.001407</td>\n      <td>0.001284</td>\n      <td>0.002912</td>\n      <td>-0.000376</td>\n      <td>0.000773</td>\n      <td>0.000843</td>\n      <td>0.000137</td>\n      <td>0.007301</td>\n    </tr>\n    <tr>\n      <th>C2</th>\n      <td>0.004186</td>\n      <td>-0.001535</td>\n      <td>0.002645</td>\n      <td>1.000000</td>\n      <td>0.002597</td>\n      <td>0.001642</td>\n      <td>-0.001658</td>\n      <td>0.000866</td>\n      <td>0.004249</td>\n      <td>0.000065</td>\n      <td>0.004493</td>\n      <td>-0.000713</td>\n      <td>0.000900</td>\n      <td>-0.003174</td>\n      <td>-0.001013</td>\n    </tr>\n    <tr>\n      <th>C3</th>\n      <td>-0.001112</td>\n      <td>-0.000205</td>\n      <td>0.001899</td>\n      <td>0.002597</td>\n      <td>1.000000</td>\n      <td>0.005303</td>\n      <td>-0.001218</td>\n      <td>0.006360</td>\n      <td>0.001056</td>\n      <td>-0.001402</td>\n      <td>0.003368</td>\n      <td>-0.000885</td>\n      <td>0.002448</td>\n      <td>0.002028</td>\n      <td>0.023299</td>\n    </tr>\n    <tr>\n      <th>C4</th>\n      <td>-0.026449</td>\n      <td>0.061557</td>\n      <td>0.000136</td>\n      <td>0.001642</td>\n      <td>0.005303</td>\n      <td>1.000000</td>\n      <td>-0.003174</td>\n      <td>0.002643</td>\n      <td>-0.000741</td>\n      <td>0.003894</td>\n      <td>0.002401</td>\n      <td>-0.001671</td>\n      <td>0.000261</td>\n      <td>0.001615</td>\n      <td>-0.032692</td>\n    </tr>\n    <tr>\n      <th>C5</th>\n      <td>-0.005723</td>\n      <td>-0.005582</td>\n      <td>0.002116</td>\n      <td>-0.001658</td>\n      <td>-0.001218</td>\n      <td>-0.003174</td>\n      <td>1.000000</td>\n      <td>-0.001140</td>\n      <td>-0.005153</td>\n      <td>0.002597</td>\n      <td>0.000955</td>\n      <td>0.002331</td>\n      <td>0.002178</td>\n      <td>0.003266</td>\n      <td>0.002595</td>\n    </tr>\n    <tr>\n      <th>C6</th>\n      <td>0.004022</td>\n      <td>0.000225</td>\n      <td>0.001407</td>\n      <td>0.000866</td>\n      <td>0.006360</td>\n      <td>0.002643</td>\n      <td>-0.001140</td>\n      <td>1.000000</td>\n      <td>0.002850</td>\n      <td>-0.003772</td>\n      <td>-0.001691</td>\n      <td>-0.000009</td>\n      <td>0.001180</td>\n      <td>0.005680</td>\n      <td>-0.003851</td>\n    </tr>\n    <tr>\n      <th>C7</th>\n      <td>0.001288</td>\n      <td>-0.001804</td>\n      <td>0.001284</td>\n      <td>0.004249</td>\n      <td>0.001056</td>\n      <td>-0.000741</td>\n      <td>-0.005153</td>\n      <td>0.002850</td>\n      <td>1.000000</td>\n      <td>0.006721</td>\n      <td>0.003435</td>\n      <td>0.000374</td>\n      <td>-0.002095</td>\n      <td>0.000720</td>\n      <td>0.006152</td>\n    </tr>\n    <tr>\n      <th>C8</th>\n      <td>0.000226</td>\n      <td>-0.003026</td>\n      <td>0.002912</td>\n      <td>0.000065</td>\n      <td>-0.001402</td>\n      <td>0.003894</td>\n      <td>0.002597</td>\n      <td>-0.003772</td>\n      <td>0.006721</td>\n      <td>1.000000</td>\n      <td>-0.002122</td>\n      <td>-0.000996</td>\n      <td>0.002828</td>\n      <td>-0.000902</td>\n      <td>0.004237</td>\n    </tr>\n    <tr>\n      <th>C9</th>\n      <td>0.067799</td>\n      <td>-0.014649</td>\n      <td>-0.000376</td>\n      <td>0.004493</td>\n      <td>0.003368</td>\n      <td>0.002401</td>\n      <td>0.000955</td>\n      <td>-0.001691</td>\n      <td>0.003435</td>\n      <td>-0.002122</td>\n      <td>1.000000</td>\n      <td>0.004328</td>\n      <td>0.000848</td>\n      <td>0.003379</td>\n      <td>0.006107</td>\n    </tr>\n    <tr>\n      <th>C10</th>\n      <td>-0.000403</td>\n      <td>0.003132</td>\n      <td>0.000773</td>\n      <td>-0.000713</td>\n      <td>-0.000885</td>\n      <td>-0.001671</td>\n      <td>0.002331</td>\n      <td>-0.000009</td>\n      <td>0.000374</td>\n      <td>-0.000996</td>\n      <td>0.004328</td>\n      <td>1.000000</td>\n      <td>0.000013</td>\n      <td>-0.002209</td>\n      <td>-0.000220</td>\n    </tr>\n    <tr>\n      <th>C11</th>\n      <td>0.001204</td>\n      <td>-0.001535</td>\n      <td>0.000843</td>\n      <td>0.000900</td>\n      <td>0.002448</td>\n      <td>0.000261</td>\n      <td>0.002178</td>\n      <td>0.001180</td>\n      <td>-0.002095</td>\n      <td>0.002828</td>\n      <td>0.000848</td>\n      <td>0.000013</td>\n      <td>1.000000</td>\n      <td>-0.002918</td>\n      <td>-0.002362</td>\n    </tr>\n    <tr>\n      <th>C12</th>\n      <td>-0.001168</td>\n      <td>0.003082</td>\n      <td>0.000137</td>\n      <td>-0.003174</td>\n      <td>0.002028</td>\n      <td>0.001615</td>\n      <td>0.003266</td>\n      <td>0.005680</td>\n      <td>0.000720</td>\n      <td>-0.000902</td>\n      <td>0.003379</td>\n      <td>-0.002209</td>\n      <td>-0.002918</td>\n      <td>1.000000</td>\n      <td>-0.001673</td>\n    </tr>\n    <tr>\n      <th>Class</th>\n      <td>-0.009994</td>\n      <td>0.007095</td>\n      <td>0.007301</td>\n      <td>-0.001013</td>\n      <td>0.023299</td>\n      <td>-0.032692</td>\n      <td>0.002595</td>\n      <td>-0.003851</td>\n      <td>0.006152</td>\n      <td>0.004237</td>\n      <td>0.006107</td>\n      <td>-0.000220</td>\n      <td>-0.002362</td>\n      <td>-0.001673</td>\n      <td>1.000000</td>\n    </tr>\n  </tbody>\n</table>\n</div>"
          },
          "metadata": {}
        }
      ],
      "execution_count": null,
      "block_group": "d46bb61907c64da495e4cedae6c2e89c"
    },
    {
      "cell_type": "markdown",
      "source": "### Target variable class distribution ",
      "metadata": {
        "cell_id": "c44fa18d8f394a46b998d3a1b0352854",
        "deepnote_cell_type": "markdown"
      },
      "block_group": "3ac4e76a22ea47b194bc5c1f84fa8514"
    },
    {
      "cell_type": "code",
      "source": "transaction_data['Class'].value_counts()",
      "metadata": {
        "source_hash": null,
        "execution_start": 1692697206171,
        "execution_millis": 349,
        "deepnote_to_be_reexecuted": false,
        "cell_id": "5196f521d5174fc5be3796f09e614a60",
        "deepnote_cell_type": "code"
      },
      "outputs": [
        {
          "output_type": "execute_result",
          "execution_count": 14,
          "data": {
            "text/plain": "0    139747\n1       253\nName: Class, dtype: int64"
          },
          "metadata": {}
        }
      ],
      "execution_count": null,
      "block_group": "3e76cd3efade41d29e13426c367d4093"
    },
    {
      "cell_type": "markdown",
      "source": "### We need to find out contamination amount for isolation forest",
      "metadata": {
        "cell_id": "40448e6cd91742bba016b056803ddc37",
        "deepnote_cell_type": "markdown"
      },
      "block_group": "b6d93419e4c2422ca6acb0d4e5f0a74b"
    },
    {
      "cell_type": "code",
      "source": "Fraud = transaction_data[transaction_data['Class']==1]\n\nValid = transaction_data[transaction_data['Class']==0]\n\ncontamination = len(Fraud)/float(len(Valid))",
      "metadata": {
        "source_hash": null,
        "execution_start": 1692697206188,
        "execution_millis": 33,
        "deepnote_to_be_reexecuted": false,
        "cell_id": "acfde9da07874511ada8a4c8db9727ae",
        "deepnote_cell_type": "code"
      },
      "outputs": [],
      "execution_count": null,
      "block_group": "1ae72cfe9a2b4ee0b78c27903ae65568"
    },
    {
      "cell_type": "code",
      "source": "print(contamination)\n\nprint(\"Fraud Class : {}\".format(len(Fraud)))\n\nprint(\"Normal Class : {}\".format(len(Valid)))",
      "metadata": {
        "source_hash": null,
        "execution_start": 1692697206255,
        "execution_millis": 6,
        "deepnote_to_be_reexecuted": false,
        "cell_id": "907a1bfc23b7490083e7bfdec7b99bb8",
        "deepnote_cell_type": "code"
      },
      "outputs": [
        {
          "name": "stdout",
          "text": "0.0018104145348379571\nFraud Class : 253\nNormal Class : 139747\n",
          "output_type": "stream"
        }
      ],
      "execution_count": null,
      "block_group": "f456f72f0f5f4eb2a2a1c8174475acb6"
    },
    {
      "cell_type": "code",
      "source": "contamination",
      "metadata": {
        "source_hash": null,
        "execution_start": 1692697206256,
        "execution_millis": 59,
        "deepnote_to_be_reexecuted": false,
        "cell_id": "cf070d94cf6e4ff5b76cd6875497be58",
        "deepnote_cell_type": "code"
      },
      "outputs": [
        {
          "output_type": "execute_result",
          "execution_count": 17,
          "data": {
            "text/plain": "0.0018104145348379571"
          },
          "metadata": {}
        }
      ],
      "execution_count": null,
      "block_group": "66af2853cd6841e7aad0f6fab11cfb8f"
    },
    {
      "cell_type": "markdown",
      "source": "### Data Modelling with Isolation Forest",
      "metadata": {
        "cell_id": "fc276fecfd714a3987f5f46d0818ba9f",
        "deepnote_cell_type": "markdown"
      },
      "block_group": "7091fd14797a4cbb88b9e3b26815a24e"
    },
    {
      "cell_type": "code",
      "source": "X = transaction_data.drop('Class',axis=1)",
      "metadata": {
        "source_hash": null,
        "execution_start": 1692697206257,
        "execution_millis": 50,
        "deepnote_to_be_reexecuted": false,
        "cell_id": "e5ce4b7090604f1cb0fb96b3fde34822",
        "deepnote_cell_type": "code"
      },
      "outputs": [],
      "execution_count": null,
      "block_group": "44c20d8f27984027ad7a25590bcac44e"
    },
    {
      "cell_type": "code",
      "source": "y = transaction_data['Class']",
      "metadata": {
        "source_hash": null,
        "execution_start": 1692697206263,
        "execution_millis": 27,
        "deepnote_to_be_reexecuted": false,
        "cell_id": "6fc49fa4735847ee8bc029e15f57783b",
        "deepnote_cell_type": "code"
      },
      "outputs": [],
      "execution_count": null,
      "block_group": "4745076c3545446e8f82b770630ae881"
    },
    {
      "cell_type": "code",
      "source": "clf=IsolationForest(n_estimators=500, max_samples=len(X),contamination=0.0018)",
      "metadata": {
        "source_hash": null,
        "execution_start": 1692697206275,
        "execution_millis": 32,
        "deepnote_to_be_reexecuted": false,
        "cell_id": "c4860db9d01c42158c5ae6fe5031389a",
        "deepnote_cell_type": "code"
      },
      "outputs": [],
      "execution_count": null,
      "block_group": "3230a35cf8b8423c9231e274cc97cb5d"
    },
    {
      "cell_type": "code",
      "source": "clf.fit(X)\n",
      "metadata": {
        "source_hash": null,
        "execution_start": 1692697206280,
        "execution_millis": 53000,
        "deepnote_to_be_reexecuted": false,
        "cell_id": "e7b1ed11147b409faddb99ac1069d330",
        "deepnote_cell_type": "code"
      },
      "outputs": [
        {
          "name": "stderr",
          "text": "/shared-libs/python3.9/py/lib/python3.9/site-packages/sklearn/base.py:450: UserWarning: X does not have valid feature names, but IsolationForest was fitted with feature names\n  warnings.warn(\n",
          "output_type": "stream"
        },
        {
          "output_type": "execute_result",
          "execution_count": 21,
          "data": {
            "text/plain": "IsolationForest(contamination=0.0018, max_samples=140000, n_estimators=500)",
            "text/html": "<style>#sk-container-id-1 {color: black;background-color: white;}#sk-container-id-1 pre{padding: 0;}#sk-container-id-1 div.sk-toggleable {background-color: white;}#sk-container-id-1 label.sk-toggleable__label {cursor: pointer;display: block;width: 100%;margin-bottom: 0;padding: 0.3em;box-sizing: border-box;text-align: center;}#sk-container-id-1 label.sk-toggleable__label-arrow:before {content: \"▸\";float: left;margin-right: 0.25em;color: #696969;}#sk-container-id-1 label.sk-toggleable__label-arrow:hover:before {color: black;}#sk-container-id-1 div.sk-estimator:hover label.sk-toggleable__label-arrow:before {color: black;}#sk-container-id-1 div.sk-toggleable__content {max-height: 0;max-width: 0;overflow: hidden;text-align: left;background-color: #f0f8ff;}#sk-container-id-1 div.sk-toggleable__content pre {margin: 0.2em;color: black;border-radius: 0.25em;background-color: #f0f8ff;}#sk-container-id-1 input.sk-toggleable__control:checked~div.sk-toggleable__content {max-height: 200px;max-width: 100%;overflow: auto;}#sk-container-id-1 input.sk-toggleable__control:checked~label.sk-toggleable__label-arrow:before {content: \"▾\";}#sk-container-id-1 div.sk-estimator input.sk-toggleable__control:checked~label.sk-toggleable__label {background-color: #d4ebff;}#sk-container-id-1 div.sk-label input.sk-toggleable__control:checked~label.sk-toggleable__label {background-color: #d4ebff;}#sk-container-id-1 input.sk-hidden--visually {border: 0;clip: rect(1px 1px 1px 1px);clip: rect(1px, 1px, 1px, 1px);height: 1px;margin: -1px;overflow: hidden;padding: 0;position: absolute;width: 1px;}#sk-container-id-1 div.sk-estimator {font-family: monospace;background-color: #f0f8ff;border: 1px dotted black;border-radius: 0.25em;box-sizing: border-box;margin-bottom: 0.5em;}#sk-container-id-1 div.sk-estimator:hover {background-color: #d4ebff;}#sk-container-id-1 div.sk-parallel-item::after {content: \"\";width: 100%;border-bottom: 1px solid gray;flex-grow: 1;}#sk-container-id-1 div.sk-label:hover label.sk-toggleable__label {background-color: #d4ebff;}#sk-container-id-1 div.sk-serial::before {content: \"\";position: absolute;border-left: 1px solid gray;box-sizing: border-box;top: 0;bottom: 0;left: 50%;z-index: 0;}#sk-container-id-1 div.sk-serial {display: flex;flex-direction: column;align-items: center;background-color: white;padding-right: 0.2em;padding-left: 0.2em;position: relative;}#sk-container-id-1 div.sk-item {position: relative;z-index: 1;}#sk-container-id-1 div.sk-parallel {display: flex;align-items: stretch;justify-content: center;background-color: white;position: relative;}#sk-container-id-1 div.sk-item::before, #sk-container-id-1 div.sk-parallel-item::before {content: \"\";position: absolute;border-left: 1px solid gray;box-sizing: border-box;top: 0;bottom: 0;left: 50%;z-index: -1;}#sk-container-id-1 div.sk-parallel-item {display: flex;flex-direction: column;z-index: 1;position: relative;background-color: white;}#sk-container-id-1 div.sk-parallel-item:first-child::after {align-self: flex-end;width: 50%;}#sk-container-id-1 div.sk-parallel-item:last-child::after {align-self: flex-start;width: 50%;}#sk-container-id-1 div.sk-parallel-item:only-child::after {width: 0;}#sk-container-id-1 div.sk-dashed-wrapped {border: 1px dashed gray;margin: 0 0.4em 0.5em 0.4em;box-sizing: border-box;padding-bottom: 0.4em;background-color: white;}#sk-container-id-1 div.sk-label label {font-family: monospace;font-weight: bold;display: inline-block;line-height: 1.2em;}#sk-container-id-1 div.sk-label-container {text-align: center;}#sk-container-id-1 div.sk-container {/* jupyter's `normalize.less` sets `[hidden] { display: none; }` but bootstrap.min.css set `[hidden] { display: none !important; }` so we also need the `!important` here to be able to override the default hidden behavior on the sphinx rendered scikit-learn.org. See: https://github.com/scikit-learn/scikit-learn/issues/21755 */display: inline-block !important;position: relative;}#sk-container-id-1 div.sk-text-repr-fallback {display: none;}</style><div id=\"sk-container-id-1\" class=\"sk-top-container\"><div class=\"sk-text-repr-fallback\"><pre>IsolationForest(contamination=0.0018, max_samples=140000, n_estimators=500)</pre><b>In a Jupyter environment, please rerun this cell to show the HTML representation or trust the notebook. <br />On GitHub, the HTML representation is unable to render, please try loading this page with nbviewer.org.</b></div><div class=\"sk-container\" hidden><div class=\"sk-item\"><div class=\"sk-estimator sk-toggleable\"><input class=\"sk-toggleable__control sk-hidden--visually\" id=\"sk-estimator-id-1\" type=\"checkbox\" checked><label for=\"sk-estimator-id-1\" class=\"sk-toggleable__label sk-toggleable__label-arrow\">IsolationForest</label><div class=\"sk-toggleable__content\"><pre>IsolationForest(contamination=0.0018, max_samples=140000, n_estimators=500)</pre></div></div></div></div></div>"
          },
          "metadata": {}
        }
      ],
      "execution_count": null,
      "block_group": "f3c06ee1210b4f30bf869e0507985cc3"
    },
    {
      "cell_type": "code",
      "source": "scores_prediction = clf.decision_function(X)",
      "metadata": {
        "source_hash": null,
        "execution_start": 1692697259010,
        "execution_millis": 27294,
        "deepnote_to_be_reexecuted": false,
        "cell_id": "762e258f0a014555919a927d67edb2d0",
        "deepnote_cell_type": "code"
      },
      "outputs": [],
      "execution_count": null,
      "block_group": "de7445e780bd4ca4a1323b39744aa8de"
    },
    {
      "cell_type": "code",
      "source": "scores_prediction",
      "metadata": {
        "source_hash": null,
        "execution_start": 1692697286335,
        "execution_millis": 161,
        "deepnote_to_be_reexecuted": false,
        "cell_id": "4c9aab8ae74b42c6b842dcc60002116c",
        "deepnote_cell_type": "code"
      },
      "outputs": [
        {
          "output_type": "execute_result",
          "execution_count": 23,
          "data": {
            "text/plain": "array([0.16148382, 0.13693179, 0.14559912, ..., 0.1383594 , 0.16881924,\n       0.16320589])"
          },
          "metadata": {}
        }
      ],
      "execution_count": null,
      "block_group": "e7e4d4c0e2dc4e72a1c7347e59551010"
    },
    {
      "cell_type": "code",
      "source": "sns.boxplot(scores_prediction)",
      "metadata": {
        "scrolled": true,
        "source_hash": null,
        "execution_start": 1692697286336,
        "execution_millis": 4,
        "deepnote_to_be_reexecuted": false,
        "cell_id": "aad91128da6543debaf6eb59d1001605",
        "deepnote_cell_type": "code"
      },
      "outputs": [
        {
          "output_type": "execute_result",
          "execution_count": 24,
          "data": {
            "text/plain": "<AxesSubplot: >"
          },
          "metadata": {}
        },
        {
          "data": {
            "text/plain": "<Figure size 640x480 with 1 Axes>",
            "image/png": "[encoded data removed]"
          },
          "metadata": {
            "image/png": {
              "width": 559,
              "height": 413
            }
          },
          "output_type": "display_data"
        }
      ],
      "execution_count": null,
      "block_group": "1f5a02cdb8c6456994bbdfe1fa3472c8"
    },
    {
      "cell_type": "code",
      "source": "plt.hist(scores_prediction,bins=70)",
      "metadata": {
        "source_hash": null,
        "execution_start": 1692697286661,
        "execution_millis": 501,
        "deepnote_to_be_reexecuted": false,
        "cell_id": "137584dde61a45258a0a12d3d7f42e9b",
        "deepnote_cell_type": "code"
      },
      "outputs": [
        {
          "output_type": "execute_result",
          "execution_count": 25,
          "data": {
            "text/plain": "(array([1.0000e+00, 0.0000e+00, 0.0000e+00, 0.0000e+00, 0.0000e+00,\n        0.0000e+00, 0.0000e+00, 1.0000e+00, 0.0000e+00, 0.0000e+00,\n        0.0000e+00, 0.0000e+00, 1.0000e+00, 0.0000e+00, 0.0000e+00,\n        0.0000e+00, 0.0000e+00, 0.0000e+00, 1.0000e+00, 1.0000e+00,\n        0.0000e+00, 0.0000e+00, 1.0000e+00, 0.0000e+00, 1.0000e+00,\n        1.0000e+00, 0.0000e+00, 4.0000e+00, 2.0000e+00, 4.0000e+00,\n        6.0000e+00, 6.0000e+00, 4.0000e+00, 1.1000e+01, 5.0000e+00,\n        8.0000e+00, 1.7000e+01, 1.6000e+01, 3.3000e+01, 4.3000e+01,\n        3.8000e+01, 5.7000e+01, 5.2000e+01, 9.1000e+01, 1.1300e+02,\n        1.2100e+02, 1.8200e+02, 2.4800e+02, 2.8600e+02, 3.4000e+02,\n        4.2700e+02, 5.1900e+02, 5.9600e+02, 7.9700e+02, 8.7400e+02,\n        1.1340e+03, 1.4390e+03, 1.9610e+03, 2.6080e+03, 3.5470e+03,\n        4.4580e+03, 5.4250e+03, 6.1240e+03, 6.4260e+03, 6.9210e+03,\n        7.7960e+03, 1.0465e+04, 1.6933e+04, 3.0210e+04, 2.9645e+04]),\n array([-0.25694929, -0.2508013 , -0.24465331, -0.23850531, -0.23235732,\n        -0.22620932, -0.22006133, -0.21391334, -0.20776534, -0.20161735,\n        -0.19546936, -0.18932136, -0.18317337, -0.17702538, -0.17087738,\n        -0.16472939, -0.15858139, -0.1524334 , -0.14628541, -0.14013741,\n        -0.13398942, -0.12784143, -0.12169343, -0.11554544, -0.10939744,\n        -0.10324945, -0.09710146, -0.09095346, -0.08480547, -0.07865748,\n        -0.07250948, -0.06636149, -0.0602135 , -0.0540655 , -0.04791751,\n        -0.04176951, -0.03562152, -0.02947353, -0.02332553, -0.01717754,\n        -0.01102955, -0.00488155,  0.00126644,  0.00741443,  0.01356243,\n         0.01971042,  0.02585842,  0.03200641,  0.0381544 ,  0.0443024 ,\n         0.05045039,  0.05659838,  0.06274638,  0.06889437,  0.07504236,\n         0.08119036,  0.08733835,  0.09348635,  0.09963434,  0.10578233,\n         0.11193033,  0.11807832,  0.12422631,  0.13037431,  0.1365223 ,\n         0.1426703 ,  0.14881829,  0.15496628,  0.16111428,  0.16726227,\n         0.17341026]),\n <BarContainer object of 70 artists>)"
          },
          "metadata": {}
        },
        {
          "data": {
            "text/plain": "<Figure size 640x480 with 1 Axes>",
            "image/png": "[encoded data removed]"
          },
          "metadata": {
            "image/png": {
              "width": 569,
              "height": 413
            }
          },
          "output_type": "display_data"
        }
      ],
      "execution_count": null,
      "block_group": "7b424ac659364e5ca4b4efeb0277d228"
    },
    {
      "cell_type": "code",
      "source": "transaction_data['scores'] = scores_prediction",
      "metadata": {
        "source_hash": null,
        "execution_start": 1692697287266,
        "execution_millis": 371,
        "deepnote_to_be_reexecuted": false,
        "cell_id": "3dc32e0776b24b1ebb9ee7a1423e0a77",
        "deepnote_cell_type": "code"
      },
      "outputs": [],
      "execution_count": null,
      "block_group": "c6d884d35a524a82b485a0182edb1d70"
    },
    {
      "cell_type": "code",
      "source": "transaction_data",
      "metadata": {
        "source_hash": null,
        "execution_start": 1692697287283,
        "execution_millis": 508,
        "deepnote_to_be_reexecuted": false,
        "cell_id": "cedd91314d344c92ba17df8d936cf505",
        "deepnote_cell_type": "code"
      },
      "outputs": [
        {
          "output_type": "execute_result",
          "execution_count": 27,
          "data": {
            "application/vnd.deepnote.dataframe.v3+json": {
              "column_count": 16,
              "row_count": 140000,
              "columns": [
                {
                  "name": "Timestamp",
                  "dtype": "float64"
                },
                {
                  "name": "Value",
                  "dtype": "float64"
                },
                {
                  "name": "C1",
                  "dtype": "float64"
                },
                {
                  "name": "C2",
                  "dtype": "float64"
                },
                {
                  "name": "C3",
                  "dtype": "float64"
                },
                {
                  "name": "C4",
                  "dtype": "float64"
                },
                {
                  "name": "C5",
                  "dtype": "float64"
                },
                {
                  "name": "C6",
                  "dtype": "float64"
                },
                {
                  "name": "C7",
                  "dtype": "float64"
                },
                {
                  "name": "C8",
                  "dtype": "float64"
                },
                {
                  "name": "C9",
                  "dtype": "float64"
                },
                {
                  "name": "C10",
                  "dtype": "float64"
                },
                {
                  "name": "C11",
                  "dtype": "float64"
                },
                {
                  "name": "C12",
                  "dtype": "float64"
                },
                {
                  "name": "Class",
                  "dtype": "int64"
                },
                {
                  "name": "scores",
                  "dtype": "float64"
                },
                {
                  "name": "_deepnote_index_column",
                  "dtype": "int64"
                }
              ],
              "rows": [
                {
                  "Timestamp": 152212.2222,
                  "Value": 1.816,
                  "C1": 13.24521896,
                  "C2": -0.01951961,
                  "C3": 16.36751598,
                  "C4": 0.029326343,
                  "C5": 1.278423381,
                  "C6": 2.748136517,
                  "C7": -1.331457025,
                  "C8": 0.065878874,
                  "C9": -0.104517511,
                  "C10": -0.037517261,
                  "C11": -250,
                  "C12": -0.47563277,
                  "Class": 0,
                  "scores": 0.16148382194685595,
                  "_deepnote_index_column": 0
                },
                {
                  "Timestamp": 159074.4444,
                  "Value": 163.568,
                  "C1": 4.401402651,
                  "C2": 0.084682323,
                  "C3": -313,
                  "C4": 0.001887542,
                  "C5": -0.103762144,
                  "C6": 1.115678381,
                  "C7": 0.023022632,
                  "C8": 0.062966033,
                  "C9": 0.130545982,
                  "C10": -0.303582497,
                  "C11": -0.019974636,
                  "C12": 0.007490528,
                  "Class": 0,
                  "scores": 0.13693179314489728,
                  "_deepnote_index_column": 1
                },
                {
                  "Timestamp": 43127.77778,
                  "Value": 24,
                  "C1": -9.067399008,
                  "C2": 0.76250141,
                  "C3": -1.739613337,
                  "C4": 0.052480647,
                  "C5": -0.101681228,
                  "C6": -88,
                  "C7": 0.117912472,
                  "C8": -0.005629384,
                  "C9": 0.358811618,
                  "C10": -0.367016009,
                  "C11": -0.019974636,
                  "C12": 361,
                  "Class": 0,
                  "scores": 0.14559912225499372,
                  "_deepnote_index_column": 2
                },
                {
                  "Timestamp": 156042.2222,
                  "Value": 8,
                  "C1": 8.728303821,
                  "C2": -0.382673438,
                  "C3": -1.739613337,
                  "C4": -0.116055627,
                  "C5": -0.122345716,
                  "C6": -44,
                  "C7": -338,
                  "C8": 0.042153887,
                  "C9": -0.261258815,
                  "C10": -0.103974088,
                  "C11": -0.019974636,
                  "C12": -1.65437303,
                  "Class": 0,
                  "scores": 0.1343103907735777,
                  "_deepnote_index_column": 3
                },
                {
                  "Timestamp": 154720,
                  "Value": 59.496,
                  "C1": 7.657141017,
                  "C2": 0.150611449,
                  "C3": -1.739613337,
                  "C4": -0.034883005,
                  "C5": 0.826099816,
                  "C6": 0.357556054,
                  "C7": 0.147639537,
                  "C8": -0.005629384,
                  "C9": 0.080490578,
                  "C10": -0.693791924,
                  "C11": -0.308631041,
                  "C12": 0.563569975,
                  "Class": 0,
                  "scores": 0.1684606277182336,
                  "_deepnote_index_column": 4
                },
                {
                  "Timestamp": 37515.55556,
                  "Value": 7.192,
                  "C1": -6.94469954,
                  "C2": -0.13638771,
                  "C3": 0.543171932,
                  "C4": -0.024708279,
                  "C5": 0.11211625,
                  "C6": 1.647884276,
                  "C7": -0.003728685,
                  "C8": 0.039702364,
                  "C9": 0.097664252,
                  "C10": -0.341835815,
                  "C11": -274,
                  "C12": -0.056484138,
                  "Class": 0,
                  "scores": 0.15985455919554825,
                  "_deepnote_index_column": 5
                },
                {
                  "Timestamp": 34078.88889,
                  "Value": 10.32,
                  "C1": 133,
                  "C2": -0.54017728,
                  "C3": 8.803811771,
                  "C4": -0.007306548,
                  "C5": -67,
                  "C6": 1.709943743,
                  "C7": -0.316350773,
                  "C8": -0.003740844,
                  "C9": 0.187718171,
                  "C10": -0.062414435,
                  "C11": 0.338620962,
                  "C12": 0.227838853,
                  "Class": 0,
                  "scores": 0.14788915817585313,
                  "_deepnote_index_column": 6
                },
                {
                  "Timestamp": 58923.33333,
                  "Value": 1.584,
                  "C1": -0.6702644,
                  "C2": -0.16462602,
                  "C3": -8.848896755,
                  "C4": 0.002277997,
                  "C5": 0.078980785,
                  "C6": 1.143923488,
                  "C7": -472,
                  "C8": 0.010554651,
                  "C9": 0.065274778,
                  "C10": 0.029734518,
                  "C11": -0.39626111,
                  "C12": -0.182626008,
                  "Class": 0,
                  "scores": 0.16223564720670147,
                  "_deepnote_index_column": 7
                },
                {
                  "Timestamp": 166341.1111,
                  "Value": 100,
                  "C1": 1.984216404,
                  "C2": 0.416603634,
                  "C3": -178,
                  "C4": -0.00364094,
                  "C5": 53,
                  "C6": 0.279867662,
                  "C7": 0.109451024,
                  "C8": 0.022315534,
                  "C9": -0.039217167,
                  "C10": 0.438852892,
                  "C11": -0.184313113,
                  "C12": 0.64327263,
                  "Class": 0,
                  "scores": 0.13380435190712064,
                  "_deepnote_index_column": 8
                },
                {
                  "Timestamp": 175154.4444,
                  "Value": 0.712,
                  "C1": 5.857276053,
                  "C2": -0.073466049,
                  "C3": 0.667938398,
                  "C4": -0.000891146,
                  "C5": -0.012069316,
                  "C6": 1.427191455,
                  "C7": -101,
                  "C8": -0.038323932,
                  "C9": 0.014183393,
                  "C10": -0.109038924,
                  "C11": 0.4209461,
                  "C12": -61,
                  "Class": 0,
                  "scores": 0.16591594296736162,
                  "_deepnote_index_column": 9
                }
              ]
            },
            "text/plain": "           Timestamp    Value         C1        C2          C3        C4  \\\n0       152212.22220    1.816  13.245219 -0.019520   16.367516  0.029326   \n1       159074.44440  163.568   4.401403  0.084682 -313.000000  0.001888   \n2        43127.77778   24.000  -9.067399  0.762501   -1.739613  0.052481   \n3       156042.22220    8.000   8.728304 -0.382673   -1.739613 -0.116056   \n4       154720.00000   59.496   7.657141  0.150611   -1.739613 -0.034883   \n...              ...      ...        ...       ...         ...       ...   \n139995  183231.11110  102.680  26.000000 -0.230035   -7.050312  0.017126   \n139996  169976.66670    9.848   5.329287 -0.151293    8.303946 -0.004504   \n139997   40377.77778    3.072  -4.025570 -0.468904 -275.000000  0.014959   \n139998   58136.66667   12.800  -7.357232  0.319784   -6.087797  0.018416   \n139999   38507.77778   55.200 -16.080427  0.076156    3.255180 -0.000096   \n\n              C5         C6          C7        C8        C9       C10  \\\n0       1.278423   2.748137   -1.331457  0.065879 -0.104518 -0.037517   \n1      -0.103762   1.115678    0.023023  0.062966  0.130546 -0.303582   \n2      -0.101681 -88.000000    0.117912 -0.005629  0.358812 -0.367016   \n3      -0.122346 -44.000000 -338.000000  0.042154 -0.261259 -0.103974   \n4       0.826100   0.357556    0.147640 -0.005629  0.080491 -0.693792   \n...          ...        ...         ...       ...       ...       ...   \n139995  0.101611   2.443864   -0.068998  0.159159 -0.106062  0.342779   \n139996 -0.040837   1.323421    0.083422  0.007135 -0.179373 -0.157173   \n139997  0.296391   0.609542    0.070729 -0.005629  0.029990  0.438644   \n139998  0.167421   0.279868   -0.018847 -0.005629 -0.228823  0.215016   \n139999 -0.203999  -0.221742   -0.182109 -0.005629  0.297503 -0.449070   \n\n               C11         C12  Class    scores  \n0      -250.000000   -0.475633      0  0.161484  \n1        -0.019975    0.007491      0  0.136932  \n2        -0.019975  361.000000      0  0.145599  \n3        -0.019975   -1.654373      0  0.134310  \n4        -0.308631    0.563570      0  0.168461  \n...            ...         ...    ...       ...  \n139995   -0.011073    0.809047      0  0.164830  \n139996    0.318506   -1.106630      0  0.168596  \n139997   -0.026816   -0.107358      0  0.138359  \n139998   -0.027304   -1.354674      0  0.168819  \n139999    0.222638   -1.800533      0  0.163206  \n\n[140000 rows x 16 columns]",
            "text/html": "<div>\n<style scoped>\n    .dataframe tbody tr th:only-of-type {\n        vertical-align: middle;\n    }\n\n    .dataframe tbody tr th {\n        vertical-align: top;\n    }\n\n    .dataframe thead th {\n        text-align: right;\n    }\n</style>\n<table border=\"1\" class=\"dataframe\">\n  <thead>\n    <tr style=\"text-align: right;\">\n      <th></th>\n      <th>Timestamp</th>\n      <th>Value</th>\n      <th>C1</th>\n      <th>C2</th>\n      <th>C3</th>\n      <th>C4</th>\n      <th>C5</th>\n      <th>C6</th>\n      <th>C7</th>\n      <th>C8</th>\n      <th>C9</th>\n      <th>C10</th>\n      <th>C11</th>\n      <th>C12</th>\n      <th>Class</th>\n      <th>scores</th>\n    </tr>\n  </thead>\n  <tbody>\n    <tr>\n      <th>0</th>\n      <td>152212.22220</td>\n      <td>1.816</td>\n      <td>13.245219</td>\n      <td>-0.019520</td>\n      <td>16.367516</td>\n      <td>0.029326</td>\n      <td>1.278423</td>\n      <td>2.748137</td>\n      <td>-1.331457</td>\n      <td>0.065879</td>\n      <td>-0.104518</td>\n      <td>-0.037517</td>\n      <td>-250.000000</td>\n      <td>-0.475633</td>\n      <td>0</td>\n      <td>0.161484</td>\n    </tr>\n    <tr>\n      <th>1</th>\n      <td>159074.44440</td>\n      <td>163.568</td>\n      <td>4.401403</td>\n      <td>0.084682</td>\n      <td>-313.000000</td>\n      <td>0.001888</td>\n      <td>-0.103762</td>\n      <td>1.115678</td>\n      <td>0.023023</td>\n      <td>0.062966</td>\n      <td>0.130546</td>\n      <td>-0.303582</td>\n      <td>-0.019975</td>\n      <td>0.007491</td>\n      <td>0</td>\n      <td>0.136932</td>\n    </tr>\n    <tr>\n      <th>2</th>\n      <td>43127.77778</td>\n      <td>24.000</td>\n      <td>-9.067399</td>\n      <td>0.762501</td>\n      <td>-1.739613</td>\n      <td>0.052481</td>\n      <td>-0.101681</td>\n      <td>-88.000000</td>\n      <td>0.117912</td>\n      <td>-0.005629</td>\n      <td>0.358812</td>\n      <td>-0.367016</td>\n      <td>-0.019975</td>\n      <td>361.000000</td>\n      <td>0</td>\n      <td>0.145599</td>\n    </tr>\n    <tr>\n      <th>3</th>\n      <td>156042.22220</td>\n      <td>8.000</td>\n      <td>8.728304</td>\n      <td>-0.382673</td>\n      <td>-1.739613</td>\n      <td>-0.116056</td>\n      <td>-0.122346</td>\n      <td>-44.000000</td>\n      <td>-338.000000</td>\n      <td>0.042154</td>\n      <td>-0.261259</td>\n      <td>-0.103974</td>\n      <td>-0.019975</td>\n      <td>-1.654373</td>\n      <td>0</td>\n      <td>0.134310</td>\n    </tr>\n    <tr>\n      <th>4</th>\n      <td>154720.00000</td>\n      <td>59.496</td>\n      <td>7.657141</td>\n      <td>0.150611</td>\n      <td>-1.739613</td>\n      <td>-0.034883</td>\n      <td>0.826100</td>\n      <td>0.357556</td>\n      <td>0.147640</td>\n      <td>-0.005629</td>\n      <td>0.080491</td>\n      <td>-0.693792</td>\n      <td>-0.308631</td>\n      <td>0.563570</td>\n      <td>0</td>\n      <td>0.168461</td>\n    </tr>\n    <tr>\n      <th>...</th>\n      <td>...</td>\n      <td>...</td>\n      <td>...</td>\n      <td>...</td>\n      <td>...</td>\n      <td>...</td>\n      <td>...</td>\n      <td>...</td>\n      <td>...</td>\n      <td>...</td>\n      <td>...</td>\n      <td>...</td>\n      <td>...</td>\n      <td>...</td>\n      <td>...</td>\n      <td>...</td>\n    </tr>\n    <tr>\n      <th>139995</th>\n      <td>183231.11110</td>\n      <td>102.680</td>\n      <td>26.000000</td>\n      <td>-0.230035</td>\n      <td>-7.050312</td>\n      <td>0.017126</td>\n      <td>0.101611</td>\n      <td>2.443864</td>\n      <td>-0.068998</td>\n      <td>0.159159</td>\n      <td>-0.106062</td>\n      <td>0.342779</td>\n      <td>-0.011073</td>\n      <td>0.809047</td>\n      <td>0</td>\n      <td>0.164830</td>\n    </tr>\n    <tr>\n      <th>139996</th>\n      <td>169976.66670</td>\n      <td>9.848</td>\n      <td>5.329287</td>\n      <td>-0.151293</td>\n      <td>8.303946</td>\n      <td>-0.004504</td>\n      <td>-0.040837</td>\n      <td>1.323421</td>\n      <td>0.083422</td>\n      <td>0.007135</td>\n      <td>-0.179373</td>\n      <td>-0.157173</td>\n      <td>0.318506</td>\n      <td>-1.106630</td>\n      <td>0</td>\n      <td>0.168596</td>\n    </tr>\n    <tr>\n      <th>139997</th>\n      <td>40377.77778</td>\n      <td>3.072</td>\n      <td>-4.025570</td>\n      <td>-0.468904</td>\n      <td>-275.000000</td>\n      <td>0.014959</td>\n      <td>0.296391</td>\n      <td>0.609542</td>\n      <td>0.070729</td>\n      <td>-0.005629</td>\n      <td>0.029990</td>\n      <td>0.438644</td>\n      <td>-0.026816</td>\n      <td>-0.107358</td>\n      <td>0</td>\n      <td>0.138359</td>\n    </tr>\n    <tr>\n      <th>139998</th>\n      <td>58136.66667</td>\n      <td>12.800</td>\n      <td>-7.357232</td>\n      <td>0.319784</td>\n      <td>-6.087797</td>\n      <td>0.018416</td>\n      <td>0.167421</td>\n      <td>0.279868</td>\n      <td>-0.018847</td>\n      <td>-0.005629</td>\n      <td>-0.228823</td>\n      <td>0.215016</td>\n      <td>-0.027304</td>\n      <td>-1.354674</td>\n      <td>0</td>\n      <td>0.168819</td>\n    </tr>\n    <tr>\n      <th>139999</th>\n      <td>38507.77778</td>\n      <td>55.200</td>\n      <td>-16.080427</td>\n      <td>0.076156</td>\n      <td>3.255180</td>\n      <td>-0.000096</td>\n      <td>-0.203999</td>\n      <td>-0.221742</td>\n      <td>-0.182109</td>\n      <td>-0.005629</td>\n      <td>0.297503</td>\n      <td>-0.449070</td>\n      <td>0.222638</td>\n      <td>-1.800533</td>\n      <td>0</td>\n      <td>0.163206</td>\n    </tr>\n  </tbody>\n</table>\n<p>140000 rows × 16 columns</p>\n</div>"
          },
          "metadata": {}
        }
      ],
      "execution_count": null,
      "block_group": "8fa07abb4c474c3892b668053e4f50cb"
    },
    {
      "cell_type": "code",
      "source": "transaction_data.query('scores< 0.0019')",
      "metadata": {
        "source_hash": null,
        "execution_start": 1692697287331,
        "execution_millis": 329,
        "deepnote_to_be_reexecuted": false,
        "cell_id": "e9c28c714eeb4e5095b3cfe6cb629ef1",
        "deepnote_cell_type": "code"
      },
      "outputs": [
        {
          "output_type": "execute_result",
          "execution_count": 28,
          "data": {
            "application/vnd.deepnote.dataframe.v3+json": {
              "column_count": 16,
              "row_count": 266,
              "columns": [
                {
                  "name": "Timestamp",
                  "dtype": "float64",
                  "stats": {
                    "unique_count": 266,
                    "nan_count": 0,
                    "min": "840.0",
                    "max": "190825.5556",
                    "histogram": [
                      {
                        "bin_start": 840,
                        "bin_end": 19838.55556,
                        "count": 29
                      },
                      {
                        "bin_start": 19838.55556,
                        "bin_end": 38837.11112,
                        "count": 14
                      },
                      {
                        "bin_start": 38837.11112,
                        "bin_end": 57835.66668,
                        "count": 45
                      },
                      {
                        "bin_start": 57835.66668,
                        "bin_end": 76834.22224,
                        "count": 28
                      },
                      {
                        "bin_start": 76834.22224,
                        "bin_end": 95832.77780000001,
                        "count": 30
                      },
                      {
                        "bin_start": 95832.77780000001,
                        "bin_end": 114831.33336,
                        "count": 13
                      },
                      {
                        "bin_start": 114831.33336,
                        "bin_end": 133829.88892,
                        "count": 17
                      },
                      {
                        "bin_start": 133829.88892,
                        "bin_end": 152828.44448,
                        "count": 18
                      },
                      {
                        "bin_start": 152828.44448,
                        "bin_end": 171827.00004,
                        "count": 46
                      },
                      {
                        "bin_start": 171827.00004,
                        "bin_end": 190825.5556,
                        "count": 26
                      }
                    ]
                  }
                },
                {
                  "name": "Value",
                  "dtype": "float64",
                  "stats": {
                    "unique_count": 231,
                    "nan_count": 0,
                    "min": "0.008",
                    "max": "20552.928",
                    "histogram": [
                      {
                        "bin_start": 0.008,
                        "bin_end": 2055.2999999999997,
                        "count": 245
                      },
                      {
                        "bin_start": 2055.2999999999997,
                        "bin_end": 4110.592,
                        "count": 8
                      },
                      {
                        "bin_start": 4110.592,
                        "bin_end": 6165.884,
                        "count": 6
                      },
                      {
                        "bin_start": 6165.884,
                        "bin_end": 8221.176,
                        "count": 2
                      },
                      {
                        "bin_start": 8221.176,
                        "bin_end": 10276.467999999999,
                        "count": 1
                      },
                      {
                        "bin_start": 10276.467999999999,
                        "bin_end": 12331.76,
                        "count": 1
                      },
                      {
                        "bin_start": 12331.76,
                        "bin_end": 14387.052,
                        "count": 0
                      },
                      {
                        "bin_start": 14387.052,
                        "bin_end": 16442.344,
                        "count": 2
                      },
                      {
                        "bin_start": 16442.344,
                        "bin_end": 18497.636000000002,
                        "count": 0
                      },
                      {
                        "bin_start": 18497.636000000002,
                        "bin_end": 20552.928,
                        "count": 1
                      }
                    ]
                  }
                },
                {
                  "name": "C1",
                  "dtype": "float64",
                  "stats": {
                    "unique_count": 224,
                    "nan_count": 0,
                    "min": "-1995.0",
                    "max": "1970.0",
                    "histogram": [
                      {
                        "bin_start": -1995,
                        "bin_end": -1598.5,
                        "count": 12
                      },
                      {
                        "bin_start": -1598.5,
                        "bin_end": -1202,
                        "count": 7
                      },
                      {
                        "bin_start": -1202,
                        "bin_end": -805.5,
                        "count": 4
                      },
                      {
                        "bin_start": -805.5,
                        "bin_end": -409,
                        "count": 2
                      },
                      {
                        "bin_start": -409,
                        "bin_end": -12.5,
                        "count": 19
                      },
                      {
                        "bin_start": -12.5,
                        "bin_end": 384,
                        "count": 198
                      },
                      {
                        "bin_start": 384,
                        "bin_end": 780.5,
                        "count": 1
                      },
                      {
                        "bin_start": 780.5,
                        "bin_end": 1177,
                        "count": 4
                      },
                      {
                        "bin_start": 1177,
                        "bin_end": 1573.5,
                        "count": 6
                      },
                      {
                        "bin_start": 1573.5,
                        "bin_end": 1970,
                        "count": 13
                      }
                    ]
                  }
                },
                {
                  "name": "C2",
                  "dtype": "float64",
                  "stats": {
                    "unique_count": 234,
                    "nan_count": 0,
                    "min": "-496.0",
                    "max": "91.0",
                    "histogram": [
                      {
                        "bin_start": -496,
                        "bin_end": -437.3,
                        "count": 30
                      },
                      {
                        "bin_start": -437.3,
                        "bin_end": -378.6,
                        "count": 26
                      },
                      {
                        "bin_start": -378.6,
                        "bin_end": -319.9,
                        "count": 19
                      },
                      {
                        "bin_start": -319.9,
                        "bin_end": -261.2,
                        "count": 8
                      },
                      {
                        "bin_start": -261.2,
                        "bin_end": -202.5,
                        "count": 11
                      },
                      {
                        "bin_start": -202.5,
                        "bin_end": -143.79999999999995,
                        "count": 7
                      },
                      {
                        "bin_start": -143.79999999999995,
                        "bin_end": -85.09999999999997,
                        "count": 2
                      },
                      {
                        "bin_start": -85.09999999999997,
                        "bin_end": -26.399999999999977,
                        "count": 4
                      },
                      {
                        "bin_start": -26.399999999999977,
                        "bin_end": 32.30000000000007,
                        "count": 156
                      },
                      {
                        "bin_start": 32.30000000000007,
                        "bin_end": 91,
                        "count": 3
                      }
                    ]
                  }
                },
                {
                  "name": "C3",
                  "dtype": "float64",
                  "stats": {
                    "unique_count": 238,
                    "nan_count": 0,
                    "min": "-499.0",
                    "max": "196.4012907",
                    "histogram": [
                      {
                        "bin_start": -499,
                        "bin_end": -429.45987092999997,
                        "count": 33
                      },
                      {
                        "bin_start": -429.45987092999997,
                        "bin_end": -359.91974186,
                        "count": 24
                      },
                      {
                        "bin_start": -359.91974186,
                        "bin_end": -290.37961279,
                        "count": 9
                      },
                      {
                        "bin_start": -290.37961279,
                        "bin_end": -220.83948371999998,
                        "count": 9
                      },
                      {
                        "bin_start": -220.83948371999998,
                        "bin_end": -151.29935464999994,
                        "count": 9
                      },
                      {
                        "bin_start": -151.29935464999994,
                        "bin_end": -81.75922557999996,
                        "count": 6
                      },
                      {
                        "bin_start": -81.75922557999996,
                        "bin_end": -12.219096509999986,
                        "count": 21
                      },
                      {
                        "bin_start": -12.219096509999986,
                        "bin_end": 57.32103256000005,
                        "count": 150
                      },
                      {
                        "bin_start": 57.32103256000005,
                        "bin_end": 126.86116163000008,
                        "count": 2
                      },
                      {
                        "bin_start": 126.86116163000008,
                        "bin_end": 196.4012907,
                        "count": 3
                      }
                    ]
                  }
                },
                {
                  "name": "C4",
                  "dtype": "float64",
                  "stats": {
                    "unique_count": 266,
                    "nan_count": 0,
                    "min": "-0.212539898",
                    "max": "0.278668271",
                    "histogram": [
                      {
                        "bin_start": -0.212539898,
                        "bin_end": -0.1634190811,
                        "count": 2
                      },
                      {
                        "bin_start": -0.1634190811,
                        "bin_end": -0.1142982642,
                        "count": 3
                      },
                      {
                        "bin_start": -0.1142982642,
                        "bin_end": -0.0651774473,
                        "count": 9
                      },
                      {
                        "bin_start": -0.0651774473,
                        "bin_end": -0.016056630399999994,
                        "count": 56
                      },
                      {
                        "bin_start": -0.016056630399999994,
                        "bin_end": 0.03306418650000001,
                        "count": 138
                      },
                      {
                        "bin_start": 0.03306418650000001,
                        "bin_end": 0.08218500340000001,
                        "count": 46
                      },
                      {
                        "bin_start": 0.08218500340000001,
                        "bin_end": 0.1313058203,
                        "count": 7
                      },
                      {
                        "bin_start": 0.1313058203,
                        "bin_end": 0.18042663720000002,
                        "count": 3
                      },
                      {
                        "bin_start": 0.18042663720000002,
                        "bin_end": 0.22954745410000005,
                        "count": 0
                      },
                      {
                        "bin_start": 0.22954745410000005,
                        "bin_end": 0.278668271,
                        "count": 2
                      }
                    ]
                  }
                },
                {
                  "name": "C5",
                  "dtype": "float64",
                  "stats": {
                    "unique_count": 239,
                    "nan_count": 0,
                    "min": "-500.0",
                    "max": "78.0",
                    "histogram": [
                      {
                        "bin_start": -500,
                        "bin_end": -442.2,
                        "count": 22
                      },
                      {
                        "bin_start": -442.2,
                        "bin_end": -384.4,
                        "count": 18
                      },
                      {
                        "bin_start": -384.4,
                        "bin_end": -326.6,
                        "count": 18
                      },
                      {
                        "bin_start": -326.6,
                        "bin_end": -268.8,
                        "count": 14
                      },
                      {
                        "bin_start": -268.8,
                        "bin_end": -211,
                        "count": 11
                      },
                      {
                        "bin_start": -211,
                        "bin_end": -153.20000000000005,
                        "count": 6
                      },
                      {
                        "bin_start": -153.20000000000005,
                        "bin_end": -95.40000000000003,
                        "count": 2
                      },
                      {
                        "bin_start": -95.40000000000003,
                        "bin_end": -37.60000000000002,
                        "count": 4
                      },
                      {
                        "bin_start": -37.60000000000002,
                        "bin_end": 20.199999999999932,
                        "count": 166
                      },
                      {
                        "bin_start": 20.199999999999932,
                        "bin_end": 78,
                        "count": 5
                      }
                    ]
                  }
                },
                {
                  "name": "C6",
                  "dtype": "float64",
                  "stats": {
                    "unique_count": 233,
                    "nan_count": 0,
                    "min": "-1966.0",
                    "max": "1999.0",
                    "histogram": [
                      {
                        "bin_start": -1966,
                        "bin_end": -1569.5,
                        "count": 11
                      },
                      {
                        "bin_start": -1569.5,
                        "bin_end": -1173,
                        "count": 5
                      },
                      {
                        "bin_start": -1173,
                        "bin_end": -776.5,
                        "count": 2
                      },
                      {
                        "bin_start": -776.5,
                        "bin_end": -380,
                        "count": 6
                      },
                      {
                        "bin_start": -380,
                        "bin_end": 16.5,
                        "count": 199
                      },
                      {
                        "bin_start": 16.5,
                        "bin_end": 413,
                        "count": 13
                      },
                      {
                        "bin_start": 413,
                        "bin_end": 809.5,
                        "count": 1
                      },
                      {
                        "bin_start": 809.5,
                        "bin_end": 1206,
                        "count": 4
                      },
                      {
                        "bin_start": 1206,
                        "bin_end": 1602.5,
                        "count": 15
                      },
                      {
                        "bin_start": 1602.5,
                        "bin_end": 1999,
                        "count": 10
                      }
                    ]
                  }
                },
                {
                  "name": "C7",
                  "dtype": "float64",
                  "stats": {
                    "unique_count": 246,
                    "nan_count": 0,
                    "min": "-1988.0",
                    "max": "1990.0",
                    "histogram": [
                      {
                        "bin_start": -1988,
                        "bin_end": -1590.2,
                        "count": 18
                      },
                      {
                        "bin_start": -1590.2,
                        "bin_end": -1192.4,
                        "count": 10
                      },
                      {
                        "bin_start": -1192.4,
                        "bin_end": -794.5999999999999,
                        "count": 2
                      },
                      {
                        "bin_start": -794.5999999999999,
                        "bin_end": -396.79999999999995,
                        "count": 4
                      },
                      {
                        "bin_start": -396.79999999999995,
                        "bin_end": 1,
                        "count": 198
                      },
                      {
                        "bin_start": 1,
                        "bin_end": 398.8000000000002,
                        "count": 9
                      },
                      {
                        "bin_start": 398.8000000000002,
                        "bin_end": 796.5999999999999,
                        "count": 1
                      },
                      {
                        "bin_start": 796.5999999999999,
                        "bin_end": 1194.4,
                        "count": 4
                      },
                      {
                        "bin_start": 1194.4,
                        "bin_end": 1592.2000000000003,
                        "count": 6
                      },
                      {
                        "bin_start": 1592.2000000000003,
                        "bin_end": 1990,
                        "count": 14
                      }
                    ]
                  }
                },
                {
                  "name": "C8",
                  "dtype": "float64",
                  "stats": {
                    "unique_count": 240,
                    "nan_count": 0,
                    "min": "-497.0",
                    "max": "96.0",
                    "histogram": [
                      {
                        "bin_start": -497,
                        "bin_end": -437.7,
                        "count": 31
                      },
                      {
                        "bin_start": -437.7,
                        "bin_end": -378.4,
                        "count": 20
                      },
                      {
                        "bin_start": -378.4,
                        "bin_end": -319.1,
                        "count": 25
                      },
                      {
                        "bin_start": -319.1,
                        "bin_end": -259.8,
                        "count": 8
                      },
                      {
                        "bin_start": -259.8,
                        "bin_end": -200.5,
                        "count": 12
                      },
                      {
                        "bin_start": -200.5,
                        "bin_end": -141.20000000000005,
                        "count": 3
                      },
                      {
                        "bin_start": -141.20000000000005,
                        "bin_end": -81.90000000000003,
                        "count": 9
                      },
                      {
                        "bin_start": -81.90000000000003,
                        "bin_end": -22.600000000000023,
                        "count": 2
                      },
                      {
                        "bin_start": -22.600000000000023,
                        "bin_end": 36.69999999999993,
                        "count": 154
                      },
                      {
                        "bin_start": 36.69999999999993,
                        "bin_end": 96,
                        "count": 2
                      }
                    ]
                  }
                },
                {
                  "name": "C9",
                  "dtype": "float64",
                  "stats": {
                    "unique_count": 266,
                    "nan_count": 0,
                    "min": "-1.544514714",
                    "max": "0.715544481",
                    "histogram": [
                      {
                        "bin_start": -1.544514714,
                        "bin_end": -1.3185087945,
                        "count": 1
                      },
                      {
                        "bin_start": -1.3185087945,
                        "bin_end": -1.0925028749999999,
                        "count": 0
                      },
                      {
                        "bin_start": -1.0925028749999999,
                        "bin_end": -0.8664969554999999,
                        "count": 2
                      },
                      {
                        "bin_start": -0.8664969554999999,
                        "bin_end": -0.6404910359999999,
                        "count": 7
                      },
                      {
                        "bin_start": -0.6404910359999999,
                        "bin_end": -0.41448511649999986,
                        "count": 17
                      },
                      {
                        "bin_start": -0.41448511649999986,
                        "bin_end": -0.18847919699999993,
                        "count": 51
                      },
                      {
                        "bin_start": -0.18847919699999993,
                        "bin_end": 0.03752672250000022,
                        "count": 82
                      },
                      {
                        "bin_start": 0.03752672250000022,
                        "bin_end": 0.26353264200000015,
                        "count": 69
                      },
                      {
                        "bin_start": 0.26353264200000015,
                        "bin_end": 0.4895385615000003,
                        "count": 29
                      },
                      {
                        "bin_start": 0.4895385615000003,
                        "bin_end": 0.715544481,
                        "count": 8
                      }
                    ]
                  }
                },
                {
                  "name": "C10",
                  "dtype": "float64",
                  "stats": {
                    "unique_count": 239,
                    "nan_count": 0,
                    "min": "-497.0",
                    "max": "99.0",
                    "histogram": [
                      {
                        "bin_start": -497,
                        "bin_end": -437.4,
                        "count": 28
                      },
                      {
                        "bin_start": -437.4,
                        "bin_end": -377.8,
                        "count": 23
                      },
                      {
                        "bin_start": -377.8,
                        "bin_end": -318.2,
                        "count": 19
                      },
                      {
                        "bin_start": -318.2,
                        "bin_end": -258.6,
                        "count": 7
                      },
                      {
                        "bin_start": -258.6,
                        "bin_end": -199,
                        "count": 6
                      },
                      {
                        "bin_start": -199,
                        "bin_end": -139.39999999999998,
                        "count": 5
                      },
                      {
                        "bin_start": -139.39999999999998,
                        "bin_end": -79.80000000000001,
                        "count": 5
                      },
                      {
                        "bin_start": -79.80000000000001,
                        "bin_end": -20.19999999999999,
                        "count": 1
                      },
                      {
                        "bin_start": -20.19999999999999,
                        "bin_end": 39.39999999999998,
                        "count": 165
                      },
                      {
                        "bin_start": 39.39999999999998,
                        "bin_end": 99,
                        "count": 7
                      }
                    ]
                  }
                },
                {
                  "name": "C11",
                  "dtype": "float64",
                  "stats": {
                    "unique_count": 243,
                    "nan_count": 0,
                    "min": "-1990.0",
                    "max": "1996.0",
                    "histogram": [
                      {
                        "bin_start": -1990,
                        "bin_end": -1591.4,
                        "count": 14
                      },
                      {
                        "bin_start": -1591.4,
                        "bin_end": -1192.8,
                        "count": 8
                      },
                      {
                        "bin_start": -1192.8,
                        "bin_end": -794.1999999999998,
                        "count": 7
                      },
                      {
                        "bin_start": -794.1999999999998,
                        "bin_end": -395.5999999999999,
                        "count": 4
                      },
                      {
                        "bin_start": -395.5999999999999,
                        "bin_end": 3,
                        "count": 198
                      },
                      {
                        "bin_start": 3,
                        "bin_end": 401.60000000000036,
                        "count": 2
                      },
                      {
                        "bin_start": 401.60000000000036,
                        "bin_end": 800.2000000000003,
                        "count": 5
                      },
                      {
                        "bin_start": 800.2000000000003,
                        "bin_end": 1198.8000000000002,
                        "count": 6
                      },
                      {
                        "bin_start": 1198.8000000000002,
                        "bin_end": 1597.4,
                        "count": 8
                      },
                      {
                        "bin_start": 1597.4,
                        "bin_end": 1996,
                        "count": 14
                      }
                    ]
                  }
                },
                {
                  "name": "C12",
                  "dtype": "float64",
                  "stats": {
                    "unique_count": 248,
                    "nan_count": 0,
                    "min": "-1986.0",
                    "max": "1997.0",
                    "histogram": [
                      {
                        "bin_start": -1986,
                        "bin_end": -1587.7,
                        "count": 17
                      },
                      {
                        "bin_start": -1587.7,
                        "bin_end": -1189.4,
                        "count": 9
                      },
                      {
                        "bin_start": -1189.4,
                        "bin_end": -791.0999999999999,
                        "count": 1
                      },
                      {
                        "bin_start": -791.0999999999999,
                        "bin_end": -392.79999999999995,
                        "count": 7
                      },
                      {
                        "bin_start": -392.79999999999995,
                        "bin_end": 5.5,
                        "count": 197
                      },
                      {
                        "bin_start": 5.5,
                        "bin_end": 403.8000000000002,
                        "count": 2
                      },
                      {
                        "bin_start": 403.8000000000002,
                        "bin_end": 802.0999999999999,
                        "count": 1
                      },
                      {
                        "bin_start": 802.0999999999999,
                        "bin_end": 1200.4,
                        "count": 4
                      },
                      {
                        "bin_start": 1200.4,
                        "bin_end": 1598.7000000000003,
                        "count": 7
                      },
                      {
                        "bin_start": 1598.7000000000003,
                        "bin_end": 1997,
                        "count": 21
                      }
                    ]
                  }
                },
                {
                  "name": "Class",
                  "dtype": "int64",
                  "stats": {
                    "unique_count": 2,
                    "nan_count": 0,
                    "min": "0",
                    "max": "1",
                    "histogram": [
                      {
                        "bin_start": 0,
                        "bin_end": 0.1,
                        "count": 261
                      },
                      {
                        "bin_start": 0.1,
                        "bin_end": 0.2,
                        "count": 0
                      },
                      {
                        "bin_start": 0.2,
                        "bin_end": 0.30000000000000004,
                        "count": 0
                      },
                      {
                        "bin_start": 0.30000000000000004,
                        "bin_end": 0.4,
                        "count": 0
                      },
                      {
                        "bin_start": 0.4,
                        "bin_end": 0.5,
                        "count": 0
                      },
                      {
                        "bin_start": 0.5,
                        "bin_end": 0.6000000000000001,
                        "count": 0
                      },
                      {
                        "bin_start": 0.6000000000000001,
                        "bin_end": 0.7000000000000001,
                        "count": 0
                      },
                      {
                        "bin_start": 0.7000000000000001,
                        "bin_end": 0.8,
                        "count": 0
                      },
                      {
                        "bin_start": 0.8,
                        "bin_end": 0.9,
                        "count": 0
                      },
                      {
                        "bin_start": 0.9,
                        "bin_end": 1,
                        "count": 5
                      }
                    ]
                  }
                },
                {
                  "name": "scores",
                  "dtype": "float64",
                  "stats": {
                    "unique_count": 266,
                    "nan_count": 0,
                    "min": "-0.2569492929212663",
                    "max": "0.0018354315518054887",
                    "histogram": [
                      {
                        "bin_start": -0.2569492929212663,
                        "bin_end": -0.2310708204739591,
                        "count": 1
                      },
                      {
                        "bin_start": -0.2310708204739591,
                        "bin_end": -0.20519234802665193,
                        "count": 1
                      },
                      {
                        "bin_start": -0.20519234802665193,
                        "bin_end": -0.17931387557934475,
                        "count": 0
                      },
                      {
                        "bin_start": -0.17931387557934475,
                        "bin_end": -0.15343540313203757,
                        "count": 1
                      },
                      {
                        "bin_start": -0.15343540313203757,
                        "bin_end": -0.1275569306847304,
                        "count": 2
                      },
                      {
                        "bin_start": -0.1275569306847304,
                        "bin_end": -0.10167845823742322,
                        "count": 3
                      },
                      {
                        "bin_start": -0.10167845823742322,
                        "bin_end": -0.07579998579011604,
                        "count": 6
                      },
                      {
                        "bin_start": -0.07579998579011604,
                        "bin_end": -0.049921513342808865,
                        "count": 26
                      },
                      {
                        "bin_start": -0.049921513342808865,
                        "bin_end": -0.02404304089550169,
                        "count": 48
                      },
                      {
                        "bin_start": -0.02404304089550169,
                        "bin_end": 0.0018354315518054887,
                        "count": 178
                      }
                    ]
                  }
                },
                {
                  "name": "_deepnote_index_column",
                  "dtype": "int64"
                }
              ],
              "rows": [
                {
                  "Timestamp": 45451.11111,
                  "Value": 0.792,
                  "C1": -1826,
                  "C2": -0.032858691,
                  "C3": -7.865014264,
                  "C4": -0.012218428,
                  "C5": -433,
                  "C6": -0.792182082,
                  "C7": -0.005376539,
                  "C8": -0.007042613,
                  "C9": -0.374519051,
                  "C10": 1.255514421,
                  "C11": -1792,
                  "C12": -0.287704745,
                  "Class": 0,
                  "scores": -0.046444316854581336,
                  "_deepnote_index_column": 910
                },
                {
                  "Timestamp": 105873.3333,
                  "Value": 15128,
                  "C1": 77,
                  "C2": -4.517891569,
                  "C3": -43.91715457,
                  "C4": 0.268035762,
                  "C5": -15.84022939,
                  "C6": -8.22179851,
                  "C7": -19.58350414,
                  "C8": -0.329947193,
                  "C9": -0.810383117,
                  "C10": -0.712188742,
                  "C11": -3.985156452,
                  "C12": 29,
                  "Class": 0,
                  "scores": -0.17811290154890175,
                  "_deepnote_index_column": 1398
                },
                {
                  "Timestamp": 129866.6667,
                  "Value": 720,
                  "C1": 10.85640695,
                  "C2": -461,
                  "C3": 6.782109649,
                  "C4": -0.002839895,
                  "C5": -0.812546051,
                  "C6": 0.235329234,
                  "C7": -0.842302821,
                  "C8": -0.007872415,
                  "C9": -0.110698154,
                  "C10": -490,
                  "C11": 492,
                  "C12": -0.1140626,
                  "Class": 0,
                  "scores": -0.02109633004202499,
                  "_deepnote_index_column": 1446
                },
                {
                  "Timestamp": 41758.88889,
                  "Value": 60.064,
                  "C1": -3,
                  "C2": -0.757107915,
                  "C3": -349,
                  "C4": 0.028128627,
                  "C5": 0.059587784,
                  "C6": 0.469914863,
                  "C7": -335,
                  "C8": -343,
                  "C9": 0.039154231,
                  "C10": -0.652868603,
                  "C11": 1660,
                  "C12": 0.318889492,
                  "Class": 0,
                  "scores": -0.006935786081734285,
                  "_deepnote_index_column": 1519
                },
                {
                  "Timestamp": 7543.333333,
                  "Value": 0.712,
                  "C1": -2.074054876,
                  "C2": 91,
                  "C3": -419,
                  "C4": 0.015368378,
                  "C5": 0.0009032965,
                  "C6": 1.335143839,
                  "C7": 0.071892916,
                  "C8": -425,
                  "C9": -0.356277158,
                  "C10": -0.260871255,
                  "C11": -0.434155837,
                  "C12": -0.087704345,
                  "Class": 0,
                  "scores": -0.01353284267378202,
                  "_deepnote_index_column": 1596
                },
                {
                  "Timestamp": 22106.66667,
                  "Value": 4,
                  "C1": -8.100357989,
                  "C2": -64,
                  "C3": -6.510508465,
                  "C4": -0.035290173,
                  "C5": -369,
                  "C6": 0.897992808,
                  "C7": 0.000454072,
                  "C8": -128,
                  "C9": -0.259162595,
                  "C10": -0.318266759,
                  "C11": 1367,
                  "C12": -1313,
                  "Class": 0,
                  "scores": -0.051399188638889315,
                  "_deepnote_index_column": 1611
                },
                {
                  "Timestamp": 57171.11111,
                  "Value": 7.992,
                  "C1": -1.25001363,
                  "C2": 0.093110847,
                  "C3": -11.80437992,
                  "C4": 0.000877791,
                  "C5": 0.593068081,
                  "C6": -0.085826202,
                  "C7": -0.071081793,
                  "C8": -455,
                  "C9": -0.037552624,
                  "C10": 1.339534714,
                  "C11": -1089,
                  "C12": 1715,
                  "Class": 0,
                  "scores": 0.001694988167468825,
                  "_deepnote_index_column": 1644
                },
                {
                  "Timestamp": 19497.77778,
                  "Value": 78.608,
                  "C1": -7.116477903,
                  "C2": -161,
                  "C3": 19.89352135,
                  "C4": 0.010254237,
                  "C5": -0.059995868,
                  "C6": -92,
                  "C7": 0.009430231,
                  "C8": -136,
                  "C9": -0.52842694,
                  "C10": -353,
                  "C11": -0.318476416,
                  "C12": 995,
                  "Class": 0,
                  "scores": -0.012578578144845365,
                  "_deepnote_index_column": 2059
                },
                {
                  "Timestamp": 145181.1111,
                  "Value": 8,
                  "C1": 1970,
                  "C2": 0.278984554,
                  "C3": -4.790441043,
                  "C4": -0.040439329,
                  "C5": -0.147052929,
                  "C6": 66,
                  "C7": 1990,
                  "C8": -0.049035536,
                  "C9": 0.329512716,
                  "C10": -0.794143289,
                  "C11": 1254,
                  "C12": -0.383081729,
                  "Class": 0,
                  "scores": -0.04963570385335864,
                  "_deepnote_index_column": 2264
                },
                {
                  "Timestamp": 3455.555556,
                  "Value": 40.024,
                  "C1": -1.753067125,
                  "C2": -304,
                  "C3": 5.772882345,
                  "C4": 0.000658945,
                  "C5": 0.022166285,
                  "C6": 130,
                  "C7": 0.055316781,
                  "C8": -336,
                  "C9": 0.137805895,
                  "C10": -0.371532147,
                  "C11": 43,
                  "C12": -1242,
                  "Class": 0,
                  "scores": 0.0004771385679415152,
                  "_deepnote_index_column": 3045
                }
              ]
            },
            "text/plain": "            Timestamp      Value           C1          C2          C3  \\\n910      45451.111110      0.792 -1826.000000   -0.032859   -7.865014   \n1398    105873.333300  15128.000    77.000000   -4.517892  -43.917155   \n1446    129866.666700    720.000    10.856407 -461.000000    6.782110   \n1519     41758.888890     60.064    -3.000000   -0.757108 -349.000000   \n1596      7543.333333      0.712    -2.074055   91.000000 -419.000000   \n...               ...        ...          ...         ...         ...   \n139180    4357.777778     23.992  1867.000000 -348.000000   -1.739613   \n139217   30408.888890      1.216  1691.000000   -0.746950   -1.851944   \n139237  150303.333300    159.920    -6.073986    0.295812   16.684429   \n139530   90080.000000    118.400    -1.267381 -425.000000   11.620774   \n139533  149737.777800      7.992    -1.250014   -0.100398   -2.582168   \n\n              C4          C5           C6           C7          C8        C9  \\\n910    -0.012218 -433.000000    -0.792182    -0.005377   -0.007043 -0.374519   \n1398    0.268036  -15.840229    -8.221799   -19.583504   -0.329947 -0.810383   \n1446   -0.002840   -0.812546     0.235329    -0.842303   -0.007872 -0.110698   \n1519    0.028129    0.059588     0.469915  -335.000000 -343.000000  0.039154   \n1596    0.015368    0.000903     1.335144     0.071893 -425.000000 -0.356277   \n...          ...         ...          ...          ...         ...       ...   \n139180 -0.001569   -0.020300    -0.154585 -1424.000000   -0.055810 -0.444635   \n139217  0.014905    0.048262    -0.895650     0.023023    0.052473 -0.208837   \n139237  0.040521 -482.000000  1133.000000    -0.147470    0.009568  0.021088   \n139530  0.041058   -0.221097 -1785.000000     0.104905   -0.005629 -0.193661   \n139533  0.005482   -0.117542  1650.000000     0.107475    0.008159  0.046580   \n\n               C10          C11          C12  Class    scores  \n910       1.255514 -1792.000000    -0.287705      0 -0.046444  \n1398     -0.712189    -3.985156    29.000000      0 -0.178113  \n1446   -490.000000   492.000000    -0.114063      0 -0.021096  \n1519     -0.652869  1660.000000     0.318889      0 -0.006936  \n1596     -0.260871    -0.434156    -0.087704      0 -0.013533  \n...            ...          ...          ...    ...       ...  \n139180    0.421162    -0.019975    -0.801174      0 -0.034748  \n139217    0.042148 -1975.000000  -872.000000      0 -0.003397  \n139237 -466.000000    -0.504127    -0.340892      0 -0.025198  \n139530 -334.000000    -0.094434     0.354757      0 -0.016768  \n139533 -467.000000    -0.019975  1662.000000      0 -0.018980  \n\n[266 rows x 16 columns]",
            "text/html": "<div>\n<style scoped>\n    .dataframe tbody tr th:only-of-type {\n        vertical-align: middle;\n    }\n\n    .dataframe tbody tr th {\n        vertical-align: top;\n    }\n\n    .dataframe thead th {\n        text-align: right;\n    }\n</style>\n<table border=\"1\" class=\"dataframe\">\n  <thead>\n    <tr style=\"text-align: right;\">\n      <th></th>\n      <th>Timestamp</th>\n      <th>Value</th>\n      <th>C1</th>\n      <th>C2</th>\n      <th>C3</th>\n      <th>C4</th>\n      <th>C5</th>\n      <th>C6</th>\n      <th>C7</th>\n      <th>C8</th>\n      <th>C9</th>\n      <th>C10</th>\n      <th>C11</th>\n      <th>C12</th>\n      <th>Class</th>\n      <th>scores</th>\n    </tr>\n  </thead>\n  <tbody>\n    <tr>\n      <th>910</th>\n      <td>45451.111110</td>\n      <td>0.792</td>\n      <td>-1826.000000</td>\n      <td>-0.032859</td>\n      <td>-7.865014</td>\n      <td>-0.012218</td>\n      <td>-433.000000</td>\n      <td>-0.792182</td>\n      <td>-0.005377</td>\n      <td>-0.007043</td>\n      <td>-0.374519</td>\n      <td>1.255514</td>\n      <td>-1792.000000</td>\n      <td>-0.287705</td>\n      <td>0</td>\n      <td>-0.046444</td>\n    </tr>\n    <tr>\n      <th>1398</th>\n      <td>105873.333300</td>\n      <td>15128.000</td>\n      <td>77.000000</td>\n      <td>-4.517892</td>\n      <td>-43.917155</td>\n      <td>0.268036</td>\n      <td>-15.840229</td>\n      <td>-8.221799</td>\n      <td>-19.583504</td>\n      <td>-0.329947</td>\n      <td>-0.810383</td>\n      <td>-0.712189</td>\n      <td>-3.985156</td>\n      <td>29.000000</td>\n      <td>0</td>\n      <td>-0.178113</td>\n    </tr>\n    <tr>\n      <th>1446</th>\n      <td>129866.666700</td>\n      <td>720.000</td>\n      <td>10.856407</td>\n      <td>-461.000000</td>\n      <td>6.782110</td>\n      <td>-0.002840</td>\n      <td>-0.812546</td>\n      <td>0.235329</td>\n      <td>-0.842303</td>\n      <td>-0.007872</td>\n      <td>-0.110698</td>\n      <td>-490.000000</td>\n      <td>492.000000</td>\n      <td>-0.114063</td>\n      <td>0</td>\n      <td>-0.021096</td>\n    </tr>\n    <tr>\n      <th>1519</th>\n      <td>41758.888890</td>\n      <td>60.064</td>\n      <td>-3.000000</td>\n      <td>-0.757108</td>\n      <td>-349.000000</td>\n      <td>0.028129</td>\n      <td>0.059588</td>\n      <td>0.469915</td>\n      <td>-335.000000</td>\n      <td>-343.000000</td>\n      <td>0.039154</td>\n      <td>-0.652869</td>\n      <td>1660.000000</td>\n      <td>0.318889</td>\n      <td>0</td>\n      <td>-0.006936</td>\n    </tr>\n    <tr>\n      <th>1596</th>\n      <td>7543.333333</td>\n      <td>0.712</td>\n      <td>-2.074055</td>\n      <td>91.000000</td>\n      <td>-419.000000</td>\n      <td>0.015368</td>\n      <td>0.000903</td>\n      <td>1.335144</td>\n      <td>0.071893</td>\n      <td>-425.000000</td>\n      <td>-0.356277</td>\n      <td>-0.260871</td>\n      <td>-0.434156</td>\n      <td>-0.087704</td>\n      <td>0</td>\n      <td>-0.013533</td>\n    </tr>\n    <tr>\n      <th>...</th>\n      <td>...</td>\n      <td>...</td>\n      <td>...</td>\n      <td>...</td>\n      <td>...</td>\n      <td>...</td>\n      <td>...</td>\n      <td>...</td>\n      <td>...</td>\n      <td>...</td>\n      <td>...</td>\n      <td>...</td>\n      <td>...</td>\n      <td>...</td>\n      <td>...</td>\n      <td>...</td>\n    </tr>\n    <tr>\n      <th>139180</th>\n      <td>4357.777778</td>\n      <td>23.992</td>\n      <td>1867.000000</td>\n      <td>-348.000000</td>\n      <td>-1.739613</td>\n      <td>-0.001569</td>\n      <td>-0.020300</td>\n      <td>-0.154585</td>\n      <td>-1424.000000</td>\n      <td>-0.055810</td>\n      <td>-0.444635</td>\n      <td>0.421162</td>\n      <td>-0.019975</td>\n      <td>-0.801174</td>\n      <td>0</td>\n      <td>-0.034748</td>\n    </tr>\n    <tr>\n      <th>139217</th>\n      <td>30408.888890</td>\n      <td>1.216</td>\n      <td>1691.000000</td>\n      <td>-0.746950</td>\n      <td>-1.851944</td>\n      <td>0.014905</td>\n      <td>0.048262</td>\n      <td>-0.895650</td>\n      <td>0.023023</td>\n      <td>0.052473</td>\n      <td>-0.208837</td>\n      <td>0.042148</td>\n      <td>-1975.000000</td>\n      <td>-872.000000</td>\n      <td>0</td>\n      <td>-0.003397</td>\n    </tr>\n    <tr>\n      <th>139237</th>\n      <td>150303.333300</td>\n      <td>159.920</td>\n      <td>-6.073986</td>\n      <td>0.295812</td>\n      <td>16.684429</td>\n      <td>0.040521</td>\n      <td>-482.000000</td>\n      <td>1133.000000</td>\n      <td>-0.147470</td>\n      <td>0.009568</td>\n      <td>0.021088</td>\n      <td>-466.000000</td>\n      <td>-0.504127</td>\n      <td>-0.340892</td>\n      <td>0</td>\n      <td>-0.025198</td>\n    </tr>\n    <tr>\n      <th>139530</th>\n      <td>90080.000000</td>\n      <td>118.400</td>\n      <td>-1.267381</td>\n      <td>-425.000000</td>\n      <td>11.620774</td>\n      <td>0.041058</td>\n      <td>-0.221097</td>\n      <td>-1785.000000</td>\n      <td>0.104905</td>\n      <td>-0.005629</td>\n      <td>-0.193661</td>\n      <td>-334.000000</td>\n      <td>-0.094434</td>\n      <td>0.354757</td>\n      <td>0</td>\n      <td>-0.016768</td>\n    </tr>\n    <tr>\n      <th>139533</th>\n      <td>149737.777800</td>\n      <td>7.992</td>\n      <td>-1.250014</td>\n      <td>-0.100398</td>\n      <td>-2.582168</td>\n      <td>0.005482</td>\n      <td>-0.117542</td>\n      <td>1650.000000</td>\n      <td>0.107475</td>\n      <td>0.008159</td>\n      <td>0.046580</td>\n      <td>-467.000000</td>\n      <td>-0.019975</td>\n      <td>1662.000000</td>\n      <td>0</td>\n      <td>-0.018980</td>\n    </tr>\n  </tbody>\n</table>\n<p>266 rows × 16 columns</p>\n</div>"
          },
          "metadata": {}
        }
      ],
      "execution_count": null,
      "block_group": "ac800d10f1f7499cb4899008ccfe9e1c"
    },
    {
      "cell_type": "markdown",
      "source": "# --------------------------------------------- THANK YOU ----------------------------------------------",
      "metadata": {
        "cell_id": "a801d549d1344f71bc497701cdcb1bd6",
        "deepnote_cell_type": "markdown"
      },
      "block_group": "6672f65da8934bbdaee33457474040dd"
    },
    {
      "cell_type": "markdown",
      "source": "<a style='text-decoration:none;line-height:16px;display:flex;color:#5B5B62;padding:10px;justify-content:end;' href='https://deepnote.com?utm_source=created-in-deepnote-cell&projectId=8dfd7a97-3da8-484d-816d-1dcc817bf5f7' target=\"_blank\">\n<img alt='Created in deepnote.com' style='display:inline;max-height:16px;margin:0px;margin-right:7.5px;' src='data:image/svg+xml;base64,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' > </img>\nCreated in <span style='font-weight:600;margin-left:4px;'>Deepnote</span></a>",
      "metadata": {
        "created_in_deepnote_cell": true,
        "deepnote_cell_type": "markdown"
      }
    }
  ],
  "nbformat": 4,
  "nbformat_minor": 0,
  "metadata": {
    "deepnote": {},
    "kernelspec": {
      "name": "python3",
      "language": "python",
      "display_name": "Python 3"
    },
    "language_info": {
      "name": "python",
      "version": "3.8.3",
      "mimetype": "text/x-python",
      "file_extension": ".py",
      "pygments_lexer": "ipython3",
      "codemirror_mode": {
        "name": "ipython",
        "version": 3
      },
      "nbconvert_exporter": "python"
    },
    "deepnote_notebook_id": "f3b76c95f3a746f390f28b57997e23e6",
    "deepnote_execution_queue": []
  }
}